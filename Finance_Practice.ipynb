{
 "cells": [
  {
   "cell_type": "code",
   "execution_count": 1,
   "id": "ad983994-e836-4e85-a0d6-498511d8b6df",
   "metadata": {},
   "outputs": [],
   "source": [
    "import numpy as np\n",
    "from pandas_datareader import data as wb\n",
    "import matplotlib.pyplot as plt"
   ]
  },
  {
   "cell_type": "code",
   "execution_count": 12,
   "id": "a63d6c74-fcaa-4a83-80ff-3452a5b126e0",
   "metadata": {},
   "outputs": [],
   "source": [
    "TSLA = wb.DataReader('TSLA',data_source='yahoo',start='2011-1-1')"
   ]
  },
  {
   "cell_type": "code",
   "execution_count": 13,
   "id": "141fff3f-26cb-4014-8a2f-15d77913b3c1",
   "metadata": {},
   "outputs": [
    {
     "data": {
      "text/html": [
       "<div>\n",
       "<style scoped>\n",
       "    .dataframe tbody tr th:only-of-type {\n",
       "        vertical-align: middle;\n",
       "    }\n",
       "\n",
       "    .dataframe tbody tr th {\n",
       "        vertical-align: top;\n",
       "    }\n",
       "\n",
       "    .dataframe thead th {\n",
       "        text-align: right;\n",
       "    }\n",
       "</style>\n",
       "<table border=\"1\" class=\"dataframe\">\n",
       "  <thead>\n",
       "    <tr style=\"text-align: right;\">\n",
       "      <th></th>\n",
       "      <th>High</th>\n",
       "      <th>Low</th>\n",
       "      <th>Open</th>\n",
       "      <th>Close</th>\n",
       "      <th>Volume</th>\n",
       "      <th>Adj Close</th>\n",
       "    </tr>\n",
       "    <tr>\n",
       "      <th>Date</th>\n",
       "      <th></th>\n",
       "      <th></th>\n",
       "      <th></th>\n",
       "      <th></th>\n",
       "      <th></th>\n",
       "      <th></th>\n",
       "    </tr>\n",
       "  </thead>\n",
       "  <tbody>\n",
       "    <tr>\n",
       "      <th>2010-12-31</th>\n",
       "      <td>5.45</td>\n",
       "      <td>5.300</td>\n",
       "      <td>5.314</td>\n",
       "      <td>5.326</td>\n",
       "      <td>7089500.0</td>\n",
       "      <td>5.326</td>\n",
       "    </tr>\n",
       "    <tr>\n",
       "      <th>2011-01-03</th>\n",
       "      <td>5.40</td>\n",
       "      <td>5.180</td>\n",
       "      <td>5.368</td>\n",
       "      <td>5.324</td>\n",
       "      <td>6415000.0</td>\n",
       "      <td>5.324</td>\n",
       "    </tr>\n",
       "    <tr>\n",
       "      <th>2011-01-04</th>\n",
       "      <td>5.39</td>\n",
       "      <td>5.204</td>\n",
       "      <td>5.332</td>\n",
       "      <td>5.334</td>\n",
       "      <td>5937000.0</td>\n",
       "      <td>5.334</td>\n",
       "    </tr>\n",
       "    <tr>\n",
       "      <th>2011-01-05</th>\n",
       "      <td>5.38</td>\n",
       "      <td>5.238</td>\n",
       "      <td>5.296</td>\n",
       "      <td>5.366</td>\n",
       "      <td>7233500.0</td>\n",
       "      <td>5.366</td>\n",
       "    </tr>\n",
       "    <tr>\n",
       "      <th>2011-01-06</th>\n",
       "      <td>5.60</td>\n",
       "      <td>5.362</td>\n",
       "      <td>5.366</td>\n",
       "      <td>5.576</td>\n",
       "      <td>10306000.0</td>\n",
       "      <td>5.576</td>\n",
       "    </tr>\n",
       "  </tbody>\n",
       "</table>\n",
       "</div>"
      ],
      "text/plain": [
       "            High    Low   Open  Close      Volume  Adj Close\n",
       "Date                                                        \n",
       "2010-12-31  5.45  5.300  5.314  5.326   7089500.0      5.326\n",
       "2011-01-03  5.40  5.180  5.368  5.324   6415000.0      5.324\n",
       "2011-01-04  5.39  5.204  5.332  5.334   5937000.0      5.334\n",
       "2011-01-05  5.38  5.238  5.296  5.366   7233500.0      5.366\n",
       "2011-01-06  5.60  5.362  5.366  5.576  10306000.0      5.576"
      ]
     },
     "execution_count": 13,
     "metadata": {},
     "output_type": "execute_result"
    }
   ],
   "source": [
    "TSLA.head()"
   ]
  },
  {
   "cell_type": "code",
   "execution_count": 14,
   "id": "98a4407b-0f9a-48c0-b851-7bf95ab8828e",
   "metadata": {},
   "outputs": [
    {
     "data": {
      "text/html": [
       "<div>\n",
       "<style scoped>\n",
       "    .dataframe tbody tr th:only-of-type {\n",
       "        vertical-align: middle;\n",
       "    }\n",
       "\n",
       "    .dataframe tbody tr th {\n",
       "        vertical-align: top;\n",
       "    }\n",
       "\n",
       "    .dataframe thead th {\n",
       "        text-align: right;\n",
       "    }\n",
       "</style>\n",
       "<table border=\"1\" class=\"dataframe\">\n",
       "  <thead>\n",
       "    <tr style=\"text-align: right;\">\n",
       "      <th></th>\n",
       "      <th>High</th>\n",
       "      <th>Low</th>\n",
       "      <th>Open</th>\n",
       "      <th>Close</th>\n",
       "      <th>Volume</th>\n",
       "      <th>Adj Close</th>\n",
       "    </tr>\n",
       "    <tr>\n",
       "      <th>Date</th>\n",
       "      <th></th>\n",
       "      <th></th>\n",
       "      <th></th>\n",
       "      <th></th>\n",
       "      <th></th>\n",
       "      <th></th>\n",
       "    </tr>\n",
       "  </thead>\n",
       "  <tbody>\n",
       "    <tr>\n",
       "      <th>2021-11-30</th>\n",
       "      <td>1168.000000</td>\n",
       "      <td>1118.000000</td>\n",
       "      <td>1144.369995</td>\n",
       "      <td>1144.760010</td>\n",
       "      <td>27092000.0</td>\n",
       "      <td>1144.760010</td>\n",
       "    </tr>\n",
       "    <tr>\n",
       "      <th>2021-12-01</th>\n",
       "      <td>1172.839966</td>\n",
       "      <td>1090.760010</td>\n",
       "      <td>1160.699951</td>\n",
       "      <td>1095.000000</td>\n",
       "      <td>22816800.0</td>\n",
       "      <td>1095.000000</td>\n",
       "    </tr>\n",
       "    <tr>\n",
       "      <th>2021-12-02</th>\n",
       "      <td>1113.000000</td>\n",
       "      <td>1056.650024</td>\n",
       "      <td>1099.060059</td>\n",
       "      <td>1084.599976</td>\n",
       "      <td>24371600.0</td>\n",
       "      <td>1084.599976</td>\n",
       "    </tr>\n",
       "    <tr>\n",
       "      <th>2021-12-03</th>\n",
       "      <td>1090.579956</td>\n",
       "      <td>1000.210022</td>\n",
       "      <td>1084.790039</td>\n",
       "      <td>1014.969971</td>\n",
       "      <td>30696300.0</td>\n",
       "      <td>1014.969971</td>\n",
       "    </tr>\n",
       "    <tr>\n",
       "      <th>2021-12-06</th>\n",
       "      <td>1021.640015</td>\n",
       "      <td>950.500000</td>\n",
       "      <td>1001.510010</td>\n",
       "      <td>1009.010010</td>\n",
       "      <td>27145300.0</td>\n",
       "      <td>1009.010010</td>\n",
       "    </tr>\n",
       "  </tbody>\n",
       "</table>\n",
       "</div>"
      ],
      "text/plain": [
       "                   High          Low         Open        Close      Volume  \\\n",
       "Date                                                                         \n",
       "2021-11-30  1168.000000  1118.000000  1144.369995  1144.760010  27092000.0   \n",
       "2021-12-01  1172.839966  1090.760010  1160.699951  1095.000000  22816800.0   \n",
       "2021-12-02  1113.000000  1056.650024  1099.060059  1084.599976  24371600.0   \n",
       "2021-12-03  1090.579956  1000.210022  1084.790039  1014.969971  30696300.0   \n",
       "2021-12-06  1021.640015   950.500000  1001.510010  1009.010010  27145300.0   \n",
       "\n",
       "              Adj Close  \n",
       "Date                     \n",
       "2021-11-30  1144.760010  \n",
       "2021-12-01  1095.000000  \n",
       "2021-12-02  1084.599976  \n",
       "2021-12-03  1014.969971  \n",
       "2021-12-06  1009.010010  "
      ]
     },
     "execution_count": 14,
     "metadata": {},
     "output_type": "execute_result"
    }
   ],
   "source": [
    "TSLA.tail()"
   ]
  },
  {
   "cell_type": "code",
   "execution_count": 15,
   "id": "023f2933-3881-4c31-972f-ef83a4e38454",
   "metadata": {},
   "outputs": [
    {
     "name": "stdout",
     "output_type": "stream",
     "text": [
      "Date\n",
      "2010-12-31         NaN\n",
      "2011-01-03   -0.000376\n",
      "2011-01-04    0.001878\n",
      "2011-01-05    0.005999\n",
      "2011-01-06    0.039135\n",
      "                ...   \n",
      "2021-11-30    0.006834\n",
      "2021-12-01   -0.043468\n",
      "2021-12-02   -0.009498\n",
      "2021-12-03   -0.064199\n",
      "2021-12-06   -0.005872\n",
      "Name: simple_return, Length: 2752, dtype: float64\n"
     ]
    }
   ],
   "source": [
    "TSLA['simple_return'] = (TSLA['Adj Close'] / TSLA['Adj Close'].shift(1)) - 1\n",
    "print(TSLA['simple_return'])"
   ]
  },
  {
   "cell_type": "code",
   "execution_count": 25,
   "id": "2bf5c4ab-d239-4316-8100-bb2774bde320",
   "metadata": {},
   "outputs": [
    {
     "data": {
      "text/plain": [
       "<AxesSubplot:xlabel='Date'>"
      ]
     },
     "execution_count": 25,
     "metadata": {},
     "output_type": "execute_result"
    },
    {
     "data": {
      "image/png": "[encoded data removed]",
      "text/plain": [
       "<Figure size 720x360 with 1 Axes>"
      ]
     },
     "metadata": {
      "needs_background": "light"
     },
     "output_type": "display_data"
    }
   ],
   "source": [
    "TSLA['simple_return'].plot(figsize=(10,5))"
   ]
  },
  {
   "cell_type": "code",
   "execution_count": 24,
   "id": "d6cbc5c7-8d98-488a-8d6f-e1dd9e68ab3b",
   "metadata": {},
   "outputs": [
    {
     "name": "stdout",
     "output_type": "stream",
     "text": [
      "Date\n",
      "2010-12-31         NaN\n",
      "2011-01-03    0.027397\n",
      "2011-01-04    0.007536\n",
      "2011-01-05    0.029344\n",
      "2011-01-06    0.018446\n",
      "                ...   \n",
      "2021-11-30   -0.024403\n",
      "2021-12-01    0.020323\n",
      "2021-12-02    0.014811\n",
      "2021-12-03   -0.036739\n",
      "2021-12-06    0.004180\n",
      "Name: simple_return, Length: 2752, dtype: float64\n"
     ]
    }
   ],
   "source": [
    "F['simple_return'] = (F['Adj Close'] / F['Adj Close'].shift(1)) - 1\n",
    "print(F['simple_return'])"
   ]
  },
  {
   "cell_type": "code",
   "execution_count": 23,
   "id": "e864ad44-232e-45c9-8aab-b9ef6bf47053",
   "metadata": {},
   "outputs": [],
   "source": [
    "F = wb.DataReader('F',data_source='yahoo',start='2011-1-1')"
   ]
  },
  {
   "cell_type": "code",
   "execution_count": 26,
   "id": "cf6dc24f-9547-4301-b052-1dfe24e1492c",
   "metadata": {},
   "outputs": [
    {
     "data": {
      "text/plain": [
       "<AxesSubplot:xlabel='Date'>"
      ]
     },
     "execution_count": 26,
     "metadata": {},
     "output_type": "execute_result"
    },
    {
     "data": {
      "image/png": "[encoded data removed]",
      "text/plain": [
       "<Figure size 720x360 with 1 Axes>"
      ]
     },
     "metadata": {
      "needs_background": "light"
     },
     "output_type": "display_data"
    }
   ],
   "source": [
    "F['simple_return'].plot(figsize=(10,5))"
   ]
  },
  {
   "cell_type": "code",
   "execution_count": 30,
   "id": "8763e87c-6060-47dd-8e96-8936a6d98746",
   "metadata": {},
   "outputs": [
    {
     "data": {
      "text/plain": [
       "0.002509240096257251"
      ]
     },
     "execution_count": 30,
     "metadata": {},
     "output_type": "execute_result"
    }
   ],
   "source": [
    "avg_returns_d = TSLA['simple_return'].mean()\n",
    "avg_returns_d"
   ]
  },
  {
   "cell_type": "code",
   "execution_count": 50,
   "id": "064500a2-52b1-456f-9a87-8385a889464b",
   "metadata": {},
   "outputs": [
    {
     "name": "stdout",
     "output_type": "stream",
     "text": [
      "9.6%\n"
     ]
    }
   ],
   "source": [
    "avg_returns_a = F['simple_return'].mean()*246\n",
    "print(str(round(avg_returns_a,3)*100)+'%')"
   ]
  },
  {
   "cell_type": "code",
   "execution_count": 51,
   "id": "a368fbdb-e637-4da1-8a95-96a8e77e7a31",
   "metadata": {},
   "outputs": [
    {
     "name": "stdout",
     "output_type": "stream",
     "text": [
      "61.7%\n"
     ]
    }
   ],
   "source": [
    "avg_returns_a = TSLA['simple_return'].mean()*246\n",
    "print(str(round(avg_returns_a,3)*100)+'%')"
   ]
  },
  {
   "cell_type": "code",
   "execution_count": 56,
   "id": "abda58f5-8195-43e9-b143-86a4f9860c8e",
   "metadata": {},
   "outputs": [
    {
     "data": {
      "text/html": [
       "<div>\n",
       "<style scoped>\n",
       "    .dataframe tbody tr th:only-of-type {\n",
       "        vertical-align: middle;\n",
       "    }\n",
       "\n",
       "    .dataframe tbody tr th {\n",
       "        vertical-align: top;\n",
       "    }\n",
       "\n",
       "    .dataframe thead th {\n",
       "        text-align: right;\n",
       "    }\n",
       "</style>\n",
       "<table border=\"1\" class=\"dataframe\">\n",
       "  <thead>\n",
       "    <tr style=\"text-align: right;\">\n",
       "      <th></th>\n",
       "      <th>High</th>\n",
       "      <th>Low</th>\n",
       "      <th>Open</th>\n",
       "      <th>Close</th>\n",
       "      <th>Volume</th>\n",
       "      <th>Adj Close</th>\n",
       "      <th>simple_return</th>\n",
       "      <th>log_return</th>\n",
       "    </tr>\n",
       "    <tr>\n",
       "      <th>Date</th>\n",
       "      <th></th>\n",
       "      <th></th>\n",
       "      <th></th>\n",
       "      <th></th>\n",
       "      <th></th>\n",
       "      <th></th>\n",
       "      <th></th>\n",
       "      <th></th>\n",
       "    </tr>\n",
       "  </thead>\n",
       "  <tbody>\n",
       "    <tr>\n",
       "      <th>2010-12-31</th>\n",
       "      <td>5.45</td>\n",
       "      <td>5.300</td>\n",
       "      <td>5.314</td>\n",
       "      <td>5.326</td>\n",
       "      <td>7089500.0</td>\n",
       "      <td>5.326</td>\n",
       "      <td>NaN</td>\n",
       "      <td>NaN</td>\n",
       "    </tr>\n",
       "    <tr>\n",
       "      <th>2011-01-03</th>\n",
       "      <td>5.40</td>\n",
       "      <td>5.180</td>\n",
       "      <td>5.368</td>\n",
       "      <td>5.324</td>\n",
       "      <td>6415000.0</td>\n",
       "      <td>5.324</td>\n",
       "      <td>-0.000376</td>\n",
       "      <td>-0.000376</td>\n",
       "    </tr>\n",
       "    <tr>\n",
       "      <th>2011-01-04</th>\n",
       "      <td>5.39</td>\n",
       "      <td>5.204</td>\n",
       "      <td>5.332</td>\n",
       "      <td>5.334</td>\n",
       "      <td>5937000.0</td>\n",
       "      <td>5.334</td>\n",
       "      <td>0.001878</td>\n",
       "      <td>0.001877</td>\n",
       "    </tr>\n",
       "    <tr>\n",
       "      <th>2011-01-05</th>\n",
       "      <td>5.38</td>\n",
       "      <td>5.238</td>\n",
       "      <td>5.296</td>\n",
       "      <td>5.366</td>\n",
       "      <td>7233500.0</td>\n",
       "      <td>5.366</td>\n",
       "      <td>0.005999</td>\n",
       "      <td>0.005981</td>\n",
       "    </tr>\n",
       "    <tr>\n",
       "      <th>2011-01-06</th>\n",
       "      <td>5.60</td>\n",
       "      <td>5.362</td>\n",
       "      <td>5.366</td>\n",
       "      <td>5.576</td>\n",
       "      <td>10306000.0</td>\n",
       "      <td>5.576</td>\n",
       "      <td>0.039135</td>\n",
       "      <td>0.038389</td>\n",
       "    </tr>\n",
       "  </tbody>\n",
       "</table>\n",
       "</div>"
      ],
      "text/plain": [
       "            High    Low   Open  Close      Volume  Adj Close  simple_return  \\\n",
       "Date                                                                          \n",
       "2010-12-31  5.45  5.300  5.314  5.326   7089500.0      5.326            NaN   \n",
       "2011-01-03  5.40  5.180  5.368  5.324   6415000.0      5.324      -0.000376   \n",
       "2011-01-04  5.39  5.204  5.332  5.334   5937000.0      5.334       0.001878   \n",
       "2011-01-05  5.38  5.238  5.296  5.366   7233500.0      5.366       0.005999   \n",
       "2011-01-06  5.60  5.362  5.366  5.576  10306000.0      5.576       0.039135   \n",
       "\n",
       "            log_return  \n",
       "Date                    \n",
       "2010-12-31         NaN  \n",
       "2011-01-03   -0.000376  \n",
       "2011-01-04    0.001877  \n",
       "2011-01-05    0.005981  \n",
       "2011-01-06    0.038389  "
      ]
     },
     "execution_count": 56,
     "metadata": {},
     "output_type": "execute_result"
    }
   ],
   "source": [
    "TSLA.head()"
   ]
  },
  {
   "cell_type": "code",
   "execution_count": 58,
   "id": "6606f6f8-1120-474c-8bf6-0574ebbb8b2e",
   "metadata": {},
   "outputs": [
    {
     "name": "stdout",
     "output_type": "stream",
     "text": [
      "Date\n",
      "2010-12-31         NaN\n",
      "2011-01-03   -0.000376\n",
      "2011-01-04    0.001877\n",
      "2011-01-05    0.005981\n",
      "2011-01-06    0.038389\n",
      "                ...   \n",
      "2021-11-30    0.006811\n",
      "2021-12-01   -0.044441\n",
      "2021-12-02   -0.009543\n",
      "2021-12-03   -0.066352\n",
      "2021-12-06   -0.005889\n",
      "Name: log_return, Length: 2752, dtype: float64\n"
     ]
    }
   ],
   "source": [
    "TSLA['log_return']=np.log(TSLA['Adj Close']/TSLA['Adj Close'].shift(1))\n",
    "print(TSLA['log_return'])"
   ]
  },
  {
   "cell_type": "code",
   "execution_count": 59,
   "id": "53f5c066-60d9-40d3-9b59-36f203cf6a78",
   "metadata": {},
   "outputs": [
    {
     "data": {
      "image/png": "[encoded data removed]",
      "text/plain": [
       "<Figure size 720x360 with 1 Axes>"
      ]
     },
     "metadata": {
      "needs_background": "light"
     },
     "output_type": "display_data"
    }
   ],
   "source": [
    "TSLA['log_return'].plot(figsize=(10,5))\n",
    "plt.show()"
   ]
  },
  {
   "cell_type": "code",
   "execution_count": 61,
   "id": "a7e72f2d-8649-4290-8162-29935eba5ff2",
   "metadata": {},
   "outputs": [
    {
     "data": {
      "text/plain": [
       "0.00190626114623209"
      ]
     },
     "execution_count": 61,
     "metadata": {},
     "output_type": "execute_result"
    }
   ],
   "source": [
    "log_return_d = TSLA['log_return'].mean()\n",
    "log_return_d"
   ]
  },
  {
   "cell_type": "code",
   "execution_count": 65,
   "id": "befeb0bd-38c5-4e27-b2f4-df161b2ed09d",
   "metadata": {
    "tags": []
   },
   "outputs": [
    {
     "data": {
      "text/plain": [
       "0.46894024197309414"
      ]
     },
     "execution_count": 65,
     "metadata": {},
     "output_type": "execute_result"
    }
   ],
   "source": [
    "log_return_a=TSLA['log_return'].mean()*246\n",
    "log_return_a"
   ]
  },
  {
   "cell_type": "code",
   "execution_count": 64,
   "id": "aba2d1d6-3cb5-43a0-8148-e1adbb057639",
   "metadata": {},
   "outputs": [
    {
     "name": "stdout",
     "output_type": "stream",
     "text": [
      "46.9%\n"
     ]
    }
   ],
   "source": [
    "print(str(round(log_return_a,3)*100)+'%')"
   ]
  },
  {
   "cell_type": "code",
   "execution_count": 66,
   "id": "09815275-7b4a-4adb-9142-bca596890afd",
   "metadata": {},
   "outputs": [],
   "source": [
    "import numpy as np\n",
    "import pandas as pd\n",
    "from pandas_datareader import data as wb\n",
    "import matplotlib.pyplot as plt"
   ]
  },
  {
   "cell_type": "code",
   "execution_count": 74,
   "id": "e42ce201-eed7-4370-a0f3-1cf0bc0780e5",
   "metadata": {},
   "outputs": [],
   "source": [
    "tickers = ['TSLA','F','MSFT','GOOG']\n",
    "mydata = pd.DataFrame()\n",
    "for t in tickers:\n",
    "    mydata[t]=wb.DataReader(t,data_source='yahoo',start='1995-1-1')['Adj Close']"
   ]
  },
  {
   "cell_type": "code",
   "execution_count": 75,
   "id": "ea3be28e-ffef-4511-904e-719c6f4bcf44",
   "metadata": {},
   "outputs": [
    {
     "name": "stdout",
     "output_type": "stream",
     "text": [
      "<class 'pandas.core.frame.DataFrame'>\n",
      "DatetimeIndex: 2881 entries, 2010-06-29 to 2021-12-06\n",
      "Data columns (total 4 columns):\n",
      " #   Column  Non-Null Count  Dtype  \n",
      "---  ------  --------------  -----  \n",
      " 0   TSLA    2881 non-null   float64\n",
      " 1   F       2881 non-null   float64\n",
      " 2   MSFT    2881 non-null   float64\n",
      " 3   GOOG    2881 non-null   float64\n",
      "dtypes: float64(4)\n",
      "memory usage: 112.5 KB\n"
     ]
    }
   ],
   "source": [
    "mydata.info()"
   ]
  },
  {
   "cell_type": "code",
   "execution_count": 76,
   "id": "7f14ad4d-a4fb-4b34-bbca-927a857d7474",
   "metadata": {},
   "outputs": [
    {
     "data": {
      "text/html": [
       "<div>\n",
       "<style scoped>\n",
       "    .dataframe tbody tr th:only-of-type {\n",
       "        vertical-align: middle;\n",
       "    }\n",
       "\n",
       "    .dataframe tbody tr th {\n",
       "        vertical-align: top;\n",
       "    }\n",
       "\n",
       "    .dataframe thead th {\n",
       "        text-align: right;\n",
       "    }\n",
       "</style>\n",
       "<table border=\"1\" class=\"dataframe\">\n",
       "  <thead>\n",
       "    <tr style=\"text-align: right;\">\n",
       "      <th></th>\n",
       "      <th>TSLA</th>\n",
       "      <th>F</th>\n",
       "      <th>MSFT</th>\n",
       "      <th>GOOG</th>\n",
       "    </tr>\n",
       "    <tr>\n",
       "      <th>Date</th>\n",
       "      <th></th>\n",
       "      <th></th>\n",
       "      <th></th>\n",
       "      <th></th>\n",
       "    </tr>\n",
       "  </thead>\n",
       "  <tbody>\n",
       "    <tr>\n",
       "      <th>2010-06-29</th>\n",
       "      <td>4.778</td>\n",
       "      <td>6.663843</td>\n",
       "      <td>18.169851</td>\n",
       "      <td>226.281845</td>\n",
       "    </tr>\n",
       "    <tr>\n",
       "      <th>2010-06-30</th>\n",
       "      <td>4.766</td>\n",
       "      <td>6.798739</td>\n",
       "      <td>17.936007</td>\n",
       "      <td>221.644226</td>\n",
       "    </tr>\n",
       "    <tr>\n",
       "      <th>2010-07-01</th>\n",
       "      <td>4.392</td>\n",
       "      <td>7.129235</td>\n",
       "      <td>18.052938</td>\n",
       "      <td>218.924423</td>\n",
       "    </tr>\n",
       "    <tr>\n",
       "      <th>2010-07-02</th>\n",
       "      <td>3.840</td>\n",
       "      <td>6.933634</td>\n",
       "      <td>18.138678</td>\n",
       "      <td>217.459900</td>\n",
       "    </tr>\n",
       "    <tr>\n",
       "      <th>2010-07-06</th>\n",
       "      <td>3.222</td>\n",
       "      <td>6.852695</td>\n",
       "      <td>18.567396</td>\n",
       "      <td>217.220810</td>\n",
       "    </tr>\n",
       "  </tbody>\n",
       "</table>\n",
       "</div>"
      ],
      "text/plain": [
       "             TSLA         F       MSFT        GOOG\n",
       "Date                                              \n",
       "2010-06-29  4.778  6.663843  18.169851  226.281845\n",
       "2010-06-30  4.766  6.798739  17.936007  221.644226\n",
       "2010-07-01  4.392  7.129235  18.052938  218.924423\n",
       "2010-07-02  3.840  6.933634  18.138678  217.459900\n",
       "2010-07-06  3.222  6.852695  18.567396  217.220810"
      ]
     },
     "execution_count": 76,
     "metadata": {},
     "output_type": "execute_result"
    }
   ],
   "source": [
    "mydata.head()"
   ]
  },
  {
   "cell_type": "code",
   "execution_count": 73,
   "id": "c58f0bce-d8a7-4447-b10f-5227c8574f8c",
   "metadata": {},
   "outputs": [
    {
     "data": {
      "text/html": [
       "<div>\n",
       "<style scoped>\n",
       "    .dataframe tbody tr th:only-of-type {\n",
       "        vertical-align: middle;\n",
       "    }\n",
       "\n",
       "    .dataframe tbody tr th {\n",
       "        vertical-align: top;\n",
       "    }\n",
       "\n",
       "    .dataframe thead th {\n",
       "        text-align: right;\n",
       "    }\n",
       "</style>\n",
       "<table border=\"1\" class=\"dataframe\">\n",
       "  <thead>\n",
       "    <tr style=\"text-align: right;\">\n",
       "      <th></th>\n",
       "      <th>TSLA</th>\n",
       "      <th>F</th>\n",
       "      <th>MSFT</th>\n",
       "      <th>GOOG</th>\n",
       "    </tr>\n",
       "    <tr>\n",
       "      <th>Date</th>\n",
       "      <th></th>\n",
       "      <th></th>\n",
       "      <th></th>\n",
       "      <th></th>\n",
       "    </tr>\n",
       "  </thead>\n",
       "  <tbody>\n",
       "    <tr>\n",
       "      <th>2021-11-30</th>\n",
       "      <td>1144.760010</td>\n",
       "      <td>19.190001</td>\n",
       "      <td>330.589996</td>\n",
       "      <td>2849.040039</td>\n",
       "    </tr>\n",
       "    <tr>\n",
       "      <th>2021-12-01</th>\n",
       "      <td>1095.000000</td>\n",
       "      <td>19.580000</td>\n",
       "      <td>330.079987</td>\n",
       "      <td>2832.360107</td>\n",
       "    </tr>\n",
       "    <tr>\n",
       "      <th>2021-12-02</th>\n",
       "      <td>1084.599976</td>\n",
       "      <td>19.870001</td>\n",
       "      <td>329.489990</td>\n",
       "      <td>2875.530029</td>\n",
       "    </tr>\n",
       "    <tr>\n",
       "      <th>2021-12-03</th>\n",
       "      <td>1014.969971</td>\n",
       "      <td>19.139999</td>\n",
       "      <td>323.010010</td>\n",
       "      <td>2850.409912</td>\n",
       "    </tr>\n",
       "    <tr>\n",
       "      <th>2021-12-06</th>\n",
       "      <td>1009.010010</td>\n",
       "      <td>19.219999</td>\n",
       "      <td>326.190002</td>\n",
       "      <td>2875.929932</td>\n",
       "    </tr>\n",
       "  </tbody>\n",
       "</table>\n",
       "</div>"
      ],
      "text/plain": [
       "                   TSLA          F        MSFT         GOOG\n",
       "Date                                                       \n",
       "2021-11-30  1144.760010  19.190001  330.589996  2849.040039\n",
       "2021-12-01  1095.000000  19.580000  330.079987  2832.360107\n",
       "2021-12-02  1084.599976  19.870001  329.489990  2875.530029\n",
       "2021-12-03  1014.969971  19.139999  323.010010  2850.409912\n",
       "2021-12-06  1009.010010  19.219999  326.190002  2875.929932"
      ]
     },
     "execution_count": 73,
     "metadata": {},
     "output_type": "execute_result"
    }
   ],
   "source": [
    "mydata.tail()"
   ]
  },
  {
   "cell_type": "code",
   "execution_count": 77,
   "id": "b4f0b36a-b266-4eff-8ea2-feda824b8cb8",
   "metadata": {},
   "outputs": [
    {
     "data": {
      "text/plain": [
       "TSLA      4.778000\n",
       "F         6.663843\n",
       "MSFT     18.169851\n",
       "GOOG    226.281845\n",
       "Name: 2010-06-29 00:00:00, dtype: float64"
      ]
     },
     "execution_count": 77,
     "metadata": {},
     "output_type": "execute_result"
    }
   ],
   "source": [
    "mydata.iloc[0]"
   ]
  },
  {
   "cell_type": "code",
   "execution_count": 80,
   "id": "5854a3f7-d3e7-4cd7-9500-18e59e8eda35",
   "metadata": {},
   "outputs": [
    {
     "data": {
      "image/png": "[encoded data removed]",
      "text/plain": [
       "<Figure size 1080x432 with 1 Axes>"
      ]
     },
     "metadata": {
      "needs_background": "light"
     },
     "output_type": "display_data"
    }
   ],
   "source": [
    "(mydata / mydata.iloc[0]*100).plot(figsize = (15,6));\n",
    "plt.show()"
   ]
  },
  {
   "cell_type": "code",
   "execution_count": 81,
   "id": "d2e38bdb-7477-4e04-8afa-0aadc6ee6c51",
   "metadata": {},
   "outputs": [
    {
     "data": {
      "image/png": "[encoded data removed]",
      "text/plain": [
       "<Figure size 1080x432 with 1 Axes>"
      ]
     },
     "metadata": {
      "needs_background": "light"
     },
     "output_type": "display_data"
    }
   ],
   "source": [
    "mydata.plot(figsize=(15,6))\n",
    "plt.show()"
   ]
  },
  {
   "cell_type": "code",
   "execution_count": 84,
   "id": "6ea86e90-f05d-4cc6-9eeb-40127524e4b4",
   "metadata": {},
   "outputs": [
    {
     "data": {
      "text/plain": [
       "TSLA      5.324000\n",
       "F        11.634746\n",
       "MSFT     22.061134\n",
       "GOOG    301.046600\n",
       "Name: 2011-01-03 00:00:00, dtype: float64"
      ]
     },
     "execution_count": 84,
     "metadata": {},
     "output_type": "execute_result"
    }
   ],
   "source": [
    "mydata.loc['2011-01-03']"
   ]
  },
  {
   "cell_type": "code",
   "execution_count": 85,
   "id": "d512b139-ed50-4ef7-a01e-0bfd6ff2b6a0",
   "metadata": {},
   "outputs": [
    {
     "data": {
      "text/plain": [
       "TSLA      4.778000\n",
       "F         6.663843\n",
       "MSFT     18.169851\n",
       "GOOG    226.281845\n",
       "Name: 2010-06-29 00:00:00, dtype: float64"
      ]
     },
     "execution_count": 85,
     "metadata": {},
     "output_type": "execute_result"
    }
   ],
   "source": [
    "mydata.iloc[0]"
   ]
  },
  {
   "cell_type": "code",
   "execution_count": 87,
   "id": "5f68c99a-ecd4-41db-9680-86015404f6d8",
   "metadata": {},
   "outputs": [
    {
     "data": {
      "text/plain": [
       "TSLA      7.066000\n",
       "F        10.751179\n",
       "MSFT     19.916517\n",
       "GOOG    276.817413\n",
       "Name: 2010-11-30 00:00:00, dtype: float64"
      ]
     },
     "execution_count": 87,
     "metadata": {},
     "output_type": "execute_result"
    }
   ],
   "source": [
    "mydata.loc['2010-11-30']"
   ]
  },
  {
   "cell_type": "code",
   "execution_count": 88,
   "id": "77774de7-fcfd-4147-8b2e-bc886b0d6c31",
   "metadata": {},
   "outputs": [
    {
     "data": {
      "text/plain": [
       "TSLA      4.778000\n",
       "F         6.663843\n",
       "MSFT     18.169851\n",
       "GOOG    226.281845\n",
       "Name: 2010-06-29 00:00:00, dtype: float64"
      ]
     },
     "execution_count": 88,
     "metadata": {},
     "output_type": "execute_result"
    }
   ],
   "source": [
    "mydata.iloc[0]"
   ]
  },
  {
   "cell_type": "code",
   "execution_count": 90,
   "id": "33f78581-6b62-46da-929b-d4b3185737f8",
   "metadata": {},
   "outputs": [],
   "source": [
    "##株式ポートフォーリオの利益率の計算"
   ]
  },
  {
   "cell_type": "code",
   "execution_count": 93,
   "id": "56ff45c9-00fb-4520-b296-e28a6f480580",
   "metadata": {},
   "outputs": [
    {
     "data": {
      "text/html": [
       "<div>\n",
       "<style scoped>\n",
       "    .dataframe tbody tr th:only-of-type {\n",
       "        vertical-align: middle;\n",
       "    }\n",
       "\n",
       "    .dataframe tbody tr th {\n",
       "        vertical-align: top;\n",
       "    }\n",
       "\n",
       "    .dataframe thead th {\n",
       "        text-align: right;\n",
       "    }\n",
       "</style>\n",
       "<table border=\"1\" class=\"dataframe\">\n",
       "  <thead>\n",
       "    <tr style=\"text-align: right;\">\n",
       "      <th></th>\n",
       "      <th>TSLA</th>\n",
       "      <th>F</th>\n",
       "      <th>MSFT</th>\n",
       "      <th>GOOG</th>\n",
       "    </tr>\n",
       "    <tr>\n",
       "      <th>Date</th>\n",
       "      <th></th>\n",
       "      <th></th>\n",
       "      <th></th>\n",
       "      <th></th>\n",
       "    </tr>\n",
       "  </thead>\n",
       "  <tbody>\n",
       "    <tr>\n",
       "      <th>2010-06-29</th>\n",
       "      <td>NaN</td>\n",
       "      <td>NaN</td>\n",
       "      <td>NaN</td>\n",
       "      <td>NaN</td>\n",
       "    </tr>\n",
       "    <tr>\n",
       "      <th>2010-06-30</th>\n",
       "      <td>-0.002512</td>\n",
       "      <td>0.020243</td>\n",
       "      <td>-0.012870</td>\n",
       "      <td>-0.020495</td>\n",
       "    </tr>\n",
       "    <tr>\n",
       "      <th>2010-07-01</th>\n",
       "      <td>-0.078472</td>\n",
       "      <td>0.048611</td>\n",
       "      <td>0.006519</td>\n",
       "      <td>-0.012271</td>\n",
       "    </tr>\n",
       "    <tr>\n",
       "      <th>2010-07-02</th>\n",
       "      <td>-0.125683</td>\n",
       "      <td>-0.027436</td>\n",
       "      <td>0.004749</td>\n",
       "      <td>-0.006690</td>\n",
       "    </tr>\n",
       "    <tr>\n",
       "      <th>2010-07-06</th>\n",
       "      <td>-0.160938</td>\n",
       "      <td>-0.011673</td>\n",
       "      <td>0.023636</td>\n",
       "      <td>-0.001099</td>\n",
       "    </tr>\n",
       "  </tbody>\n",
       "</table>\n",
       "</div>"
      ],
      "text/plain": [
       "                TSLA         F      MSFT      GOOG\n",
       "Date                                              \n",
       "2010-06-29       NaN       NaN       NaN       NaN\n",
       "2010-06-30 -0.002512  0.020243 -0.012870 -0.020495\n",
       "2010-07-01 -0.078472  0.048611  0.006519 -0.012271\n",
       "2010-07-02 -0.125683 -0.027436  0.004749 -0.006690\n",
       "2010-07-06 -0.160938 -0.011673  0.023636 -0.001099"
      ]
     },
     "execution_count": 93,
     "metadata": {},
     "output_type": "execute_result"
    }
   ],
   "source": [
    "returns=(mydata/mydata.shift(1))-1\n",
    "returns.head()"
   ]
  },
  {
   "cell_type": "code",
   "execution_count": 99,
   "id": "beb5a1b4-ce35-47ad-97f5-be62bc107de2",
   "metadata": {},
   "outputs": [],
   "source": [
    "weights=np.array([0.25,0.25,0.25,0.25])"
   ]
  },
  {
   "cell_type": "code",
   "execution_count": 100,
   "id": "22ae670b-0191-4863-804b-c23fd4340352",
   "metadata": {},
   "outputs": [
    {
     "data": {
      "text/plain": [
       "array([        nan, -0.00390835, -0.00890318, ...,  0.0046919 ,\n",
       "       -0.03233505,  0.00427641])"
      ]
     },
     "execution_count": 100,
     "metadata": {},
     "output_type": "execute_result"
    }
   ],
   "source": [
    "np.dot(returns,weights)"
   ]
  },
  {
   "cell_type": "code",
   "execution_count": 104,
   "id": "3ab321d9-c216-4432-9e99-343d2908dcc5",
   "metadata": {},
   "outputs": [
    {
     "data": {
      "text/plain": [
       "TSLA    0.620443\n",
       "F       0.141667\n",
       "MSFT    0.281966\n",
       "GOOG    0.253559\n",
       "dtype: float64"
      ]
     },
     "execution_count": 104,
     "metadata": {},
     "output_type": "execute_result"
    }
   ],
   "source": [
    "annual_returns=returns.mean()*250\n",
    "annual_returns"
   ]
  },
  {
   "cell_type": "code",
   "execution_count": 105,
   "id": "9e0a4f86-27e9-401a-9f02-fb804621fd2c",
   "metadata": {},
   "outputs": [
    {
     "name": "stdout",
     "output_type": "stream",
     "text": [
      "32.440000000000005%\n"
     ]
    }
   ],
   "source": [
    "pfolio_1=str(round(np.dot(annual_returns,weights),4)*100)+'%'\n",
    "print(pfolio_1)"
   ]
  },
  {
   "cell_type": "code",
   "execution_count": 106,
   "id": "e8ee82ee-bbaa-42bd-aa61-10c3a62157d7",
   "metadata": {},
   "outputs": [],
   "source": [
    "weight_2=np.array([0.4,0.4,0.15,0.05])"
   ]
  },
  {
   "cell_type": "code",
   "execution_count": 107,
   "id": "32306ea3-5b60-447d-82c9-d7f168eade8f",
   "metadata": {},
   "outputs": [
    {
     "name": "stdout",
     "output_type": "stream",
     "text": [
      "32.440000000000005%\n",
      "35.982%\n"
     ]
    }
   ],
   "source": [
    "pfolio_2=str(round(np.dot(annual_returns,weight_2),5)*100)+'%'\n",
    "print(pfolio_1)\n",
    "print(pfolio_2)"
   ]
  },
  {
   "cell_type": "code",
   "execution_count": 108,
   "id": "52cc2527-783d-4902-83d1-ea04b1fc1baa",
   "metadata": {},
   "outputs": [],
   "source": [
    "##マーケット利益率"
   ]
  },
  {
   "cell_type": "code",
   "execution_count": 110,
   "id": "19398668-4179-4fde-b0c3-43137bea6330",
   "metadata": {},
   "outputs": [],
   "source": [
    "import numpy as np\n",
    "import pandas as pd\n",
    "from pandas_datareader import data as wb\n",
    "import matplotlib.pyplot as plt"
   ]
  },
  {
   "cell_type": "code",
   "execution_count": 117,
   "id": "c4649261-0f1e-4db9-ba36-503043a584bf",
   "metadata": {},
   "outputs": [],
   "source": [
    "tickers = ['^GSPC','^IXIC','^GDAXI']\n",
    "ind_data = pd.DataFrame()\n",
    "for t in tickers:\n",
    "    ind_data[t]=wb.DataReader(t,data_source='yahoo',start='2010-11-30')['Adj Close']"
   ]
  },
  {
   "cell_type": "code",
   "execution_count": 118,
   "id": "a6590497-2824-41e1-ba0a-54ef97b37625",
   "metadata": {},
   "outputs": [
    {
     "data": {
      "text/html": [
       "<div>\n",
       "<style scoped>\n",
       "    .dataframe tbody tr th:only-of-type {\n",
       "        vertical-align: middle;\n",
       "    }\n",
       "\n",
       "    .dataframe tbody tr th {\n",
       "        vertical-align: top;\n",
       "    }\n",
       "\n",
       "    .dataframe thead th {\n",
       "        text-align: right;\n",
       "    }\n",
       "</style>\n",
       "<table border=\"1\" class=\"dataframe\">\n",
       "  <thead>\n",
       "    <tr style=\"text-align: right;\">\n",
       "      <th></th>\n",
       "      <th>^GSPC</th>\n",
       "      <th>^IXIC</th>\n",
       "      <th>^GDAXI</th>\n",
       "    </tr>\n",
       "    <tr>\n",
       "      <th>Date</th>\n",
       "      <th></th>\n",
       "      <th></th>\n",
       "      <th></th>\n",
       "    </tr>\n",
       "  </thead>\n",
       "  <tbody>\n",
       "    <tr>\n",
       "      <th>2010-11-29</th>\n",
       "      <td>1187.760010</td>\n",
       "      <td>2525.219971</td>\n",
       "      <td>6697.970215</td>\n",
       "    </tr>\n",
       "    <tr>\n",
       "      <th>2010-11-30</th>\n",
       "      <td>1180.550049</td>\n",
       "      <td>2498.229980</td>\n",
       "      <td>6688.490234</td>\n",
       "    </tr>\n",
       "    <tr>\n",
       "      <th>2010-12-01</th>\n",
       "      <td>1206.069946</td>\n",
       "      <td>2549.429932</td>\n",
       "      <td>6866.629883</td>\n",
       "    </tr>\n",
       "    <tr>\n",
       "      <th>2010-12-02</th>\n",
       "      <td>1221.530029</td>\n",
       "      <td>2579.350098</td>\n",
       "      <td>6957.609863</td>\n",
       "    </tr>\n",
       "    <tr>\n",
       "      <th>2010-12-03</th>\n",
       "      <td>1224.709961</td>\n",
       "      <td>2591.459961</td>\n",
       "      <td>6947.720215</td>\n",
       "    </tr>\n",
       "  </tbody>\n",
       "</table>\n",
       "</div>"
      ],
      "text/plain": [
       "                  ^GSPC        ^IXIC       ^GDAXI\n",
       "Date                                             \n",
       "2010-11-29  1187.760010  2525.219971  6697.970215\n",
       "2010-11-30  1180.550049  2498.229980  6688.490234\n",
       "2010-12-01  1206.069946  2549.429932  6866.629883\n",
       "2010-12-02  1221.530029  2579.350098  6957.609863\n",
       "2010-12-03  1224.709961  2591.459961  6947.720215"
      ]
     },
     "execution_count": 118,
     "metadata": {},
     "output_type": "execute_result"
    }
   ],
   "source": [
    "ind_data.head()"
   ]
  },
  {
   "cell_type": "code",
   "execution_count": 119,
   "id": "4a2bb953-6bb7-4d2d-8d9f-b0218e9ad5f4",
   "metadata": {},
   "outputs": [
    {
     "data": {
      "text/html": [
       "<div>\n",
       "<style scoped>\n",
       "    .dataframe tbody tr th:only-of-type {\n",
       "        vertical-align: middle;\n",
       "    }\n",
       "\n",
       "    .dataframe tbody tr th {\n",
       "        vertical-align: top;\n",
       "    }\n",
       "\n",
       "    .dataframe thead th {\n",
       "        text-align: right;\n",
       "    }\n",
       "</style>\n",
       "<table border=\"1\" class=\"dataframe\">\n",
       "  <thead>\n",
       "    <tr style=\"text-align: right;\">\n",
       "      <th></th>\n",
       "      <th>^GSPC</th>\n",
       "      <th>^IXIC</th>\n",
       "      <th>^GDAXI</th>\n",
       "    </tr>\n",
       "    <tr>\n",
       "      <th>Date</th>\n",
       "      <th></th>\n",
       "      <th></th>\n",
       "      <th></th>\n",
       "    </tr>\n",
       "  </thead>\n",
       "  <tbody>\n",
       "    <tr>\n",
       "      <th>2021-12-06</th>\n",
       "      <td>4591.669922</td>\n",
       "      <td>15225.150391</td>\n",
       "      <td>15380.790039</td>\n",
       "    </tr>\n",
       "    <tr>\n",
       "      <th>2021-12-07</th>\n",
       "      <td>4686.750000</td>\n",
       "      <td>15686.919922</td>\n",
       "      <td>15813.940430</td>\n",
       "    </tr>\n",
       "    <tr>\n",
       "      <th>2021-12-08</th>\n",
       "      <td>4701.209961</td>\n",
       "      <td>15786.990234</td>\n",
       "      <td>15687.089844</td>\n",
       "    </tr>\n",
       "    <tr>\n",
       "      <th>2021-12-09</th>\n",
       "      <td>4667.450195</td>\n",
       "      <td>15517.370117</td>\n",
       "      <td>15639.259766</td>\n",
       "    </tr>\n",
       "    <tr>\n",
       "      <th>2021-12-10</th>\n",
       "      <td>4712.020020</td>\n",
       "      <td>15630.599609</td>\n",
       "      <td>15623.309570</td>\n",
       "    </tr>\n",
       "  </tbody>\n",
       "</table>\n",
       "</div>"
      ],
      "text/plain": [
       "                  ^GSPC         ^IXIC        ^GDAXI\n",
       "Date                                               \n",
       "2021-12-06  4591.669922  15225.150391  15380.790039\n",
       "2021-12-07  4686.750000  15686.919922  15813.940430\n",
       "2021-12-08  4701.209961  15786.990234  15687.089844\n",
       "2021-12-09  4667.450195  15517.370117  15639.259766\n",
       "2021-12-10  4712.020020  15630.599609  15623.309570"
      ]
     },
     "execution_count": 119,
     "metadata": {},
     "output_type": "execute_result"
    }
   ],
   "source": [
    "ind_data.tail()"
   ]
  },
  {
   "cell_type": "code",
   "execution_count": 122,
   "id": "acc65463-1df6-4921-9dbc-f7f38a011aee",
   "metadata": {},
   "outputs": [
    {
     "data": {
      "text/plain": [
       "<function matplotlib.pyplot.show(close=None, block=None)>"
      ]
     },
     "execution_count": 122,
     "metadata": {},
     "output_type": "execute_result"
    },
    {
     "data": {
      "image/png": "[encoded data removed]",
      "text/plain": [
       "<Figure size 1080x720 with 1 Axes>"
      ]
     },
     "metadata": {
      "needs_background": "light"
     },
     "output_type": "display_data"
    }
   ],
   "source": [
    "(ind_data/ind_data.iloc[0]*100).plot(figsize=(15,10));\n",
    "plt.show"
   ]
  },
  {
   "cell_type": "code",
   "execution_count": 123,
   "id": "5d03ad87-9605-4c68-836e-9683b0e2f725",
   "metadata": {},
   "outputs": [
    {
     "data": {
      "text/html": [
       "<div>\n",
       "<style scoped>\n",
       "    .dataframe tbody tr th:only-of-type {\n",
       "        vertical-align: middle;\n",
       "    }\n",
       "\n",
       "    .dataframe tbody tr th {\n",
       "        vertical-align: top;\n",
       "    }\n",
       "\n",
       "    .dataframe thead th {\n",
       "        text-align: right;\n",
       "    }\n",
       "</style>\n",
       "<table border=\"1\" class=\"dataframe\">\n",
       "  <thead>\n",
       "    <tr style=\"text-align: right;\">\n",
       "      <th></th>\n",
       "      <th>^GSPC</th>\n",
       "      <th>^IXIC</th>\n",
       "      <th>^GDAXI</th>\n",
       "    </tr>\n",
       "    <tr>\n",
       "      <th>Date</th>\n",
       "      <th></th>\n",
       "      <th></th>\n",
       "      <th></th>\n",
       "    </tr>\n",
       "  </thead>\n",
       "  <tbody>\n",
       "    <tr>\n",
       "      <th>2021-12-06</th>\n",
       "      <td>0.011731</td>\n",
       "      <td>0.009259</td>\n",
       "      <td>0.013896</td>\n",
       "    </tr>\n",
       "    <tr>\n",
       "      <th>2021-12-07</th>\n",
       "      <td>0.020707</td>\n",
       "      <td>0.030329</td>\n",
       "      <td>0.028162</td>\n",
       "    </tr>\n",
       "    <tr>\n",
       "      <th>2021-12-08</th>\n",
       "      <td>0.003085</td>\n",
       "      <td>0.006379</td>\n",
       "      <td>-0.008021</td>\n",
       "    </tr>\n",
       "    <tr>\n",
       "      <th>2021-12-09</th>\n",
       "      <td>-0.007181</td>\n",
       "      <td>-0.017079</td>\n",
       "      <td>-0.003049</td>\n",
       "    </tr>\n",
       "    <tr>\n",
       "      <th>2021-12-10</th>\n",
       "      <td>0.009549</td>\n",
       "      <td>0.007297</td>\n",
       "      <td>-0.001020</td>\n",
       "    </tr>\n",
       "  </tbody>\n",
       "</table>\n",
       "</div>"
      ],
      "text/plain": [
       "               ^GSPC     ^IXIC    ^GDAXI\n",
       "Date                                    \n",
       "2021-12-06  0.011731  0.009259  0.013896\n",
       "2021-12-07  0.020707  0.030329  0.028162\n",
       "2021-12-08  0.003085  0.006379 -0.008021\n",
       "2021-12-09 -0.007181 -0.017079 -0.003049\n",
       "2021-12-10  0.009549  0.007297 -0.001020"
      ]
     },
     "execution_count": 123,
     "metadata": {},
     "output_type": "execute_result"
    }
   ],
   "source": [
    "ind_returns=(ind_data/ind_data.shift(1))-1\n",
    "ind_returns.tail()"
   ]
  },
  {
   "cell_type": "code",
   "execution_count": 125,
   "id": "3ccba1d7-86a0-4fba-87b5-24a6560f5851",
   "metadata": {},
   "outputs": [
    {
     "data": {
      "text/plain": [
       "^GSPC     0.138537\n",
       "^IXIC     0.182568\n",
       "^GDAXI    0.096474\n",
       "dtype: float64"
      ]
     },
     "execution_count": 125,
     "metadata": {},
     "output_type": "execute_result"
    }
   ],
   "source": [
    "annual_ind_returns=ind_returns.mean()*250\n",
    "annual_ind_returns"
   ]
  },
  {
   "cell_type": "code",
   "execution_count": 128,
   "id": "59d580f6-56d4-498f-8125-d2bdbc4faf90",
   "metadata": {},
   "outputs": [],
   "source": [
    "tickers=['PG','^GSPC','^DJI']\n",
    "data_2=pd.DataFrame()\n",
    "for t in tickers:\n",
    "    data_2[t]=wb.DataReader(t,data_source='yahoo',start='2010-11-1')['Adj Close']"
   ]
  },
  {
   "cell_type": "code",
   "execution_count": 129,
   "id": "2b53ae1a-9bf7-4391-a785-6e1207fbeeb3",
   "metadata": {},
   "outputs": [
    {
     "data": {
      "text/html": [
       "<div>\n",
       "<style scoped>\n",
       "    .dataframe tbody tr th:only-of-type {\n",
       "        vertical-align: middle;\n",
       "    }\n",
       "\n",
       "    .dataframe tbody tr th {\n",
       "        vertical-align: top;\n",
       "    }\n",
       "\n",
       "    .dataframe thead th {\n",
       "        text-align: right;\n",
       "    }\n",
       "</style>\n",
       "<table border=\"1\" class=\"dataframe\">\n",
       "  <thead>\n",
       "    <tr style=\"text-align: right;\">\n",
       "      <th></th>\n",
       "      <th>PG</th>\n",
       "      <th>^GSPC</th>\n",
       "      <th>^DJI</th>\n",
       "    </tr>\n",
       "    <tr>\n",
       "      <th>Date</th>\n",
       "      <th></th>\n",
       "      <th></th>\n",
       "      <th></th>\n",
       "    </tr>\n",
       "  </thead>\n",
       "  <tbody>\n",
       "    <tr>\n",
       "      <th>2021-12-06</th>\n",
       "      <td>152.149994</td>\n",
       "      <td>4591.669922</td>\n",
       "      <td>35227.031250</td>\n",
       "    </tr>\n",
       "    <tr>\n",
       "      <th>2021-12-07</th>\n",
       "      <td>151.750000</td>\n",
       "      <td>4686.750000</td>\n",
       "      <td>35719.429688</td>\n",
       "    </tr>\n",
       "    <tr>\n",
       "      <th>2021-12-08</th>\n",
       "      <td>152.429993</td>\n",
       "      <td>4701.209961</td>\n",
       "      <td>35754.750000</td>\n",
       "    </tr>\n",
       "    <tr>\n",
       "      <th>2021-12-09</th>\n",
       "      <td>153.320007</td>\n",
       "      <td>4667.450195</td>\n",
       "      <td>35754.691406</td>\n",
       "    </tr>\n",
       "    <tr>\n",
       "      <th>2021-12-10</th>\n",
       "      <td>155.460007</td>\n",
       "      <td>4712.020020</td>\n",
       "      <td>35970.988281</td>\n",
       "    </tr>\n",
       "  </tbody>\n",
       "</table>\n",
       "</div>"
      ],
      "text/plain": [
       "                    PG        ^GSPC          ^DJI\n",
       "Date                                             \n",
       "2021-12-06  152.149994  4591.669922  35227.031250\n",
       "2021-12-07  151.750000  4686.750000  35719.429688\n",
       "2021-12-08  152.429993  4701.209961  35754.750000\n",
       "2021-12-09  153.320007  4667.450195  35754.691406\n",
       "2021-12-10  155.460007  4712.020020  35970.988281"
      ]
     },
     "execution_count": 129,
     "metadata": {},
     "output_type": "execute_result"
    }
   ],
   "source": [
    "data_2.tail()"
   ]
  },
  {
   "cell_type": "code",
   "execution_count": 133,
   "id": "2302947a-7ab7-4f59-94f2-963c674bd5b6",
   "metadata": {},
   "outputs": [
    {
     "data": {
      "image/png": "[encoded data removed]",
      "text/plain": [
       "<Figure size 1080x720 with 1 Axes>"
      ]
     },
     "metadata": {
      "needs_background": "light"
     },
     "output_type": "display_data"
    }
   ],
   "source": [
    "(data_2/data_2.iloc[0]*100).plot(figsize=(15,10));\n",
    "plt.show()"
   ]
  },
  {
   "cell_type": "code",
   "execution_count": 134,
   "id": "c78aa64f-7db9-4c7b-87b6-c368fbea0266",
   "metadata": {},
   "outputs": [],
   "source": [
    "#株式のリスク"
   ]
  },
  {
   "cell_type": "code",
   "execution_count": 135,
   "id": "163d671e-d5eb-4a0d-b458-2511a5033e34",
   "metadata": {},
   "outputs": [],
   "source": [
    "import numpy as np\n",
    "import pandas as pd\n",
    "from pandas_datareader import data as wb\n",
    "import matplotlib.pyplot as plt"
   ]
  },
  {
   "cell_type": "code",
   "execution_count": 137,
   "id": "026b0931-704a-49ca-93eb-270de9b87384",
   "metadata": {},
   "outputs": [],
   "source": [
    "tickers = ['PG','BEI.DE']\n",
    "\n",
    "sec_data = pd.DataFrame()\n",
    "\n",
    "for t in tickers:\n",
    "    sec_data[t] = wb.DataReader(t,data_source = 'yahoo',start='2004-12-28',end = '2019-12-28')['Adj Close']"
   ]
  },
  {
   "cell_type": "code",
   "execution_count": 138,
   "id": "bf306df1-6310-4d96-bd0b-01911ec32066",
   "metadata": {},
   "outputs": [
    {
     "data": {
      "text/html": [
       "<div>\n",
       "<style scoped>\n",
       "    .dataframe tbody tr th:only-of-type {\n",
       "        vertical-align: middle;\n",
       "    }\n",
       "\n",
       "    .dataframe tbody tr th {\n",
       "        vertical-align: top;\n",
       "    }\n",
       "\n",
       "    .dataframe thead th {\n",
       "        text-align: right;\n",
       "    }\n",
       "</style>\n",
       "<table border=\"1\" class=\"dataframe\">\n",
       "  <thead>\n",
       "    <tr style=\"text-align: right;\">\n",
       "      <th></th>\n",
       "      <th>PG</th>\n",
       "      <th>BEI.DE</th>\n",
       "    </tr>\n",
       "    <tr>\n",
       "      <th>Date</th>\n",
       "      <th></th>\n",
       "      <th></th>\n",
       "    </tr>\n",
       "  </thead>\n",
       "  <tbody>\n",
       "    <tr>\n",
       "      <th>2019-12-20</th>\n",
       "      <td>119.338623</td>\n",
       "      <td>105.438469</td>\n",
       "    </tr>\n",
       "    <tr>\n",
       "      <th>2019-12-23</th>\n",
       "      <td>118.900711</td>\n",
       "      <td>105.241478</td>\n",
       "    </tr>\n",
       "    <tr>\n",
       "      <th>2019-12-24</th>\n",
       "      <td>119.205345</td>\n",
       "      <td>NaN</td>\n",
       "    </tr>\n",
       "    <tr>\n",
       "      <th>2019-12-26</th>\n",
       "      <td>119.205345</td>\n",
       "      <td>NaN</td>\n",
       "    </tr>\n",
       "    <tr>\n",
       "      <th>2019-12-27</th>\n",
       "      <td>120.033546</td>\n",
       "      <td>105.142982</td>\n",
       "    </tr>\n",
       "  </tbody>\n",
       "</table>\n",
       "</div>"
      ],
      "text/plain": [
       "                    PG      BEI.DE\n",
       "Date                              \n",
       "2019-12-20  119.338623  105.438469\n",
       "2019-12-23  118.900711  105.241478\n",
       "2019-12-24  119.205345         NaN\n",
       "2019-12-26  119.205345         NaN\n",
       "2019-12-27  120.033546  105.142982"
      ]
     },
     "execution_count": 138,
     "metadata": {},
     "output_type": "execute_result"
    }
   ],
   "source": [
    "sec_data.tail()"
   ]
  },
  {
   "cell_type": "code",
   "execution_count": 139,
   "id": "1df8944b-be86-4c96-8fca-a3d426f6eb24",
   "metadata": {},
   "outputs": [],
   "source": [
    "sec_returns= np.log(sec_data/sec_data.shift(1))"
   ]
  },
  {
   "cell_type": "code",
   "execution_count": 140,
   "id": "030d35c1-03ab-4321-beed-aa6055fc97d7",
   "metadata": {},
   "outputs": [
    {
     "data": {
      "text/html": [
       "<div>\n",
       "<style scoped>\n",
       "    .dataframe tbody tr th:only-of-type {\n",
       "        vertical-align: middle;\n",
       "    }\n",
       "\n",
       "    .dataframe tbody tr th {\n",
       "        vertical-align: top;\n",
       "    }\n",
       "\n",
       "    .dataframe thead th {\n",
       "        text-align: right;\n",
       "    }\n",
       "</style>\n",
       "<table border=\"1\" class=\"dataframe\">\n",
       "  <thead>\n",
       "    <tr style=\"text-align: right;\">\n",
       "      <th></th>\n",
       "      <th>PG</th>\n",
       "      <th>BEI.DE</th>\n",
       "    </tr>\n",
       "    <tr>\n",
       "      <th>Date</th>\n",
       "      <th></th>\n",
       "      <th></th>\n",
       "    </tr>\n",
       "  </thead>\n",
       "  <tbody>\n",
       "    <tr>\n",
       "      <th>2004-12-27</th>\n",
       "      <td>NaN</td>\n",
       "      <td>NaN</td>\n",
       "    </tr>\n",
       "    <tr>\n",
       "      <th>2004-12-28</th>\n",
       "      <td>0.000722</td>\n",
       "      <td>-0.001607</td>\n",
       "    </tr>\n",
       "    <tr>\n",
       "      <th>2004-12-29</th>\n",
       "      <td>-0.003614</td>\n",
       "      <td>-0.004837</td>\n",
       "    </tr>\n",
       "    <tr>\n",
       "      <th>2004-12-30</th>\n",
       "      <td>0.003794</td>\n",
       "      <td>-0.011961</td>\n",
       "    </tr>\n",
       "    <tr>\n",
       "      <th>2004-12-31</th>\n",
       "      <td>-0.006695</td>\n",
       "      <td>0.000000</td>\n",
       "    </tr>\n",
       "    <tr>\n",
       "      <th>...</th>\n",
       "      <td>...</td>\n",
       "      <td>...</td>\n",
       "    </tr>\n",
       "    <tr>\n",
       "      <th>2019-12-20</th>\n",
       "      <td>0.003516</td>\n",
       "      <td>0.018860</td>\n",
       "    </tr>\n",
       "    <tr>\n",
       "      <th>2019-12-23</th>\n",
       "      <td>-0.003676</td>\n",
       "      <td>-0.001870</td>\n",
       "    </tr>\n",
       "    <tr>\n",
       "      <th>2019-12-24</th>\n",
       "      <td>0.002559</td>\n",
       "      <td>NaN</td>\n",
       "    </tr>\n",
       "    <tr>\n",
       "      <th>2019-12-26</th>\n",
       "      <td>0.000000</td>\n",
       "      <td>NaN</td>\n",
       "    </tr>\n",
       "    <tr>\n",
       "      <th>2019-12-27</th>\n",
       "      <td>0.006924</td>\n",
       "      <td>NaN</td>\n",
       "    </tr>\n",
       "  </tbody>\n",
       "</table>\n",
       "<p>3778 rows × 2 columns</p>\n",
       "</div>"
      ],
      "text/plain": [
       "                  PG    BEI.DE\n",
       "Date                          \n",
       "2004-12-27       NaN       NaN\n",
       "2004-12-28  0.000722 -0.001607\n",
       "2004-12-29 -0.003614 -0.004837\n",
       "2004-12-30  0.003794 -0.011961\n",
       "2004-12-31 -0.006695  0.000000\n",
       "...              ...       ...\n",
       "2019-12-20  0.003516  0.018860\n",
       "2019-12-23 -0.003676 -0.001870\n",
       "2019-12-24  0.002559       NaN\n",
       "2019-12-26  0.000000       NaN\n",
       "2019-12-27  0.006924       NaN\n",
       "\n",
       "[3778 rows x 2 columns]"
      ]
     },
     "execution_count": 140,
     "metadata": {},
     "output_type": "execute_result"
    }
   ],
   "source": [
    "sec_returns"
   ]
  },
  {
   "cell_type": "code",
   "execution_count": 141,
   "id": "69ca0f77-1802-45b4-a6a3-79482e5e352e",
   "metadata": {},
   "outputs": [
    {
     "data": {
      "text/plain": [
       "0.0003318027219435397"
      ]
     },
     "execution_count": 141,
     "metadata": {},
     "output_type": "execute_result"
    }
   ],
   "source": [
    "sec_returns['PG'].mean()"
   ]
  },
  {
   "cell_type": "code",
   "execution_count": 142,
   "id": "62a2d216-8973-441f-b45f-6555721d7d63",
   "metadata": {},
   "outputs": [
    {
     "data": {
      "text/plain": [
       "0.08295068048588493"
      ]
     },
     "execution_count": 142,
     "metadata": {},
     "output_type": "execute_result"
    }
   ],
   "source": [
    "sec_returns['PG'].mean()*250"
   ]
  },
  {
   "cell_type": "code",
   "execution_count": 143,
   "id": "48fb8696-d060-4cd9-9187-9d3b07bc8b85",
   "metadata": {},
   "outputs": [
    {
     "data": {
      "text/plain": [
       "0.010681087899745288"
      ]
     },
     "execution_count": 143,
     "metadata": {},
     "output_type": "execute_result"
    }
   ],
   "source": [
    "sec_returns['PG'].std()"
   ]
  },
  {
   "cell_type": "code",
   "execution_count": 145,
   "id": "53e388e4-0dcc-4a64-a993-b0a145b6cf15",
   "metadata": {},
   "outputs": [
    {
     "data": {
      "text/plain": [
       "0.1688828282582966"
      ]
     },
     "execution_count": 145,
     "metadata": {},
     "output_type": "execute_result"
    }
   ],
   "source": [
    "sec_returns['PG'].std()*250**0.5"
   ]
  },
  {
   "cell_type": "code",
   "execution_count": 146,
   "id": "424282b1-2a4e-4635-9f35-60e460a333a6",
   "metadata": {},
   "outputs": [
    {
     "data": {
      "text/plain": [
       "0.0004055092179075285"
      ]
     },
     "execution_count": 146,
     "metadata": {},
     "output_type": "execute_result"
    }
   ],
   "source": [
    "sec_returns['BEI.DE'].mean()"
   ]
  },
  {
   "cell_type": "code",
   "execution_count": 147,
   "id": "b9792e0f-110a-4e73-8617-ad84cda7fd87",
   "metadata": {},
   "outputs": [
    {
     "data": {
      "text/plain": [
       "0.10137730447688213"
      ]
     },
     "execution_count": 147,
     "metadata": {},
     "output_type": "execute_result"
    }
   ],
   "source": [
    "sec_returns['BEI.DE'].mean()*250"
   ]
  },
  {
   "cell_type": "code",
   "execution_count": 148,
   "id": "692512fc-ad25-44a2-aee8-0655834de22a",
   "metadata": {},
   "outputs": [
    {
     "data": {
      "text/plain": [
       "0.013431285338844433"
      ]
     },
     "execution_count": 148,
     "metadata": {},
     "output_type": "execute_result"
    }
   ],
   "source": [
    "sec_returns['BEI.DE'].std()"
   ]
  },
  {
   "cell_type": "code",
   "execution_count": 149,
   "id": "6080a10b-9780-4f04-81f2-99c3156a567c",
   "metadata": {},
   "outputs": [
    {
     "data": {
      "text/plain": [
       "0.21236726787187415"
      ]
     },
     "execution_count": 149,
     "metadata": {},
     "output_type": "execute_result"
    }
   ],
   "source": [
    "sec_returns['BEI.DE'].std()*250**0.5"
   ]
  },
  {
   "cell_type": "code",
   "execution_count": 150,
   "id": "792fe3e7-c254-4dd0-b7db-268963868251",
   "metadata": {},
   "outputs": [
    {
     "name": "stdout",
     "output_type": "stream",
     "text": [
      "0.08295068048588493\n",
      "0.10137730447688213\n"
     ]
    }
   ],
   "source": [
    "print(sec_returns['PG'].mean()*250)\n",
    "print(sec_returns['BEI.DE'].mean()*250)"
   ]
  },
  {
   "cell_type": "code",
   "execution_count": 151,
   "id": "92453ff5-b559-4795-8280-00b343acb84d",
   "metadata": {},
   "outputs": [
    {
     "ename": "KeyError",
     "evalue": "('PG', 'BEI.DE')",
     "output_type": "error",
     "traceback": [
      "\u001b[0;31m---------------------------------------------------------------------------\u001b[0m",
      "\u001b[0;31mKeyError\u001b[0m                                  Traceback (most recent call last)",
      "\u001b[0;32m~/opt/anaconda3/lib/python3.9/site-packages/pandas/core/indexes/base.py\u001b[0m in \u001b[0;36mget_loc\u001b[0;34m(self, key, method, tolerance)\u001b[0m\n\u001b[1;32m   3360\u001b[0m             \u001b[0;32mtry\u001b[0m\u001b[0;34m:\u001b[0m\u001b[0;34m\u001b[0m\u001b[0;34m\u001b[0m\u001b[0m\n\u001b[0;32m-> 3361\u001b[0;31m                 \u001b[0;32mreturn\u001b[0m \u001b[0mself\u001b[0m\u001b[0;34m.\u001b[0m\u001b[0m_engine\u001b[0m\u001b[0;34m.\u001b[0m\u001b[0mget_loc\u001b[0m\u001b[0;34m(\u001b[0m\u001b[0mcasted_key\u001b[0m\u001b[0;34m)\u001b[0m\u001b[0;34m\u001b[0m\u001b[0;34m\u001b[0m\u001b[0m\n\u001b[0m\u001b[1;32m   3362\u001b[0m             \u001b[0;32mexcept\u001b[0m \u001b[0mKeyError\u001b[0m \u001b[0;32mas\u001b[0m \u001b[0merr\u001b[0m\u001b[0;34m:\u001b[0m\u001b[0;34m\u001b[0m\u001b[0;34m\u001b[0m\u001b[0m\n",
      "\u001b[0;32m~/opt/anaconda3/lib/python3.9/site-packages/pandas/_libs/index.pyx\u001b[0m in \u001b[0;36mpandas._libs.index.IndexEngine.get_loc\u001b[0;34m()\u001b[0m\n",
      "\u001b[0;32m~/opt/anaconda3/lib/python3.9/site-packages/pandas/_libs/index.pyx\u001b[0m in \u001b[0;36mpandas._libs.index.IndexEngine.get_loc\u001b[0;34m()\u001b[0m\n",
      "\u001b[0;32mpandas/_libs/hashtable_class_helper.pxi\u001b[0m in \u001b[0;36mpandas._libs.hashtable.PyObjectHashTable.get_item\u001b[0;34m()\u001b[0m\n",
      "\u001b[0;32mpandas/_libs/hashtable_class_helper.pxi\u001b[0m in \u001b[0;36mpandas._libs.hashtable.PyObjectHashTable.get_item\u001b[0;34m()\u001b[0m\n",
      "\u001b[0;31mKeyError\u001b[0m: ('PG', 'BEI.DE')",
      "\nThe above exception was the direct cause of the following exception:\n",
      "\u001b[0;31mKeyError\u001b[0m                                  Traceback (most recent call last)",
      "\u001b[0;32m/var/folders/ss/jbyfcr_s1rl1jgk30kfr_pb80000gn/T/ipykernel_38787/2875799210.py\u001b[0m in \u001b[0;36m<module>\u001b[0;34m\u001b[0m\n\u001b[0;32m----> 1\u001b[0;31m \u001b[0msec_returns\u001b[0m\u001b[0;34m[\u001b[0m\u001b[0;34m'PG'\u001b[0m\u001b[0;34m,\u001b[0m\u001b[0;34m'BEI.DE'\u001b[0m\u001b[0;34m]\u001b[0m\u001b[0;34m.\u001b[0m\u001b[0mmean\u001b[0m\u001b[0;34m(\u001b[0m\u001b[0;34m)\u001b[0m\u001b[0;34m*\u001b[0m\u001b[0;36m250\u001b[0m\u001b[0;34m\u001b[0m\u001b[0;34m\u001b[0m\u001b[0m\n\u001b[0m",
      "\u001b[0;32m~/opt/anaconda3/lib/python3.9/site-packages/pandas/core/frame.py\u001b[0m in \u001b[0;36m__getitem__\u001b[0;34m(self, key)\u001b[0m\n\u001b[1;32m   3456\u001b[0m             \u001b[0;32mif\u001b[0m \u001b[0mself\u001b[0m\u001b[0;34m.\u001b[0m\u001b[0mcolumns\u001b[0m\u001b[0;34m.\u001b[0m\u001b[0mnlevels\u001b[0m \u001b[0;34m>\u001b[0m \u001b[0;36m1\u001b[0m\u001b[0;34m:\u001b[0m\u001b[0;34m\u001b[0m\u001b[0;34m\u001b[0m\u001b[0m\n\u001b[1;32m   3457\u001b[0m                 \u001b[0;32mreturn\u001b[0m \u001b[0mself\u001b[0m\u001b[0;34m.\u001b[0m\u001b[0m_getitem_multilevel\u001b[0m\u001b[0;34m(\u001b[0m\u001b[0mkey\u001b[0m\u001b[0;34m)\u001b[0m\u001b[0;34m\u001b[0m\u001b[0;34m\u001b[0m\u001b[0m\n\u001b[0;32m-> 3458\u001b[0;31m             \u001b[0mindexer\u001b[0m \u001b[0;34m=\u001b[0m \u001b[0mself\u001b[0m\u001b[0;34m.\u001b[0m\u001b[0mcolumns\u001b[0m\u001b[0;34m.\u001b[0m\u001b[0mget_loc\u001b[0m\u001b[0;34m(\u001b[0m\u001b[0mkey\u001b[0m\u001b[0;34m)\u001b[0m\u001b[0;34m\u001b[0m\u001b[0;34m\u001b[0m\u001b[0m\n\u001b[0m\u001b[1;32m   3459\u001b[0m             \u001b[0;32mif\u001b[0m \u001b[0mis_integer\u001b[0m\u001b[0;34m(\u001b[0m\u001b[0mindexer\u001b[0m\u001b[0;34m)\u001b[0m\u001b[0;34m:\u001b[0m\u001b[0;34m\u001b[0m\u001b[0;34m\u001b[0m\u001b[0m\n\u001b[1;32m   3460\u001b[0m                 \u001b[0mindexer\u001b[0m \u001b[0;34m=\u001b[0m \u001b[0;34m[\u001b[0m\u001b[0mindexer\u001b[0m\u001b[0;34m]\u001b[0m\u001b[0;34m\u001b[0m\u001b[0;34m\u001b[0m\u001b[0m\n",
      "\u001b[0;32m~/opt/anaconda3/lib/python3.9/site-packages/pandas/core/indexes/base.py\u001b[0m in \u001b[0;36mget_loc\u001b[0;34m(self, key, method, tolerance)\u001b[0m\n\u001b[1;32m   3361\u001b[0m                 \u001b[0;32mreturn\u001b[0m \u001b[0mself\u001b[0m\u001b[0;34m.\u001b[0m\u001b[0m_engine\u001b[0m\u001b[0;34m.\u001b[0m\u001b[0mget_loc\u001b[0m\u001b[0;34m(\u001b[0m\u001b[0mcasted_key\u001b[0m\u001b[0;34m)\u001b[0m\u001b[0;34m\u001b[0m\u001b[0;34m\u001b[0m\u001b[0m\n\u001b[1;32m   3362\u001b[0m             \u001b[0;32mexcept\u001b[0m \u001b[0mKeyError\u001b[0m \u001b[0;32mas\u001b[0m \u001b[0merr\u001b[0m\u001b[0;34m:\u001b[0m\u001b[0;34m\u001b[0m\u001b[0;34m\u001b[0m\u001b[0m\n\u001b[0;32m-> 3363\u001b[0;31m                 \u001b[0;32mraise\u001b[0m \u001b[0mKeyError\u001b[0m\u001b[0;34m(\u001b[0m\u001b[0mkey\u001b[0m\u001b[0;34m)\u001b[0m \u001b[0;32mfrom\u001b[0m \u001b[0merr\u001b[0m\u001b[0;34m\u001b[0m\u001b[0;34m\u001b[0m\u001b[0m\n\u001b[0m\u001b[1;32m   3364\u001b[0m \u001b[0;34m\u001b[0m\u001b[0m\n\u001b[1;32m   3365\u001b[0m         \u001b[0;32mif\u001b[0m \u001b[0mis_scalar\u001b[0m\u001b[0;34m(\u001b[0m\u001b[0mkey\u001b[0m\u001b[0;34m)\u001b[0m \u001b[0;32mand\u001b[0m \u001b[0misna\u001b[0m\u001b[0;34m(\u001b[0m\u001b[0mkey\u001b[0m\u001b[0;34m)\u001b[0m \u001b[0;32mand\u001b[0m \u001b[0;32mnot\u001b[0m \u001b[0mself\u001b[0m\u001b[0;34m.\u001b[0m\u001b[0mhasnans\u001b[0m\u001b[0;34m:\u001b[0m\u001b[0;34m\u001b[0m\u001b[0;34m\u001b[0m\u001b[0m\n",
      "\u001b[0;31mKeyError\u001b[0m: ('PG', 'BEI.DE')"
     ]
    }
   ],
   "source": [
    "sec_returns['PG','BEI.DE'].mean()*250"
   ]
  },
  {
   "cell_type": "code",
   "execution_count": 152,
   "id": "d4a38f22-6394-4c78-bccc-bf069867d3a0",
   "metadata": {},
   "outputs": [
    {
     "data": {
      "text/plain": [
       "PG        0.082951\n",
       "BEI.DE    0.101377\n",
       "dtype: float64"
      ]
     },
     "execution_count": 152,
     "metadata": {},
     "output_type": "execute_result"
    }
   ],
   "source": [
    "sec_returns[['PG','BEI.DE']].mean()*250"
   ]
  },
  {
   "cell_type": "code",
   "execution_count": 153,
   "id": "03822f25-fd6a-402a-912f-a78ee56ea8f1",
   "metadata": {},
   "outputs": [
    {
     "data": {
      "text/plain": [
       "PG        0.168883\n",
       "BEI.DE    0.212367\n",
       "dtype: float64"
      ]
     },
     "execution_count": 153,
     "metadata": {},
     "output_type": "execute_result"
    }
   ],
   "source": [
    "sec_returns[['PG','BEI.DE']].std()*250**0.5"
   ]
  },
  {
   "cell_type": "code",
   "execution_count": 154,
   "id": "77bac2d9-ccff-4778-b639-b325f5a376e7",
   "metadata": {},
   "outputs": [
    {
     "data": {
      "text/plain": [
       "0.0001140856387220852"
      ]
     },
     "execution_count": 154,
     "metadata": {},
     "output_type": "execute_result"
    }
   ],
   "source": [
    "PG_var = sec_returns['PG'].var()\n",
    "PG_var"
   ]
  },
  {
   "cell_type": "code",
   "execution_count": 157,
   "id": "65d12a3e-a56f-4e13-a9b5-1839725702bc",
   "metadata": {},
   "outputs": [
    {
     "data": {
      "text/plain": [
       "0.045099856463364354"
      ]
     },
     "execution_count": 157,
     "metadata": {},
     "output_type": "execute_result"
    }
   ],
   "source": [
    "BEI_var = sec_returns['BEI.DE'].var()*250\n",
    "BEI_var"
   ]
  },
  {
   "cell_type": "code",
   "execution_count": 158,
   "id": "12ff8870-fe4f-41c6-a376-e300feb61997",
   "metadata": {},
   "outputs": [
    {
     "data": {
      "text/plain": [
       "0.0285214096805213"
      ]
     },
     "execution_count": 158,
     "metadata": {},
     "output_type": "execute_result"
    }
   ],
   "source": [
    "PG_var_a = sec_returns['PG'].var()*250\n",
    "PG_var_a"
   ]
  },
  {
   "cell_type": "code",
   "execution_count": 159,
   "id": "34536e51-9cc9-4f86-b2ac-7fcd6edc60c1",
   "metadata": {},
   "outputs": [
    {
     "data": {
      "text/plain": [
       "0.045099856463364354"
      ]
     },
     "execution_count": 159,
     "metadata": {},
     "output_type": "execute_result"
    }
   ],
   "source": [
    "BEI_var_a = sec_returns['BEI.DE'].var()*250\n",
    "BEI_var_a"
   ]
  },
  {
   "cell_type": "code",
   "execution_count": 160,
   "id": "f446bc63-fd01-43f8-8dad-e3ffdbca5918",
   "metadata": {},
   "outputs": [
    {
     "data": {
      "text/html": [
       "<div>\n",
       "<style scoped>\n",
       "    .dataframe tbody tr th:only-of-type {\n",
       "        vertical-align: middle;\n",
       "    }\n",
       "\n",
       "    .dataframe tbody tr th {\n",
       "        vertical-align: top;\n",
       "    }\n",
       "\n",
       "    .dataframe thead th {\n",
       "        text-align: right;\n",
       "    }\n",
       "</style>\n",
       "<table border=\"1\" class=\"dataframe\">\n",
       "  <thead>\n",
       "    <tr style=\"text-align: right;\">\n",
       "      <th></th>\n",
       "      <th>PG</th>\n",
       "      <th>BEI.DE</th>\n",
       "    </tr>\n",
       "  </thead>\n",
       "  <tbody>\n",
       "    <tr>\n",
       "      <th>PG</th>\n",
       "      <td>0.000114</td>\n",
       "      <td>0.000034</td>\n",
       "    </tr>\n",
       "    <tr>\n",
       "      <th>BEI.DE</th>\n",
       "      <td>0.000034</td>\n",
       "      <td>0.000180</td>\n",
       "    </tr>\n",
       "  </tbody>\n",
       "</table>\n",
       "</div>"
      ],
      "text/plain": [
       "              PG    BEI.DE\n",
       "PG      0.000114  0.000034\n",
       "BEI.DE  0.000034  0.000180"
      ]
     },
     "execution_count": 160,
     "metadata": {},
     "output_type": "execute_result"
    }
   ],
   "source": [
    "cov_matrix=sec_returns.cov()\n",
    "cov_matrix"
   ]
  },
  {
   "cell_type": "code",
   "execution_count": 161,
   "id": "55694ae5-5d74-4d14-830b-9e8100637321",
   "metadata": {},
   "outputs": [
    {
     "data": {
      "text/html": [
       "<div>\n",
       "<style scoped>\n",
       "    .dataframe tbody tr th:only-of-type {\n",
       "        vertical-align: middle;\n",
       "    }\n",
       "\n",
       "    .dataframe tbody tr th {\n",
       "        vertical-align: top;\n",
       "    }\n",
       "\n",
       "    .dataframe thead th {\n",
       "        text-align: right;\n",
       "    }\n",
       "</style>\n",
       "<table border=\"1\" class=\"dataframe\">\n",
       "  <thead>\n",
       "    <tr style=\"text-align: right;\">\n",
       "      <th></th>\n",
       "      <th>PG</th>\n",
       "      <th>BEI.DE</th>\n",
       "    </tr>\n",
       "  </thead>\n",
       "  <tbody>\n",
       "    <tr>\n",
       "      <th>PG</th>\n",
       "      <td>0.028521</td>\n",
       "      <td>0.008584</td>\n",
       "    </tr>\n",
       "    <tr>\n",
       "      <th>BEI.DE</th>\n",
       "      <td>0.008584</td>\n",
       "      <td>0.045100</td>\n",
       "    </tr>\n",
       "  </tbody>\n",
       "</table>\n",
       "</div>"
      ],
      "text/plain": [
       "              PG    BEI.DE\n",
       "PG      0.028521  0.008584\n",
       "BEI.DE  0.008584  0.045100"
      ]
     },
     "execution_count": 161,
     "metadata": {},
     "output_type": "execute_result"
    }
   ],
   "source": [
    "cov_matrix_a = sec_returns.cov()*250\n",
    "cov_matrix_a"
   ]
  },
  {
   "cell_type": "code",
   "execution_count": 162,
   "id": "3e4e9738-34ac-407d-a7b1-0c7ba7591f47",
   "metadata": {},
   "outputs": [
    {
     "data": {
      "text/html": [
       "<div>\n",
       "<style scoped>\n",
       "    .dataframe tbody tr th:only-of-type {\n",
       "        vertical-align: middle;\n",
       "    }\n",
       "\n",
       "    .dataframe tbody tr th {\n",
       "        vertical-align: top;\n",
       "    }\n",
       "\n",
       "    .dataframe thead th {\n",
       "        text-align: right;\n",
       "    }\n",
       "</style>\n",
       "<table border=\"1\" class=\"dataframe\">\n",
       "  <thead>\n",
       "    <tr style=\"text-align: right;\">\n",
       "      <th></th>\n",
       "      <th>PG</th>\n",
       "      <th>BEI.DE</th>\n",
       "    </tr>\n",
       "  </thead>\n",
       "  <tbody>\n",
       "    <tr>\n",
       "      <th>PG</th>\n",
       "      <td>1.000000</td>\n",
       "      <td>0.239366</td>\n",
       "    </tr>\n",
       "    <tr>\n",
       "      <th>BEI.DE</th>\n",
       "      <td>0.239366</td>\n",
       "      <td>1.000000</td>\n",
       "    </tr>\n",
       "  </tbody>\n",
       "</table>\n",
       "</div>"
      ],
      "text/plain": [
       "              PG    BEI.DE\n",
       "PG      1.000000  0.239366\n",
       "BEI.DE  0.239366  1.000000"
      ]
     },
     "execution_count": 162,
     "metadata": {},
     "output_type": "execute_result"
    }
   ],
   "source": [
    "corr_matrix=sec_returns.corr()\n",
    "corr_matrix"
   ]
  },
  {
   "cell_type": "code",
   "execution_count": 163,
   "id": "2991675e-e5d1-4a0e-b8d6-0aa1fcdf9ce8",
   "metadata": {},
   "outputs": [],
   "source": [
    "#ポートフォーリオのリスク計算"
   ]
  },
  {
   "cell_type": "code",
   "execution_count": 166,
   "id": "c63374cf-045c-4cc2-b703-3893fb976fdf",
   "metadata": {},
   "outputs": [],
   "source": [
    "weights=np.array([0.5,0.5])"
   ]
  },
  {
   "cell_type": "code",
   "execution_count": 167,
   "id": "ff6db4f5-428d-41ec-80e1-f05452c8c03b",
   "metadata": {},
   "outputs": [
    {
     "data": {
      "text/plain": [
       "0.022697492519033455"
      ]
     },
     "execution_count": 167,
     "metadata": {},
     "output_type": "execute_result"
    }
   ],
   "source": [
    "pfolio_var = np.dot(weight.T, np.dot(sec_returns.cov()*250,weights))\n",
    "pfolio_var"
   ]
  },
  {
   "cell_type": "code",
   "execution_count": 168,
   "id": "d0b1b816-b88b-471c-840c-3d1bc4fcded5",
   "metadata": {},
   "outputs": [
    {
     "data": {
      "text/plain": [
       "0.15065687013552836"
      ]
     },
     "execution_count": 168,
     "metadata": {},
     "output_type": "execute_result"
    }
   ],
   "source": [
    "pfolio_vol =  (np.dot(weight.T,np.dot(sec_returns.cov()*250,weight)))**0.5\n",
    "pfolio_vol"
   ]
  },
  {
   "cell_type": "code",
   "execution_count": 174,
   "id": "882f392c-9290-4ac1-8f5a-f5d52a9616b0",
   "metadata": {},
   "outputs": [
    {
     "name": "stdout",
     "output_type": "stream",
     "text": [
      "15.065999999999999%\n"
     ]
    }
   ],
   "source": [
    "print(str(round(pfolio_vol,5)*100)+'%')"
   ]
  },
  {
   "cell_type": "code",
   "execution_count": 170,
   "id": "a74c36f8-544b-4364-85ac-407124dcd42f",
   "metadata": {},
   "outputs": [],
   "source": [
    "weights=np.array([0.5,0.5])"
   ]
  },
  {
   "cell_type": "code",
   "execution_count": 172,
   "id": "4a566697-c7a0-4ca0-b3fa-a58746aaeec6",
   "metadata": {},
   "outputs": [
    {
     "data": {
      "text/plain": [
       "0.5"
      ]
     },
     "execution_count": 172,
     "metadata": {},
     "output_type": "execute_result"
    }
   ],
   "source": [
    "weights[0]"
   ]
  },
  {
   "cell_type": "code",
   "execution_count": 173,
   "id": "41039eaa-878c-4f58-a80b-427698c8ad92",
   "metadata": {},
   "outputs": [
    {
     "data": {
      "text/plain": [
       "0.5"
      ]
     },
     "execution_count": 173,
     "metadata": {},
     "output_type": "execute_result"
    }
   ],
   "source": [
    "weight[1]"
   ]
  },
  {
   "cell_type": "code",
   "execution_count": 175,
   "id": "1cfe5f13-f07e-4b7b-ac54-e726ed4d2f53",
   "metadata": {},
   "outputs": [],
   "source": [
    "#分散可能なリスク"
   ]
  },
  {
   "cell_type": "code",
   "execution_count": 177,
   "id": "8fa8ec52-4eab-467f-a3ce-f9b879cf0824",
   "metadata": {},
   "outputs": [
    {
     "data": {
      "text/plain": [
       "PG    0.028521\n",
       "dtype: float64"
      ]
     },
     "execution_count": 177,
     "metadata": {},
     "output_type": "execute_result"
    }
   ],
   "source": [
    "PG_var_a = sec_returns[['PG']].var()*250\n",
    "PG_var_a"
   ]
  },
  {
   "cell_type": "code",
   "execution_count": 178,
   "id": "d17ac668-64d7-4b0d-87ad-d77883eb3277",
   "metadata": {},
   "outputs": [
    {
     "data": {
      "text/plain": [
       "BEI.DE    0.0451\n",
       "dtype: float64"
      ]
     },
     "execution_count": 178,
     "metadata": {},
     "output_type": "execute_result"
    }
   ],
   "source": [
    "BEI_var_a = sec_returns[['BEI.DE']].var()*250\n",
    "BEI_var_a"
   ]
  },
  {
   "cell_type": "code",
   "execution_count": 182,
   "id": "d5adf146-08d5-426f-9570-c3852e6d040b",
   "metadata": {},
   "outputs": [
    {
     "data": {
      "text/plain": [
       "BEI.DE   NaN\n",
       "PG       NaN\n",
       "dtype: float64"
      ]
     },
     "execution_count": 182,
     "metadata": {},
     "output_type": "execute_result"
    }
   ],
   "source": [
    "dr=pfolio_var - (weights[0]**2**PG_var_a)-(weights[1]**2*BEI_var_a)\n",
    "dr"
   ]
  },
  {
   "cell_type": "code",
   "execution_count": 184,
   "id": "9201c1fa-da20-44ed-a95e-177a12429184",
   "metadata": {},
   "outputs": [
    {
     "data": {
      "text/plain": [
       "pandas.core.series.Series"
      ]
     },
     "execution_count": 184,
     "metadata": {},
     "output_type": "execute_result"
    }
   ],
   "source": [
    "float(PG_var_a)\n",
    "type(PG_var_a)"
   ]
  },
  {
   "cell_type": "code",
   "execution_count": 185,
   "id": "9f19221f-4fab-4676-aa06-418cd81a53c5",
   "metadata": {},
   "outputs": [
    {
     "data": {
      "text/plain": [
       "0.0285214096805213"
      ]
     },
     "execution_count": 185,
     "metadata": {},
     "output_type": "execute_result"
    }
   ],
   "source": [
    "PG_var_a=sec_returns['PG'].var()*250\n",
    "PG_var_a"
   ]
  },
  {
   "cell_type": "code",
   "execution_count": 186,
   "id": "efe8e806-8c5a-4cee-be97-6e53e7e3d618",
   "metadata": {},
   "outputs": [
    {
     "data": {
      "text/plain": [
       "0.045099856463364354"
      ]
     },
     "execution_count": 186,
     "metadata": {},
     "output_type": "execute_result"
    }
   ],
   "source": [
    "BEI_var_a = sec_returns['BEI.DE'].var()*250\n",
    "BEI_var_a"
   ]
  },
  {
   "cell_type": "code",
   "execution_count": 190,
   "id": "06acf2e8-982e-4284-9cc4-87651ec8f63e",
   "metadata": {},
   "outputs": [
    {
     "data": {
      "text/plain": [
       "0.00429217598306204"
      ]
     },
     "execution_count": 190,
     "metadata": {},
     "output_type": "execute_result"
    }
   ],
   "source": [
    "dr = pfolio_var - (weights[0]**2*PG_var_a) - (weights[1]**2*BEI_var_a)\n",
    "dr"
   ]
  },
  {
   "cell_type": "code",
   "execution_count": 191,
   "id": "8ebd0917-c73f-4901-83d4-6bda846c8626",
   "metadata": {},
   "outputs": [
    {
     "name": "stdout",
     "output_type": "stream",
     "text": [
      "0.429%\n"
     ]
    }
   ],
   "source": [
    "print(str(round(dr*100,3))+'%')"
   ]
  },
  {
   "cell_type": "code",
   "execution_count": 192,
   "id": "c8bde8d7-88e7-468b-a62a-ff2afe3ca505",
   "metadata": {},
   "outputs": [],
   "source": [
    "#分散不可能なリスク"
   ]
  },
  {
   "cell_type": "code",
   "execution_count": 207,
   "id": "73eff89c-bab3-4c13-b569-156bc2164981",
   "metadata": {},
   "outputs": [
    {
     "data": {
      "text/plain": [
       "0.0"
      ]
     },
     "execution_count": 207,
     "metadata": {},
     "output_type": "execute_result"
    }
   ],
   "source": [
    "n_dr_1 = pfolio_var - dr\n",
    "n_dr_1"
   ]
  },
  {
   "cell_type": "code",
   "execution_count": 208,
   "id": "cf0a7039-9a1c-44d4-b3c4-def4a00d7138",
   "metadata": {},
   "outputs": [
    {
     "data": {
      "text/plain": [
       "0.018405316535971415"
      ]
     },
     "execution_count": 208,
     "metadata": {},
     "output_type": "execute_result"
    }
   ],
   "source": [
    "n_dr_2=(weights[0]**2*PG_var_a)+(weights[1]**2*BEI_var_a)\n",
    "n_dr_2"
   ]
  },
  {
   "cell_type": "code",
   "execution_count": 209,
   "id": "a5254698-646a-42bf-8f67-07706f5cdffd",
   "metadata": {},
   "outputs": [
    {
     "data": {
      "text/plain": [
       "False"
      ]
     },
     "execution_count": 209,
     "metadata": {},
     "output_type": "execute_result"
    }
   ],
   "source": [
    "n_dr_1==n_dr_2"
   ]
  },
  {
   "cell_type": "code",
   "execution_count": 210,
   "id": "bdc1bfff-3804-40e3-82d9-a2c2cce72802",
   "metadata": {},
   "outputs": [],
   "source": [
    "#回帰分析"
   ]
  },
  {
   "cell_type": "code",
   "execution_count": 211,
   "id": "72c1a939-84eb-43f3-b2a7-de0882f84c01",
   "metadata": {},
   "outputs": [],
   "source": [
    "import numpy as np\n",
    "import pandas as pd\n",
    "\n",
    "from scipy import stats\n",
    "import statsmodels.api as sm\n",
    "\n",
    "import matplotlib.pyplot as plt"
   ]
  },
  {
   "cell_type": "code",
   "execution_count": 212,
   "id": "034fcc86-f914-4611-bb68-ba08924d848b",
   "metadata": {},
   "outputs": [],
   "source": [
    "data = pd.read_excel('Housing.xlsx')"
   ]
  },
  {
   "cell_type": "code",
   "execution_count": 213,
   "id": "63230de2-ccc1-4968-9f2d-207c6a663005",
   "metadata": {},
   "outputs": [
    {
     "data": {
      "text/html": [
       "<div>\n",
       "<style scoped>\n",
       "    .dataframe tbody tr th:only-of-type {\n",
       "        vertical-align: middle;\n",
       "    }\n",
       "\n",
       "    .dataframe tbody tr th {\n",
       "        vertical-align: top;\n",
       "    }\n",
       "\n",
       "    .dataframe thead th {\n",
       "        text-align: right;\n",
       "    }\n",
       "</style>\n",
       "<table border=\"1\" class=\"dataframe\">\n",
       "  <thead>\n",
       "    <tr style=\"text-align: right;\">\n",
       "      <th></th>\n",
       "      <th>House Price</th>\n",
       "      <th>House Size (sq.ft.)</th>\n",
       "      <th>State</th>\n",
       "      <th>Number of Rooms</th>\n",
       "      <th>Year of Construction</th>\n",
       "    </tr>\n",
       "  </thead>\n",
       "  <tbody>\n",
       "    <tr>\n",
       "      <th>0</th>\n",
       "      <td>1116000</td>\n",
       "      <td>1940</td>\n",
       "      <td>IN</td>\n",
       "      <td>8</td>\n",
       "      <td>2002</td>\n",
       "    </tr>\n",
       "    <tr>\n",
       "      <th>1</th>\n",
       "      <td>860000</td>\n",
       "      <td>1300</td>\n",
       "      <td>IN</td>\n",
       "      <td>5</td>\n",
       "      <td>1992</td>\n",
       "    </tr>\n",
       "    <tr>\n",
       "      <th>2</th>\n",
       "      <td>818400</td>\n",
       "      <td>1420</td>\n",
       "      <td>IN</td>\n",
       "      <td>6</td>\n",
       "      <td>1987</td>\n",
       "    </tr>\n",
       "    <tr>\n",
       "      <th>3</th>\n",
       "      <td>1000000</td>\n",
       "      <td>1680</td>\n",
       "      <td>IN</td>\n",
       "      <td>7</td>\n",
       "      <td>2000</td>\n",
       "    </tr>\n",
       "    <tr>\n",
       "      <th>4</th>\n",
       "      <td>640000</td>\n",
       "      <td>1270</td>\n",
       "      <td>IN</td>\n",
       "      <td>5</td>\n",
       "      <td>1995</td>\n",
       "    </tr>\n",
       "    <tr>\n",
       "      <th>5</th>\n",
       "      <td>1010000</td>\n",
       "      <td>1850</td>\n",
       "      <td>IN</td>\n",
       "      <td>7</td>\n",
       "      <td>1998</td>\n",
       "    </tr>\n",
       "    <tr>\n",
       "      <th>6</th>\n",
       "      <td>600000</td>\n",
       "      <td>1000</td>\n",
       "      <td>IN</td>\n",
       "      <td>4</td>\n",
       "      <td>2015</td>\n",
       "    </tr>\n",
       "    <tr>\n",
       "      <th>7</th>\n",
       "      <td>700000</td>\n",
       "      <td>1100</td>\n",
       "      <td>LA</td>\n",
       "      <td>4</td>\n",
       "      <td>2014</td>\n",
       "    </tr>\n",
       "    <tr>\n",
       "      <th>8</th>\n",
       "      <td>1100000</td>\n",
       "      <td>1600</td>\n",
       "      <td>LA</td>\n",
       "      <td>7</td>\n",
       "      <td>2017</td>\n",
       "    </tr>\n",
       "    <tr>\n",
       "      <th>9</th>\n",
       "      <td>570000</td>\n",
       "      <td>1000</td>\n",
       "      <td>NY</td>\n",
       "      <td>5</td>\n",
       "      <td>1997</td>\n",
       "    </tr>\n",
       "    <tr>\n",
       "      <th>10</th>\n",
       "      <td>860000</td>\n",
       "      <td>2150</td>\n",
       "      <td>NY</td>\n",
       "      <td>9</td>\n",
       "      <td>1997</td>\n",
       "    </tr>\n",
       "    <tr>\n",
       "      <th>11</th>\n",
       "      <td>1085000</td>\n",
       "      <td>1900</td>\n",
       "      <td>NY</td>\n",
       "      <td>9</td>\n",
       "      <td>2000</td>\n",
       "    </tr>\n",
       "    <tr>\n",
       "      <th>12</th>\n",
       "      <td>1250000</td>\n",
       "      <td>2200</td>\n",
       "      <td>NY</td>\n",
       "      <td>9</td>\n",
       "      <td>2014</td>\n",
       "    </tr>\n",
       "    <tr>\n",
       "      <th>13</th>\n",
       "      <td>850000</td>\n",
       "      <td>1100</td>\n",
       "      <td>TX</td>\n",
       "      <td>4</td>\n",
       "      <td>2017</td>\n",
       "    </tr>\n",
       "    <tr>\n",
       "      <th>14</th>\n",
       "      <td>640000</td>\n",
       "      <td>860</td>\n",
       "      <td>TX</td>\n",
       "      <td>4</td>\n",
       "      <td>1997</td>\n",
       "    </tr>\n",
       "    <tr>\n",
       "      <th>15</th>\n",
       "      <td>900000</td>\n",
       "      <td>1325</td>\n",
       "      <td>TX</td>\n",
       "      <td>6</td>\n",
       "      <td>1997</td>\n",
       "    </tr>\n",
       "    <tr>\n",
       "      <th>16</th>\n",
       "      <td>730000</td>\n",
       "      <td>1350</td>\n",
       "      <td>TX</td>\n",
       "      <td>6</td>\n",
       "      <td>2000</td>\n",
       "    </tr>\n",
       "    <tr>\n",
       "      <th>17</th>\n",
       "      <td>750000</td>\n",
       "      <td>1600</td>\n",
       "      <td>TX</td>\n",
       "      <td>6</td>\n",
       "      <td>1992</td>\n",
       "    </tr>\n",
       "    <tr>\n",
       "      <th>18</th>\n",
       "      <td>650000</td>\n",
       "      <td>950</td>\n",
       "      <td>TX</td>\n",
       "      <td>2</td>\n",
       "      <td>1987</td>\n",
       "    </tr>\n",
       "    <tr>\n",
       "      <th>19</th>\n",
       "      <td>680000</td>\n",
       "      <td>1250</td>\n",
       "      <td>TX</td>\n",
       "      <td>4</td>\n",
       "      <td>2000</td>\n",
       "    </tr>\n",
       "  </tbody>\n",
       "</table>\n",
       "</div>"
      ],
      "text/plain": [
       "    House Price  House Size (sq.ft.) State  Number of Rooms  \\\n",
       "0       1116000                 1940    IN                8   \n",
       "1        860000                 1300    IN                5   \n",
       "2        818400                 1420    IN                6   \n",
       "3       1000000                 1680    IN                7   \n",
       "4        640000                 1270    IN                5   \n",
       "5       1010000                 1850    IN                7   \n",
       "6        600000                 1000    IN                4   \n",
       "7        700000                 1100   LA                 4   \n",
       "8       1100000                 1600   LA                 7   \n",
       "9        570000                 1000    NY                5   \n",
       "10       860000                 2150    NY                9   \n",
       "11      1085000                 1900    NY                9   \n",
       "12      1250000                 2200    NY                9   \n",
       "13       850000                 1100    TX                4   \n",
       "14       640000                  860    TX                4   \n",
       "15       900000                 1325    TX                6   \n",
       "16       730000                 1350    TX                6   \n",
       "17       750000                 1600    TX                6   \n",
       "18       650000                  950    TX                2   \n",
       "19       680000                 1250    TX                4   \n",
       "\n",
       "    Year of Construction  \n",
       "0                   2002  \n",
       "1                   1992  \n",
       "2                   1987  \n",
       "3                   2000  \n",
       "4                   1995  \n",
       "5                   1998  \n",
       "6                   2015  \n",
       "7                   2014  \n",
       "8                   2017  \n",
       "9                   1997  \n",
       "10                  1997  \n",
       "11                  2000  \n",
       "12                  2014  \n",
       "13                  2017  \n",
       "14                  1997  \n",
       "15                  1997  \n",
       "16                  2000  \n",
       "17                  1992  \n",
       "18                  1987  \n",
       "19                  2000  "
      ]
     },
     "execution_count": 213,
     "metadata": {},
     "output_type": "execute_result"
    }
   ],
   "source": [
    "data"
   ]
  },
  {
   "cell_type": "code",
   "execution_count": 215,
   "id": "dca48c06-442a-4fb8-bbde-ed8d6f81cd53",
   "metadata": {},
   "outputs": [
    {
     "data": {
      "text/html": [
       "<div>\n",
       "<style scoped>\n",
       "    .dataframe tbody tr th:only-of-type {\n",
       "        vertical-align: middle;\n",
       "    }\n",
       "\n",
       "    .dataframe tbody tr th {\n",
       "        vertical-align: top;\n",
       "    }\n",
       "\n",
       "    .dataframe thead th {\n",
       "        text-align: right;\n",
       "    }\n",
       "</style>\n",
       "<table border=\"1\" class=\"dataframe\">\n",
       "  <thead>\n",
       "    <tr style=\"text-align: right;\">\n",
       "      <th></th>\n",
       "      <th>House Price</th>\n",
       "      <th>House Size (sq.ft.)</th>\n",
       "    </tr>\n",
       "  </thead>\n",
       "  <tbody>\n",
       "    <tr>\n",
       "      <th>0</th>\n",
       "      <td>1116000</td>\n",
       "      <td>1940</td>\n",
       "    </tr>\n",
       "    <tr>\n",
       "      <th>1</th>\n",
       "      <td>860000</td>\n",
       "      <td>1300</td>\n",
       "    </tr>\n",
       "    <tr>\n",
       "      <th>2</th>\n",
       "      <td>818400</td>\n",
       "      <td>1420</td>\n",
       "    </tr>\n",
       "    <tr>\n",
       "      <th>3</th>\n",
       "      <td>1000000</td>\n",
       "      <td>1680</td>\n",
       "    </tr>\n",
       "    <tr>\n",
       "      <th>4</th>\n",
       "      <td>640000</td>\n",
       "      <td>1270</td>\n",
       "    </tr>\n",
       "    <tr>\n",
       "      <th>5</th>\n",
       "      <td>1010000</td>\n",
       "      <td>1850</td>\n",
       "    </tr>\n",
       "    <tr>\n",
       "      <th>6</th>\n",
       "      <td>600000</td>\n",
       "      <td>1000</td>\n",
       "    </tr>\n",
       "    <tr>\n",
       "      <th>7</th>\n",
       "      <td>700000</td>\n",
       "      <td>1100</td>\n",
       "    </tr>\n",
       "    <tr>\n",
       "      <th>8</th>\n",
       "      <td>1100000</td>\n",
       "      <td>1600</td>\n",
       "    </tr>\n",
       "    <tr>\n",
       "      <th>9</th>\n",
       "      <td>570000</td>\n",
       "      <td>1000</td>\n",
       "    </tr>\n",
       "    <tr>\n",
       "      <th>10</th>\n",
       "      <td>860000</td>\n",
       "      <td>2150</td>\n",
       "    </tr>\n",
       "    <tr>\n",
       "      <th>11</th>\n",
       "      <td>1085000</td>\n",
       "      <td>1900</td>\n",
       "    </tr>\n",
       "    <tr>\n",
       "      <th>12</th>\n",
       "      <td>1250000</td>\n",
       "      <td>2200</td>\n",
       "    </tr>\n",
       "    <tr>\n",
       "      <th>13</th>\n",
       "      <td>850000</td>\n",
       "      <td>1100</td>\n",
       "    </tr>\n",
       "    <tr>\n",
       "      <th>14</th>\n",
       "      <td>640000</td>\n",
       "      <td>860</td>\n",
       "    </tr>\n",
       "    <tr>\n",
       "      <th>15</th>\n",
       "      <td>900000</td>\n",
       "      <td>1325</td>\n",
       "    </tr>\n",
       "    <tr>\n",
       "      <th>16</th>\n",
       "      <td>730000</td>\n",
       "      <td>1350</td>\n",
       "    </tr>\n",
       "    <tr>\n",
       "      <th>17</th>\n",
       "      <td>750000</td>\n",
       "      <td>1600</td>\n",
       "    </tr>\n",
       "    <tr>\n",
       "      <th>18</th>\n",
       "      <td>650000</td>\n",
       "      <td>950</td>\n",
       "    </tr>\n",
       "    <tr>\n",
       "      <th>19</th>\n",
       "      <td>680000</td>\n",
       "      <td>1250</td>\n",
       "    </tr>\n",
       "  </tbody>\n",
       "</table>\n",
       "</div>"
      ],
      "text/plain": [
       "    House Price  House Size (sq.ft.)\n",
       "0       1116000                 1940\n",
       "1        860000                 1300\n",
       "2        818400                 1420\n",
       "3       1000000                 1680\n",
       "4        640000                 1270\n",
       "5       1010000                 1850\n",
       "6        600000                 1000\n",
       "7        700000                 1100\n",
       "8       1100000                 1600\n",
       "9        570000                 1000\n",
       "10       860000                 2150\n",
       "11      1085000                 1900\n",
       "12      1250000                 2200\n",
       "13       850000                 1100\n",
       "14       640000                  860\n",
       "15       900000                 1325\n",
       "16       730000                 1350\n",
       "17       750000                 1600\n",
       "18       650000                  950\n",
       "19       680000                 1250"
      ]
     },
     "execution_count": 215,
     "metadata": {},
     "output_type": "execute_result"
    }
   ],
   "source": [
    "data[['House Price','House Size (sq.ft.)']]"
   ]
  },
  {
   "cell_type": "code",
   "execution_count": 216,
   "id": "f6719c76-defd-4bf7-b36c-59661ece59f7",
   "metadata": {},
   "outputs": [],
   "source": [
    "#単回帰"
   ]
  },
  {
   "cell_type": "code",
   "execution_count": 220,
   "id": "cd0e8fcf-b1c2-40eb-9cd0-b27d64d68e33",
   "metadata": {},
   "outputs": [],
   "source": [
    "X = data['House Size (sq.ft.)']\n",
    "Y = data['House Price']"
   ]
  },
  {
   "cell_type": "code",
   "execution_count": 221,
   "id": "0f6f37ed-f1b7-444c-87be-f0379f53fade",
   "metadata": {},
   "outputs": [
    {
     "data": {
      "text/plain": [
       "0     1940\n",
       "1     1300\n",
       "2     1420\n",
       "3     1680\n",
       "4     1270\n",
       "5     1850\n",
       "6     1000\n",
       "7     1100\n",
       "8     1600\n",
       "9     1000\n",
       "10    2150\n",
       "11    1900\n",
       "12    2200\n",
       "13    1100\n",
       "14     860\n",
       "15    1325\n",
       "16    1350\n",
       "17    1600\n",
       "18     950\n",
       "19    1250\n",
       "Name: House Size (sq.ft.), dtype: int64"
      ]
     },
     "execution_count": 221,
     "metadata": {},
     "output_type": "execute_result"
    }
   ],
   "source": [
    "X"
   ]
  },
  {
   "cell_type": "code",
   "execution_count": 222,
   "id": "22398d92-2c54-416d-866c-9d7f758a7516",
   "metadata": {},
   "outputs": [
    {
     "data": {
      "text/plain": [
       "0     1116000\n",
       "1      860000\n",
       "2      818400\n",
       "3     1000000\n",
       "4      640000\n",
       "5     1010000\n",
       "6      600000\n",
       "7      700000\n",
       "8     1100000\n",
       "9      570000\n",
       "10     860000\n",
       "11    1085000\n",
       "12    1250000\n",
       "13     850000\n",
       "14     640000\n",
       "15     900000\n",
       "16     730000\n",
       "17     750000\n",
       "18     650000\n",
       "19     680000\n",
       "Name: House Price, dtype: int64"
      ]
     },
     "execution_count": 222,
     "metadata": {},
     "output_type": "execute_result"
    }
   ],
   "source": [
    "Y"
   ]
  },
  {
   "cell_type": "code",
   "execution_count": 223,
   "id": "27da9716-f9df-486d-8d36-83aad56501e4",
   "metadata": {},
   "outputs": [
    {
     "data": {
      "image/png": "[encoded data removed]",
      "text/plain": [
       "<Figure size 432x288 with 1 Axes>"
      ]
     },
     "metadata": {
      "needs_background": "light"
     },
     "output_type": "display_data"
    }
   ],
   "source": [
    "plt.scatter(X,Y)\n",
    "plt.show()"
   ]
  },
  {
   "cell_type": "code",
   "execution_count": 224,
   "id": "fd7d825f-b430-487c-9f37-125320bca6d0",
   "metadata": {},
   "outputs": [
    {
     "data": {
      "image/png": "[encoded data removed]",
      "text/plain": [
       "<Figure size 432x288 with 1 Axes>"
      ]
     },
     "metadata": {
      "needs_background": "light"
     },
     "output_type": "display_data"
    }
   ],
   "source": [
    "plt.scatter(X,Y)\n",
    "plt.axis([0,2500,0,1500000])\n",
    "plt.show()"
   ]
  },
  {
   "cell_type": "code",
   "execution_count": 226,
   "id": "b6cbba95-b5bc-42a7-ac77-0cd09442443a",
   "metadata": {},
   "outputs": [
    {
     "data": {
      "image/png": "[encoded data removed]",
      "text/plain": [
       "<Figure size 432x288 with 1 Axes>"
      ]
     },
     "metadata": {
      "needs_background": "light"
     },
     "output_type": "display_data"
    }
   ],
   "source": [
    "plt.scatter(X,Y)\n",
    "plt.axis([0,2500,0,1500000])\n",
    "plt.ylabel('House Price')\n",
    "plt.xlabel('House Size (sq.ft)')\n",
    "plt.show()"
   ]
  },
  {
   "cell_type": "code",
   "execution_count": 228,
   "id": "91955347-2813-42ca-8789-c8192f76b9d3",
   "metadata": {},
   "outputs": [],
   "source": [
    "X1 = sm.add_constant(X)\n",
    "reg = sm.OLS(Y, X1).fit()"
   ]
  },
  {
   "cell_type": "code",
   "execution_count": 229,
   "id": "d2f6afae-8b2d-4e7d-9330-974fb7fb3471",
   "metadata": {},
   "outputs": [
    {
     "data": {
      "text/html": [
       "<table class=\"simpletable\">\n",
       "<caption>OLS Regression Results</caption>\n",
       "<tr>\n",
       "  <th>Dep. Variable:</th>       <td>House Price</td>   <th>  R-squared:         </th> <td>   0.678</td>\n",
       "</tr>\n",
       "<tr>\n",
       "  <th>Model:</th>                   <td>OLS</td>       <th>  Adj. R-squared:    </th> <td>   0.660</td>\n",
       "</tr>\n",
       "<tr>\n",
       "  <th>Method:</th>             <td>Least Squares</td>  <th>  F-statistic:       </th> <td>   37.95</td>\n",
       "</tr>\n",
       "<tr>\n",
       "  <th>Date:</th>             <td>Tue, 14 Dec 2021</td> <th>  Prob (F-statistic):</th> <td>8.13e-06</td>\n",
       "</tr>\n",
       "<tr>\n",
       "  <th>Time:</th>                 <td>23:38:28</td>     <th>  Log-Likelihood:    </th> <td> -260.43</td>\n",
       "</tr>\n",
       "<tr>\n",
       "  <th>No. Observations:</th>      <td>    20</td>      <th>  AIC:               </th> <td>   524.9</td>\n",
       "</tr>\n",
       "<tr>\n",
       "  <th>Df Residuals:</th>          <td>    18</td>      <th>  BIC:               </th> <td>   526.8</td>\n",
       "</tr>\n",
       "<tr>\n",
       "  <th>Df Model:</th>              <td>     1</td>      <th>                     </th>     <td> </td>   \n",
       "</tr>\n",
       "<tr>\n",
       "  <th>Covariance Type:</th>      <td>nonrobust</td>    <th>                     </th>     <td> </td>   \n",
       "</tr>\n",
       "</table>\n",
       "<table class=\"simpletable\">\n",
       "<tr>\n",
       "           <td></td>              <th>coef</th>     <th>std err</th>      <th>t</th>      <th>P>|t|</th>  <th>[0.025</th>    <th>0.975]</th>  \n",
       "</tr>\n",
       "<tr>\n",
       "  <th>const</th>               <td> 2.608e+05</td> <td> 9.76e+04</td> <td>    2.673</td> <td> 0.016</td> <td> 5.58e+04</td> <td> 4.66e+05</td>\n",
       "</tr>\n",
       "<tr>\n",
       "  <th>House Size (sq.ft.)</th> <td>  401.9163</td> <td>   65.243</td> <td>    6.160</td> <td> 0.000</td> <td>  264.846</td> <td>  538.987</td>\n",
       "</tr>\n",
       "</table>\n",
       "<table class=\"simpletable\">\n",
       "<tr>\n",
       "  <th>Omnibus:</th>       <td> 1.238</td> <th>  Durbin-Watson:     </th> <td>   1.810</td>\n",
       "</tr>\n",
       "<tr>\n",
       "  <th>Prob(Omnibus):</th> <td> 0.538</td> <th>  Jarque-Bera (JB):  </th> <td>   0.715</td>\n",
       "</tr>\n",
       "<tr>\n",
       "  <th>Skew:</th>          <td>-0.459</td> <th>  Prob(JB):          </th> <td>   0.699</td>\n",
       "</tr>\n",
       "<tr>\n",
       "  <th>Kurtosis:</th>      <td> 2.884</td> <th>  Cond. No.          </th> <td>5.66e+03</td>\n",
       "</tr>\n",
       "</table><br/><br/>Notes:<br/>[1] Standard Errors assume that the covariance matrix of the errors is correctly specified.<br/>[2] The condition number is large, 5.66e+03. This might indicate that there are<br/>strong multicollinearity or other numerical problems."
      ],
      "text/plain": [
       "<class 'statsmodels.iolib.summary.Summary'>\n",
       "\"\"\"\n",
       "                            OLS Regression Results                            \n",
       "==============================================================================\n",
       "Dep. Variable:            House Price   R-squared:                       0.678\n",
       "Model:                            OLS   Adj. R-squared:                  0.660\n",
       "Method:                 Least Squares   F-statistic:                     37.95\n",
       "Date:                Tue, 14 Dec 2021   Prob (F-statistic):           8.13e-06\n",
       "Time:                        23:38:28   Log-Likelihood:                -260.43\n",
       "No. Observations:                  20   AIC:                             524.9\n",
       "Df Residuals:                      18   BIC:                             526.8\n",
       "Df Model:                           1                                         \n",
       "Covariance Type:            nonrobust                                         \n",
       "=======================================================================================\n",
       "                          coef    std err          t      P>|t|      [0.025      0.975]\n",
       "---------------------------------------------------------------------------------------\n",
       "const                2.608e+05   9.76e+04      2.673      0.016    5.58e+04    4.66e+05\n",
       "House Size (sq.ft.)   401.9163     65.243      6.160      0.000     264.846     538.987\n",
       "==============================================================================\n",
       "Omnibus:                        1.238   Durbin-Watson:                   1.810\n",
       "Prob(Omnibus):                  0.538   Jarque-Bera (JB):                0.715\n",
       "Skew:                          -0.459   Prob(JB):                        0.699\n",
       "Kurtosis:                       2.884   Cond. No.                     5.66e+03\n",
       "==============================================================================\n",
       "\n",
       "Notes:\n",
       "[1] Standard Errors assume that the covariance matrix of the errors is correctly specified.\n",
       "[2] The condition number is large, 5.66e+03. This might indicate that there are\n",
       "strong multicollinearity or other numerical problems.\n",
       "\"\"\""
      ]
     },
     "execution_count": 229,
     "metadata": {},
     "output_type": "execute_result"
    }
   ],
   "source": [
    "reg.summary()"
   ]
  },
  {
   "cell_type": "code",
   "execution_count": 230,
   "id": "b363ad02-29d1-4d62-863c-70a9f270baea",
   "metadata": {},
   "outputs": [
    {
     "data": {
      "text/plain": [
       "662800"
      ]
     },
     "execution_count": 230,
     "metadata": {},
     "output_type": "execute_result"
    }
   ],
   "source": [
    "260800+402*1000"
   ]
  },
  {
   "cell_type": "code",
   "execution_count": 231,
   "id": "5b3db3dd-0724-4960-ba45-11c6db0c5871",
   "metadata": {},
   "outputs": [],
   "source": [
    "#Alpha,Beta,決定係数(R^2）"
   ]
  },
  {
   "cell_type": "code",
   "execution_count": 232,
   "id": "b28478aa-16e0-4b9d-858e-faf6ae0ff529",
   "metadata": {},
   "outputs": [],
   "source": [
    "slope,intercept,r_value,p_value,std_err=stats.linregress(X,Y)"
   ]
  },
  {
   "cell_type": "code",
   "execution_count": 233,
   "id": "6507e3eb-fdc4-43c9-921f-a1ef0f93f829",
   "metadata": {},
   "outputs": [
    {
     "data": {
      "text/plain": [
       "401.91628631922595"
      ]
     },
     "execution_count": 233,
     "metadata": {},
     "output_type": "execute_result"
    }
   ],
   "source": [
    "slope"
   ]
  },
  {
   "cell_type": "code",
   "execution_count": 234,
   "id": "9f3e4773-d2bd-4d96-bda7-66369f5f7bdf",
   "metadata": {},
   "outputs": [
    {
     "data": {
      "text/plain": [
       "260806.2360560964"
      ]
     },
     "execution_count": 234,
     "metadata": {},
     "output_type": "execute_result"
    }
   ],
   "source": [
    "intercept"
   ]
  },
  {
   "cell_type": "code",
   "execution_count": 235,
   "id": "1d566ccd-813c-46f9-b513-e91e3cc0287a",
   "metadata": {},
   "outputs": [
    {
     "data": {
      "text/plain": [
       "0.8235775534696924"
      ]
     },
     "execution_count": 235,
     "metadata": {},
     "output_type": "execute_result"
    }
   ],
   "source": [
    "r_value"
   ]
  },
  {
   "cell_type": "code",
   "execution_count": 236,
   "id": "c1128980-6797-4b3d-ae03-799eb65ba1a9",
   "metadata": {},
   "outputs": [
    {
     "data": {
      "text/plain": [
       "0.678279986579124"
      ]
     },
     "execution_count": 236,
     "metadata": {},
     "output_type": "execute_result"
    }
   ],
   "source": [
    "r_value**2"
   ]
  },
  {
   "cell_type": "code",
   "execution_count": 237,
   "id": "12f95b0c-8e81-4e85-8a52-eb8e341890ea",
   "metadata": {},
   "outputs": [
    {
     "data": {
      "text/plain": [
       "8.129642377231308e-06"
      ]
     },
     "execution_count": 237,
     "metadata": {},
     "output_type": "execute_result"
    }
   ],
   "source": [
    "p_value"
   ]
  },
  {
   "cell_type": "code",
   "execution_count": 238,
   "id": "30138ef2-69a7-4097-8f04-01fefd7cdd02",
   "metadata": {},
   "outputs": [
    {
     "data": {
      "text/plain": [
       "65.24299510636492"
      ]
     },
     "execution_count": 238,
     "metadata": {},
     "output_type": "execute_result"
    }
   ],
   "source": [
    "std_err"
   ]
  },
  {
   "cell_type": "code",
   "execution_count": 239,
   "id": "e52ed969-7f35-417d-8979-baddb62b7c05",
   "metadata": {},
   "outputs": [],
   "source": [
    "import numpy as np\n",
    "import pandas as pd\n",
    "from pandas_datareader import data as wb\n",
    "import matplotlib.pyplot as plt\n",
    "%matplotlib inline"
   ]
  },
  {
   "cell_type": "code",
   "execution_count": 240,
   "id": "ebaf6c60-6ed6-4613-b7e2-0bde2b309420",
   "metadata": {},
   "outputs": [],
   "source": [
    "assets = ['PG' , '^GSPC']\n",
    "pf_data = pd.DataFrame()\n",
    "\n",
    "for a in assets:\n",
    "    pf_data[a] = wb.DataReader(a, data_source = 'yahoo', start = '2010-1-1')['Adj Close']"
   ]
  },
  {
   "cell_type": "code",
   "execution_count": 241,
   "id": "ea6df8fb-2307-45b7-af21-7032811e7b52",
   "metadata": {},
   "outputs": [
    {
     "data": {
      "text/html": [
       "<div>\n",
       "<style scoped>\n",
       "    .dataframe tbody tr th:only-of-type {\n",
       "        vertical-align: middle;\n",
       "    }\n",
       "\n",
       "    .dataframe tbody tr th {\n",
       "        vertical-align: top;\n",
       "    }\n",
       "\n",
       "    .dataframe thead th {\n",
       "        text-align: right;\n",
       "    }\n",
       "</style>\n",
       "<table border=\"1\" class=\"dataframe\">\n",
       "  <thead>\n",
       "    <tr style=\"text-align: right;\">\n",
       "      <th></th>\n",
       "      <th>PG</th>\n",
       "      <th>^GSPC</th>\n",
       "    </tr>\n",
       "    <tr>\n",
       "      <th>Date</th>\n",
       "      <th></th>\n",
       "      <th></th>\n",
       "    </tr>\n",
       "  </thead>\n",
       "  <tbody>\n",
       "    <tr>\n",
       "      <th>2021-12-08</th>\n",
       "      <td>152.429993</td>\n",
       "      <td>4701.209961</td>\n",
       "    </tr>\n",
       "    <tr>\n",
       "      <th>2021-12-09</th>\n",
       "      <td>153.320007</td>\n",
       "      <td>4667.450195</td>\n",
       "    </tr>\n",
       "    <tr>\n",
       "      <th>2021-12-10</th>\n",
       "      <td>155.460007</td>\n",
       "      <td>4712.020020</td>\n",
       "    </tr>\n",
       "    <tr>\n",
       "      <th>2021-12-13</th>\n",
       "      <td>157.669998</td>\n",
       "      <td>4668.970215</td>\n",
       "    </tr>\n",
       "    <tr>\n",
       "      <th>2021-12-14</th>\n",
       "      <td>157.279999</td>\n",
       "      <td>4651.029785</td>\n",
       "    </tr>\n",
       "  </tbody>\n",
       "</table>\n",
       "</div>"
      ],
      "text/plain": [
       "                    PG        ^GSPC\n",
       "Date                               \n",
       "2021-12-08  152.429993  4701.209961\n",
       "2021-12-09  153.320007  4667.450195\n",
       "2021-12-10  155.460007  4712.020020\n",
       "2021-12-13  157.669998  4668.970215\n",
       "2021-12-14  157.279999  4651.029785"
      ]
     },
     "execution_count": 241,
     "metadata": {},
     "output_type": "execute_result"
    }
   ],
   "source": [
    "pf_data.tail()"
   ]
  },
  {
   "cell_type": "code",
   "execution_count": 242,
   "id": "1927306e-2689-4ec4-aa2d-21d2c6b23eec",
   "metadata": {},
   "outputs": [
    {
     "data": {
      "text/plain": [
       "<AxesSubplot:xlabel='Date'>"
      ]
     },
     "execution_count": 242,
     "metadata": {},
     "output_type": "execute_result"
    },
    {
     "data": {
      "image/png": "[encoded data removed]",
      "text/plain": [
       "<Figure size 720x360 with 1 Axes>"
      ]
     },
     "metadata": {
      "needs_background": "light"
     },
     "output_type": "display_data"
    }
   ],
   "source": [
    "(pf_data / pf_data.iloc[0] * 100).plot(figsize=(10,5))"
   ]
  },
  {
   "cell_type": "code",
   "execution_count": 245,
   "id": "5766a055-5854-47ec-8fae-315101d8a61b",
   "metadata": {},
   "outputs": [],
   "source": [
    "log_returns = np.log(pf_data / pf_data.shift(1))"
   ]
  },
  {
   "cell_type": "code",
   "execution_count": 246,
   "id": "a0166fb4-2322-4911-9037-53bb17c55883",
   "metadata": {},
   "outputs": [
    {
     "data": {
      "text/plain": [
       "PG       0.109448\n",
       "^GSPC    0.118656\n",
       "dtype: float64"
      ]
     },
     "execution_count": 246,
     "metadata": {},
     "output_type": "execute_result"
    }
   ],
   "source": [
    "log_returns.mean()*250"
   ]
  },
  {
   "cell_type": "code",
   "execution_count": 247,
   "id": "5d14e080-ce00-4b38-a3dd-9d51b372e23f",
   "metadata": {},
   "outputs": [
    {
     "data": {
      "text/html": [
       "<div>\n",
       "<style scoped>\n",
       "    .dataframe tbody tr th:only-of-type {\n",
       "        vertical-align: middle;\n",
       "    }\n",
       "\n",
       "    .dataframe tbody tr th {\n",
       "        vertical-align: top;\n",
       "    }\n",
       "\n",
       "    .dataframe thead th {\n",
       "        text-align: right;\n",
       "    }\n",
       "</style>\n",
       "<table border=\"1\" class=\"dataframe\">\n",
       "  <thead>\n",
       "    <tr style=\"text-align: right;\">\n",
       "      <th></th>\n",
       "      <th>PG</th>\n",
       "      <th>^GSPC</th>\n",
       "    </tr>\n",
       "  </thead>\n",
       "  <tbody>\n",
       "    <tr>\n",
       "      <th>PG</th>\n",
       "      <td>0.028492</td>\n",
       "      <td>0.016905</td>\n",
       "    </tr>\n",
       "    <tr>\n",
       "      <th>^GSPC</th>\n",
       "      <td>0.016905</td>\n",
       "      <td>0.029482</td>\n",
       "    </tr>\n",
       "  </tbody>\n",
       "</table>\n",
       "</div>"
      ],
      "text/plain": [
       "             PG     ^GSPC\n",
       "PG     0.028492  0.016905\n",
       "^GSPC  0.016905  0.029482"
      ]
     },
     "execution_count": 247,
     "metadata": {},
     "output_type": "execute_result"
    }
   ],
   "source": [
    "log_returns.cov()*250"
   ]
  },
  {
   "cell_type": "code",
   "execution_count": 248,
   "id": "5962d773-3791-4ce3-8445-5ab8dbf8ac83",
   "metadata": {},
   "outputs": [
    {
     "data": {
      "text/html": [
       "<div>\n",
       "<style scoped>\n",
       "    .dataframe tbody tr th:only-of-type {\n",
       "        vertical-align: middle;\n",
       "    }\n",
       "\n",
       "    .dataframe tbody tr th {\n",
       "        vertical-align: top;\n",
       "    }\n",
       "\n",
       "    .dataframe thead th {\n",
       "        text-align: right;\n",
       "    }\n",
       "</style>\n",
       "<table border=\"1\" class=\"dataframe\">\n",
       "  <thead>\n",
       "    <tr style=\"text-align: right;\">\n",
       "      <th></th>\n",
       "      <th>PG</th>\n",
       "      <th>^GSPC</th>\n",
       "    </tr>\n",
       "  </thead>\n",
       "  <tbody>\n",
       "    <tr>\n",
       "      <th>PG</th>\n",
       "      <td>1.000000</td>\n",
       "      <td>0.583274</td>\n",
       "    </tr>\n",
       "    <tr>\n",
       "      <th>^GSPC</th>\n",
       "      <td>0.583274</td>\n",
       "      <td>1.000000</td>\n",
       "    </tr>\n",
       "  </tbody>\n",
       "</table>\n",
       "</div>"
      ],
      "text/plain": [
       "             PG     ^GSPC\n",
       "PG     1.000000  0.583274\n",
       "^GSPC  0.583274  1.000000"
      ]
     },
     "execution_count": 248,
     "metadata": {},
     "output_type": "execute_result"
    }
   ],
   "source": [
    "log_returns.corr()"
   ]
  },
  {
   "cell_type": "code",
   "execution_count": 249,
   "id": "fd1006bd-0b24-4fc2-a351-463ca2bf603c",
   "metadata": {},
   "outputs": [],
   "source": [
    "num_assets = len(assets)"
   ]
  },
  {
   "cell_type": "code",
   "execution_count": 250,
   "id": "f2258f8f-4058-4132-9244-6e0a9b2d6858",
   "metadata": {},
   "outputs": [
    {
     "data": {
      "text/plain": [
       "2"
      ]
     },
     "execution_count": 250,
     "metadata": {},
     "output_type": "execute_result"
    }
   ],
   "source": [
    "num_assets"
   ]
  },
  {
   "cell_type": "code",
   "execution_count": 258,
   "id": "2e266120-afce-4184-aa1c-ac37b6155750",
   "metadata": {},
   "outputs": [
    {
     "data": {
      "text/plain": [
       "array([0.5672929 , 0.22331446])"
      ]
     },
     "execution_count": 258,
     "metadata": {},
     "output_type": "execute_result"
    }
   ],
   "source": [
    "arr = np.random.random(2)\n",
    "arr"
   ]
  },
  {
   "cell_type": "code",
   "execution_count": 259,
   "id": "7f3c225d-4e15-4cb3-bb0e-26ee23951d03",
   "metadata": {},
   "outputs": [
    {
     "data": {
      "text/plain": [
       "0.7906073614631124"
      ]
     },
     "execution_count": 259,
     "metadata": {},
     "output_type": "execute_result"
    }
   ],
   "source": [
    "arr[0] + arr[1]"
   ]
  },
  {
   "cell_type": "code",
   "execution_count": 261,
   "id": "34e3da61-ef32-443f-a8b0-6a6a323f6370",
   "metadata": {},
   "outputs": [
    {
     "data": {
      "text/plain": [
       "array([0.60139971, 0.39860029])"
      ]
     },
     "execution_count": 261,
     "metadata": {},
     "output_type": "execute_result"
    }
   ],
   "source": [
    "weights = np.random.random(num_assets)\n",
    "weights /= np.sum(weights)\n",
    "weights"
   ]
  },
  {
   "cell_type": "code",
   "execution_count": 263,
   "id": "5c5a635b-a450-467f-96c9-ed0340f8cdf9",
   "metadata": {},
   "outputs": [
    {
     "data": {
      "text/plain": [
       "1.0"
      ]
     },
     "execution_count": 263,
     "metadata": {},
     "output_type": "execute_result"
    }
   ],
   "source": [
    "weights[0] + weights[1]"
   ]
  },
  {
   "cell_type": "code",
   "execution_count": 264,
   "id": "6025810b-a999-4e77-9d48-a55e382dc05f",
   "metadata": {},
   "outputs": [],
   "source": [
    "#ポートフォリオの予想利益率"
   ]
  },
  {
   "cell_type": "code",
   "execution_count": 268,
   "id": "2a097a1a-8a9a-43c3-90de-ff71bdc2c1a5",
   "metadata": {},
   "outputs": [
    {
     "data": {
      "text/plain": [
       "0.11311837751002105"
      ]
     },
     "execution_count": 268,
     "metadata": {},
     "output_type": "execute_result"
    }
   ],
   "source": [
    "np.sum(weights * log_returns.mean()) * 250"
   ]
  },
  {
   "cell_type": "code",
   "execution_count": 269,
   "id": "2ef92d0a-276c-4e5a-bf92-ca6cfb82bbbe",
   "metadata": {},
   "outputs": [],
   "source": [
    "#ポートフォーリオの予想される分散"
   ]
  },
  {
   "cell_type": "code",
   "execution_count": 270,
   "id": "799c6eed-4968-4c72-a5ae-605b1cbb21a8",
   "metadata": {},
   "outputs": [
    {
     "data": {
      "text/plain": [
       "0.014616996321680918"
      ]
     },
     "execution_count": 270,
     "metadata": {},
     "output_type": "execute_result"
    }
   ],
   "source": [
    "np.dot(weight.T, np.dot(log_returns.cov() * 250, weights))"
   ]
  },
  {
   "cell_type": "code",
   "execution_count": 271,
   "id": "c1c34ebd-923a-4de0-83d8-4f3ace8c3f98",
   "metadata": {},
   "outputs": [],
   "source": [
    "#ポートフィリオの予想されるボラティリティ"
   ]
  },
  {
   "cell_type": "code",
   "execution_count": 273,
   "id": "fdfd15d6-aa9b-47f9-833a-a709d382c4d3",
   "metadata": {},
   "outputs": [
    {
     "data": {
      "text/plain": [
       "0.15196639111538257"
      ]
     },
     "execution_count": 273,
     "metadata": {},
     "output_type": "execute_result"
    }
   ],
   "source": [
    "np.sqrt(np.dot(weights.T,np.dot(log_returns.cov() * 250 , weights)))"
   ]
  },
  {
   "cell_type": "code",
   "execution_count": 282,
   "id": "7db14d27-ce53-4856-ac2e-597a42602460",
   "metadata": {},
   "outputs": [
    {
     "data": {
      "text/plain": [
       "([0.11499884501699531,\n",
       "  0.1167424507009885,\n",
       "  0.1109499063672058,\n",
       "  0.11380218582709961,\n",
       "  0.11393945878313837,\n",
       "  0.11515579871798998,\n",
       "  0.11319975520583728,\n",
       "  0.1133932438516449,\n",
       "  0.11643247759951626,\n",
       "  0.11427589724721983,\n",
       "  0.11177549528014093,\n",
       "  0.11494772081455186,\n",
       "  0.11665245285061875,\n",
       "  0.11388429055187296,\n",
       "  0.11709646087387261,\n",
       "  0.11672899381494385,\n",
       "  0.11337947834931446,\n",
       "  0.11830186275633223,\n",
       "  0.11470721983059551,\n",
       "  0.11277793011981449,\n",
       "  0.11225026672049003,\n",
       "  0.11771888225419817,\n",
       "  0.11181969040525058,\n",
       "  0.11142351469362033,\n",
       "  0.11423556854079094,\n",
       "  0.11615000129879433,\n",
       "  0.11688210237248334,\n",
       "  0.11787026361910041,\n",
       "  0.11077424253147934,\n",
       "  0.11549664761716696,\n",
       "  0.11422203466432564,\n",
       "  0.11617988345685691,\n",
       "  0.11717854924010183,\n",
       "  0.11642261370884475,\n",
       "  0.1164129801505879,\n",
       "  0.11127701507516628,\n",
       "  0.11416678441904371,\n",
       "  0.11039317777022956,\n",
       "  0.11392968384541846,\n",
       "  0.11082403638307642,\n",
       "  0.11419954115758156,\n",
       "  0.11076279981612658,\n",
       "  0.1114833252241851,\n",
       "  0.11362198517263888,\n",
       "  0.11436118035364025,\n",
       "  0.11195388794579969,\n",
       "  0.11599245388872487,\n",
       "  0.11166345455244481,\n",
       "  0.11276323368802187,\n",
       "  0.11737585664427691,\n",
       "  0.1125104023392936,\n",
       "  0.1136879897287068,\n",
       "  0.11504987626782237,\n",
       "  0.11276860234415875,\n",
       "  0.11793287994431959,\n",
       "  0.10953081609617263,\n",
       "  0.11491485541043557,\n",
       "  0.11306022779136371,\n",
       "  0.11641931586027279,\n",
       "  0.11280961429896234,\n",
       "  0.11560104358502703,\n",
       "  0.1158324923882542,\n",
       "  0.11369189152403798,\n",
       "  0.11545681418398807,\n",
       "  0.11754474902786025,\n",
       "  0.11691043211140373,\n",
       "  0.11515361046741489,\n",
       "  0.11517188980770719,\n",
       "  0.1144881534502229,\n",
       "  0.11704566842151065,\n",
       "  0.1138225079483501,\n",
       "  0.11473040410355426,\n",
       "  0.11521343174463952,\n",
       "  0.11862473260242674,\n",
       "  0.11106680757010304,\n",
       "  0.11638947170508737,\n",
       "  0.11693425142326913,\n",
       "  0.11324504433745271,\n",
       "  0.11297650720311825,\n",
       "  0.11499571253151043,\n",
       "  0.11589283005296515,\n",
       "  0.11320202037600656,\n",
       "  0.11410759217496223,\n",
       "  0.1111636703664977,\n",
       "  0.1123567437326949,\n",
       "  0.11370771938549346,\n",
       "  0.11530913339626962,\n",
       "  0.11394270965546323,\n",
       "  0.11383188492547246,\n",
       "  0.1166653388265093,\n",
       "  0.10995775392707444,\n",
       "  0.11011103585657749,\n",
       "  0.11675278209535406,\n",
       "  0.11328173511740176,\n",
       "  0.11530820947124557,\n",
       "  0.1129769247596105,\n",
       "  0.11736459793138557,\n",
       "  0.10944907376784095,\n",
       "  0.11310179790661881,\n",
       "  0.11147119430573495,\n",
       "  0.11449559704324487,\n",
       "  0.11218949497956789,\n",
       "  0.11397193460280827,\n",
       "  0.11293625557901601,\n",
       "  0.11690235201331227,\n",
       "  0.11217832646931739,\n",
       "  0.11280895954171292,\n",
       "  0.11427900061364014,\n",
       "  0.11095659259047577,\n",
       "  0.1117598394412706,\n",
       "  0.11472440947358917,\n",
       "  0.11380185211985924,\n",
       "  0.11267765369618701,\n",
       "  0.11819289618954351,\n",
       "  0.11206580469390084,\n",
       "  0.11711689090767981,\n",
       "  0.11403010551313485,\n",
       "  0.11366839115302428,\n",
       "  0.1174009495344441,\n",
       "  0.11148714998166903,\n",
       "  0.11457514619443396,\n",
       "  0.11857801235584209,\n",
       "  0.11090974733289959,\n",
       "  0.11436515564464846,\n",
       "  0.11326586057854106,\n",
       "  0.11070988296324158,\n",
       "  0.11480991653442922,\n",
       "  0.11616038508834074,\n",
       "  0.11718557523857992,\n",
       "  0.11048843122987777,\n",
       "  0.11204544150970394,\n",
       "  0.11694188613160902,\n",
       "  0.10972224131064588,\n",
       "  0.11390718633283833,\n",
       "  0.11049114995597803,\n",
       "  0.11130085930544231,\n",
       "  0.11806419247911226,\n",
       "  0.11497774465569172,\n",
       "  0.11300646929920592,\n",
       "  0.1122241463838753,\n",
       "  0.11312897791404157,\n",
       "  0.11330150815736582,\n",
       "  0.11413027579323806,\n",
       "  0.11729952013275509,\n",
       "  0.11361661215627782,\n",
       "  0.11849760463129247,\n",
       "  0.11553451015732487,\n",
       "  0.11473219750523382,\n",
       "  0.11514741773762988,\n",
       "  0.1179795070839442,\n",
       "  0.11428161979726034,\n",
       "  0.11624808672668771,\n",
       "  0.11718883223302819,\n",
       "  0.11777999612144373,\n",
       "  0.11801496457808805,\n",
       "  0.11304253708444979,\n",
       "  0.11659309194628611,\n",
       "  0.11305494686722836,\n",
       "  0.11746156789544153,\n",
       "  0.11401235650292896,\n",
       "  0.11397593955561698,\n",
       "  0.1142523637276188,\n",
       "  0.11436971789038476,\n",
       "  0.11201755469630406,\n",
       "  0.1143776003092804,\n",
       "  0.11861290503784913,\n",
       "  0.11563591500065055,\n",
       "  0.11859658076158369,\n",
       "  0.11809585670141122,\n",
       "  0.11138243564453933,\n",
       "  0.11644783057462206,\n",
       "  0.11579340080626833,\n",
       "  0.11095354252250275,\n",
       "  0.11096534023585523,\n",
       "  0.11725171478459892,\n",
       "  0.11791566173539021,\n",
       "  0.11197865593532387,\n",
       "  0.11116894065233238,\n",
       "  0.11484217043205862,\n",
       "  0.10946427607638998,\n",
       "  0.1102057735500372,\n",
       "  0.11363744584286513,\n",
       "  0.11009271777024433,\n",
       "  0.11340807113800365,\n",
       "  0.11432573423307055,\n",
       "  0.11744473626377613,\n",
       "  0.11585363993305862,\n",
       "  0.10975490058026666,\n",
       "  0.1132666758382321,\n",
       "  0.11390579680688437,\n",
       "  0.11189204358523865,\n",
       "  0.11004631764410967,\n",
       "  0.11297757232184005,\n",
       "  0.11448759940286524,\n",
       "  0.11364513803475304,\n",
       "  0.1186476438998154,\n",
       "  0.11283465144203154,\n",
       "  0.1121880007060334,\n",
       "  0.11193064826172937,\n",
       "  0.11187108336773614,\n",
       "  0.11377636561841503,\n",
       "  0.11544089317879587,\n",
       "  0.11820775142379525,\n",
       "  0.11362938081374091,\n",
       "  0.11729945747132517,\n",
       "  0.11583222725206412,\n",
       "  0.1157860662480526,\n",
       "  0.11529630661440171,\n",
       "  0.11722851297542944,\n",
       "  0.11123390166139067,\n",
       "  0.11544299977401859,\n",
       "  0.11408834957452602,\n",
       "  0.11381158280199392,\n",
       "  0.11786622129087682,\n",
       "  0.11608224761820252,\n",
       "  0.11310688942083559,\n",
       "  0.11323304680237783,\n",
       "  0.11506756342646599,\n",
       "  0.11046092486065368,\n",
       "  0.11062182860830834,\n",
       "  0.11399157191719968,\n",
       "  0.11611460200538826,\n",
       "  0.11407890307999283,\n",
       "  0.11324647268228098,\n",
       "  0.11469331518050598,\n",
       "  0.11351877847315989,\n",
       "  0.11671374525446815,\n",
       "  0.11183002041378531,\n",
       "  0.11532562261843315,\n",
       "  0.1142668747287663,\n",
       "  0.11213264756263705,\n",
       "  0.1179127236346485,\n",
       "  0.11708255099369369,\n",
       "  0.11512805537999198,\n",
       "  0.11790507313450102,\n",
       "  0.11593755602578483,\n",
       "  0.11491611988833568,\n",
       "  0.10964718462687713,\n",
       "  0.11335010625576358,\n",
       "  0.11538040785695,\n",
       "  0.10956648882253761,\n",
       "  0.11428432809335208,\n",
       "  0.11811345510920877,\n",
       "  0.11483824017506761,\n",
       "  0.11227454605998693,\n",
       "  0.11396996931560291,\n",
       "  0.1174449095648132,\n",
       "  0.11262032492736158,\n",
       "  0.11615083439893209,\n",
       "  0.11360565737424083,\n",
       "  0.11486768069530792,\n",
       "  0.11396024179106365,\n",
       "  0.1160095476056469,\n",
       "  0.11005605509252807,\n",
       "  0.1102168656235606,\n",
       "  0.11306046674785124,\n",
       "  0.11298535515919948,\n",
       "  0.11272020000373117,\n",
       "  0.11387360510986191,\n",
       "  0.11404635777029289,\n",
       "  0.11582346820259942,\n",
       "  0.11428536740613912,\n",
       "  0.11336060990661863,\n",
       "  0.11364109813033753,\n",
       "  0.11352736771895258,\n",
       "  0.11487256221819224,\n",
       "  0.11045108798855884,\n",
       "  0.11521752768237674,\n",
       "  0.11380817674822392,\n",
       "  0.11231338669727023,\n",
       "  0.11374224448465617,\n",
       "  0.1160854052686782,\n",
       "  0.11689127782580938,\n",
       "  0.1147900507665187,\n",
       "  0.11398630209897605,\n",
       "  0.11363363113254772,\n",
       "  0.11128960400990176,\n",
       "  0.1168404025104847,\n",
       "  0.11703282651347503,\n",
       "  0.11480422476393037,\n",
       "  0.11169465430333668,\n",
       "  0.11695856107633161,\n",
       "  0.11434705756592925,\n",
       "  0.11287103482393902,\n",
       "  0.11252642381557842,\n",
       "  0.11282930583805212,\n",
       "  0.11421990986674695,\n",
       "  0.11452847141046768,\n",
       "  0.11222345815165176,\n",
       "  0.11434784953325529,\n",
       "  0.11062858508310344,\n",
       "  0.11028601133746364,\n",
       "  0.11684674556584827,\n",
       "  0.1129601759469415,\n",
       "  0.11455326608714071,\n",
       "  0.11052906562618732,\n",
       "  0.11455700507847773,\n",
       "  0.11402717623506031,\n",
       "  0.11382760784698538,\n",
       "  0.11404235005194174,\n",
       "  0.11606400736275457,\n",
       "  0.11640562415544424,\n",
       "  0.11231926101463736,\n",
       "  0.11099919020383503,\n",
       "  0.117105915386092,\n",
       "  0.11514056971179046,\n",
       "  0.11646924929528134,\n",
       "  0.11469450405956486,\n",
       "  0.11557834533615957,\n",
       "  0.11180836738211318,\n",
       "  0.11490557903883614,\n",
       "  0.11810500700198256,\n",
       "  0.11458395653822764,\n",
       "  0.1099591831044841,\n",
       "  0.11313072110846943,\n",
       "  0.11379590711983474,\n",
       "  0.1117957032342866,\n",
       "  0.1184906312547239,\n",
       "  0.11619567308659501,\n",
       "  0.11375119219619016,\n",
       "  0.11863512623641492,\n",
       "  0.11383768560900778,\n",
       "  0.11067698472670767,\n",
       "  0.11764511407965675,\n",
       "  0.11403066452273007,\n",
       "  0.11525284148822533,\n",
       "  0.11412957142704422,\n",
       "  0.11557937459944997,\n",
       "  0.11290209075818915,\n",
       "  0.11121255172400189,\n",
       "  0.11389422407289793,\n",
       "  0.11449413550706715,\n",
       "  0.11446223672279096,\n",
       "  0.11182376512079772,\n",
       "  0.11704279755384106,\n",
       "  0.1155656948894043,\n",
       "  0.11479212743821035,\n",
       "  0.11197525739076647,\n",
       "  0.11526395745687824,\n",
       "  0.11571136939862113,\n",
       "  0.11111203167476916,\n",
       "  0.11213948392408009,\n",
       "  0.11405763580780488,\n",
       "  0.11382466702706019,\n",
       "  0.11445352327596174,\n",
       "  0.11560844588622973,\n",
       "  0.11591576308384416,\n",
       "  0.1115274615709283,\n",
       "  0.11405743470970793,\n",
       "  0.1146388875408192,\n",
       "  0.11705496592577164,\n",
       "  0.11176040993829155,\n",
       "  0.11513529523292818,\n",
       "  0.11024493241046202,\n",
       "  0.11430792842121221,\n",
       "  0.11797893551549891,\n",
       "  0.11627073882043633,\n",
       "  0.11139752848962928,\n",
       "  0.11393425676165689,\n",
       "  0.11161696181470836,\n",
       "  0.11511491716173969,\n",
       "  0.11701195320495915,\n",
       "  0.11476116523459343,\n",
       "  0.11207380209543848,\n",
       "  0.11074345193283111,\n",
       "  0.11015287207131953,\n",
       "  0.11483984117288899,\n",
       "  0.11252559044865894,\n",
       "  0.1145109551520527,\n",
       "  0.1154973457274,\n",
       "  0.11499978995252406,\n",
       "  0.11572348768942275,\n",
       "  0.11530262316467897,\n",
       "  0.11090844362298088,\n",
       "  0.11655919672116498,\n",
       "  0.11662198705352254,\n",
       "  0.11501024600453258,\n",
       "  0.11448621695203534,\n",
       "  0.11162721170895744,\n",
       "  0.11428085243157486,\n",
       "  0.11428951869620874,\n",
       "  0.11380332122330886,\n",
       "  0.11417775718805583,\n",
       "  0.11398228441283272,\n",
       "  0.11547907031320896,\n",
       "  0.11475320636945181,\n",
       "  0.11192100804356231,\n",
       "  0.11271909540299177,\n",
       "  0.11426973820198276,\n",
       "  0.11008103120066681,\n",
       "  0.11262611049713409,\n",
       "  0.1167262697158454,\n",
       "  0.11235274413548779,\n",
       "  0.1178210703492895,\n",
       "  0.11604193848319753,\n",
       "  0.10953721624405734,\n",
       "  0.11534759335308464,\n",
       "  0.11074227384024786,\n",
       "  0.1144784514507743,\n",
       "  0.11786470391359899,\n",
       "  0.11733631052224999,\n",
       "  0.11078059226258995,\n",
       "  0.11287533544929708,\n",
       "  0.11303885764701041,\n",
       "  0.11647355998219604,\n",
       "  0.1152767744941414,\n",
       "  0.11430683880168463,\n",
       "  0.11173921166564474,\n",
       "  0.11073374102270055,\n",
       "  0.11195709308153995,\n",
       "  0.11371876721288693,\n",
       "  0.11541732574455403,\n",
       "  0.11147972719736776,\n",
       "  0.11036551642453106,\n",
       "  0.11675951202561755,\n",
       "  0.11497409388112158,\n",
       "  0.11385493029954515,\n",
       "  0.1149452455516643,\n",
       "  0.11258877632189877,\n",
       "  0.11545348619695897,\n",
       "  0.11687263379260462,\n",
       "  0.11558154882285944,\n",
       "  0.1124734002555067,\n",
       "  0.11383124114240178,\n",
       "  0.11524275550730864,\n",
       "  0.11192363791240033,\n",
       "  0.11371436215945631,\n",
       "  0.11302411296444284,\n",
       "  0.11473313909685472,\n",
       "  0.1125465797143919,\n",
       "  0.11122626265795209,\n",
       "  0.11220862503996833,\n",
       "  0.11474645062727676,\n",
       "  0.11369306884889499,\n",
       "  0.1152094952921964,\n",
       "  0.11295270592019913,\n",
       "  0.11675218949678211,\n",
       "  0.11788095784658807,\n",
       "  0.11370080899666865,\n",
       "  0.11358503913797038,\n",
       "  0.1152247641240396,\n",
       "  0.11022227704217696,\n",
       "  0.11516563993410203,\n",
       "  0.11445528637658298,\n",
       "  0.11667307553569001,\n",
       "  0.11594563771444258,\n",
       "  0.11781755239523457,\n",
       "  0.11238772441567432,\n",
       "  0.11578056259403713,\n",
       "  0.11556000032230188,\n",
       "  0.1103454219847597,\n",
       "  0.11559121877746092,\n",
       "  0.11407585789051616,\n",
       "  0.1143727140033867,\n",
       "  0.11590424905289778,\n",
       "  0.11404133671081527,\n",
       "  0.11219108349429485,\n",
       "  0.1150043869303815,\n",
       "  0.11394782347710442,\n",
       "  0.11336856329619943,\n",
       "  0.11667329022600602,\n",
       "  0.11654062490346977,\n",
       "  0.10956867183973726,\n",
       "  0.11575177755391737,\n",
       "  0.1095848918335697,\n",
       "  0.11391111111344766,\n",
       "  0.11445274730943389,\n",
       "  0.1107122822919495,\n",
       "  0.11461654535222345,\n",
       "  0.11502248954050485,\n",
       "  0.11435162532189821,\n",
       "  0.11331836822266536,\n",
       "  0.11371816525618204,\n",
       "  0.11600789987052244,\n",
       "  0.11767115267142145,\n",
       "  0.11239510651232075,\n",
       "  0.11083441239522479,\n",
       "  0.11218509149360562,\n",
       "  0.11542528685127404,\n",
       "  0.1103559184520708,\n",
       "  0.11549015818586536,\n",
       "  0.11346207022754529,\n",
       "  0.11511227763440812,\n",
       "  0.11566992167273622,\n",
       "  0.1117771266846793,\n",
       "  0.11565320885509917,\n",
       "  0.11393232806981073,\n",
       "  0.11263901857665096,\n",
       "  0.11411032886034356,\n",
       "  0.11724514522577693,\n",
       "  0.11403372938034051,\n",
       "  0.11829263397365716,\n",
       "  0.11825218869214346,\n",
       "  0.11184523649103989,\n",
       "  0.11061213059619003,\n",
       "  0.1146844326649855,\n",
       "  0.11607420051710828,\n",
       "  0.1121084950990553,\n",
       "  0.11072738585538217,\n",
       "  0.11255786609790043,\n",
       "  0.11270766771967383,\n",
       "  0.11451405665997495,\n",
       "  0.11426017063935942,\n",
       "  0.11549880607127319,\n",
       "  0.11815867637259607,\n",
       "  0.1163548654631188,\n",
       "  0.1157724027224138,\n",
       "  0.1129207691874071,\n",
       "  0.11586958204731,\n",
       "  0.1143096969206943,\n",
       "  0.11582765126505844,\n",
       "  0.1140434166654152,\n",
       "  0.11412843135153797,\n",
       "  0.11335786573556808,\n",
       "  0.11676794448975986,\n",
       "  0.1119841294618562,\n",
       "  0.11324467177129137,\n",
       "  0.11258350648316413,\n",
       "  0.11377457483697534,\n",
       "  0.11308681010056476,\n",
       "  0.1159974611681152,\n",
       "  0.11062034043220473,\n",
       "  0.11039024136773128,\n",
       "  0.11063876103102392,\n",
       "  0.1139562623209696,\n",
       "  0.11206730636750678,\n",
       "  0.11864178784633443,\n",
       "  0.1172292745882307,\n",
       "  0.11584574252028901,\n",
       "  0.11052049260443825,\n",
       "  0.11647031716652068,\n",
       "  0.11215537142141105,\n",
       "  0.11100929565674465,\n",
       "  0.11517287677393939,\n",
       "  0.11436092546633082,\n",
       "  0.11133991674952703,\n",
       "  0.11454185691223105,\n",
       "  0.11343595757448807,\n",
       "  0.11412389347842014,\n",
       "  0.1178833581371328,\n",
       "  0.11393954253286157,\n",
       "  0.11784070656889382,\n",
       "  0.11194950096666954,\n",
       "  0.1182448112143256,\n",
       "  0.11478895415060282,\n",
       "  0.11748479415871313,\n",
       "  0.11530617567586876,\n",
       "  0.11476923435306641,\n",
       "  0.11607383306915926,\n",
       "  0.11616040504624715,\n",
       "  0.11364086459032681,\n",
       "  0.11539552111251718,\n",
       "  0.11441539571890635,\n",
       "  0.11462112808953513,\n",
       "  0.11098666826649617,\n",
       "  0.11468713810236164,\n",
       "  0.11707449489572161,\n",
       "  0.11483606046921609,\n",
       "  0.11308563087977928,\n",
       "  0.11412354437683733,\n",
       "  0.10978936716183646,\n",
       "  0.1134704757165273,\n",
       "  0.10967969081148116,\n",
       "  0.11681556563348676,\n",
       "  0.1135067570865686,\n",
       "  0.11574389255335314,\n",
       "  0.1131922967301587,\n",
       "  0.11332381828250379,\n",
       "  0.10998444971795486,\n",
       "  0.11787968469812267,\n",
       "  0.11443550409713732,\n",
       "  0.11849999920714525,\n",
       "  0.11419651527068325,\n",
       "  0.11439782571137798,\n",
       "  0.117380161426735,\n",
       "  0.11564128717767466,\n",
       "  0.11002888060464801,\n",
       "  0.11480891214455928,\n",
       "  0.11163808382514258,\n",
       "  0.11375208687704538,\n",
       "  0.1104336693145397,\n",
       "  0.11200250510525966,\n",
       "  0.11411550116656717,\n",
       "  0.1129868608477694,\n",
       "  0.1143272937702467,\n",
       "  0.11131747183543399,\n",
       "  0.11114399595590167,\n",
       "  0.11670901767706976,\n",
       "  0.11600784508871494,\n",
       "  0.11377929329793454,\n",
       "  0.11351691603610402,\n",
       "  0.11285225587941208,\n",
       "  0.11333121439499402,\n",
       "  0.11531101864555487,\n",
       "  0.11754516526104174,\n",
       "  0.11526272446898403,\n",
       "  0.11862640889125041,\n",
       "  0.1162800446538012,\n",
       "  0.11502671520528955,\n",
       "  0.11100829224077055,\n",
       "  0.1150883619429648,\n",
       "  0.11290960895437623,\n",
       "  0.11367311436694441,\n",
       "  0.11642611619178451,\n",
       "  0.1165914092367969,\n",
       "  0.11451414500966635,\n",
       "  0.1154276592901819,\n",
       "  0.11666125986762105,\n",
       "  0.11155258890005852,\n",
       "  0.11378889369388669,\n",
       "  0.11640315922147554,\n",
       "  0.1111967694256123,\n",
       "  0.11245646546726178,\n",
       "  0.11602355913324361,\n",
       "  0.11244232177301347,\n",
       "  0.11129152501228076,\n",
       "  0.11830110740604227,\n",
       "  0.11153289985039289,\n",
       "  0.11293590661791322,\n",
       "  0.11804942478877027,\n",
       "  0.11370840796144388,\n",
       "  0.11043394362672009,\n",
       "  0.11233132480863633,\n",
       "  0.11115984847119358,\n",
       "  0.11456620569359846,\n",
       "  0.11432116770285894,\n",
       "  0.11410247126414555,\n",
       "  0.11378619453427086,\n",
       "  0.11244126698159074,\n",
       "  0.11226246171384432,\n",
       "  0.11807178592319706,\n",
       "  0.11059238284102563,\n",
       "  0.11407138053202033,\n",
       "  0.11151918292877733,\n",
       "  0.1151213556470248,\n",
       "  0.11700521778209487,\n",
       "  0.11016323801286253,\n",
       "  0.1181602231600166,\n",
       "  0.11465915820407054,\n",
       "  0.1174874658386874,\n",
       "  0.1137413141490966,\n",
       "  0.11173424217447285,\n",
       "  0.11192254366745444,\n",
       "  0.1150620640341134,\n",
       "  0.11282388797596914,\n",
       "  0.11151061686932696,\n",
       "  0.1129927842407056,\n",
       "  0.11709812686000272,\n",
       "  0.11290828479876114,\n",
       "  0.11089485162861373,\n",
       "  0.11489590158693508,\n",
       "  0.11055512959903001,\n",
       "  0.11484942793419574,\n",
       "  0.11225096096219878,\n",
       "  0.1178714361292016,\n",
       "  0.1155750173245279,\n",
       "  0.11050956876131665,\n",
       "  0.10945991911615062,\n",
       "  0.11734475406987654,\n",
       "  0.11417576521984665,\n",
       "  0.11824744519825138,\n",
       "  0.1141127275696674,\n",
       "  0.11302395000501424,\n",
       "  0.11816150662713958,\n",
       "  0.11083087832532465,\n",
       "  0.11674170262243798,\n",
       "  0.11386772657958773,\n",
       "  0.11794366551594751,\n",
       "  0.11162133212617528,\n",
       "  0.11328202623910869,\n",
       "  0.11104180269185251,\n",
       "  0.11337120672524163,\n",
       "  0.11292584014880558,\n",
       "  0.11316381262368687,\n",
       "  0.11220925817324642,\n",
       "  0.1170509414762389,\n",
       "  0.1106772803525518,\n",
       "  0.11784196453601667,\n",
       "  0.11477336018021783,\n",
       "  0.1133293096808535,\n",
       "  0.11160446125112562,\n",
       "  0.11329028770257855,\n",
       "  0.1142570498636229,\n",
       "  0.11631305568155632,\n",
       "  0.11367027684179945,\n",
       "  0.10948945886089669,\n",
       "  0.11345824008666199,\n",
       "  0.11365042355457729,\n",
       "  0.11502334952982217,\n",
       "  0.11189477698956961,\n",
       "  0.11381096635167001,\n",
       "  0.11731679812594292,\n",
       "  0.11425112339958238,\n",
       "  0.11026761504151045,\n",
       "  0.1169213942703732,\n",
       "  0.11730448448541926,\n",
       "  0.11152725993699708,\n",
       "  0.11562863196384011,\n",
       "  0.11616668739595382,\n",
       "  0.11051824280736408,\n",
       "  0.11498971445313377,\n",
       "  0.11591793499516567,\n",
       "  0.11269224157084294,\n",
       "  0.11485856889361501,\n",
       "  0.1139341154259513,\n",
       "  0.11291763698573039,\n",
       "  0.11335080476511276,\n",
       "  0.11660593620281913,\n",
       "  0.11554988840595556,\n",
       "  0.11508161902788393,\n",
       "  0.11506687412321027,\n",
       "  0.11352524490482917,\n",
       "  0.1128359430887907,\n",
       "  0.11632831196213442,\n",
       "  0.11176775174706798,\n",
       "  0.11255766443161291,\n",
       "  0.11324498817884258,\n",
       "  0.11819076506586561,\n",
       "  0.11536331356541832,\n",
       "  0.11356181122763048,\n",
       "  0.11021700785724048,\n",
       "  0.11150662831585612,\n",
       "  0.11255373627952135,\n",
       "  0.11379661443010124,\n",
       "  0.11734244657222469,\n",
       "  0.11547711288968955,\n",
       "  0.11026522467856902,\n",
       "  0.11620286464089345,\n",
       "  0.11743597349123142,\n",
       "  0.11418380679920864,\n",
       "  0.10959289567287196,\n",
       "  0.11474567585307464,\n",
       "  0.11746975655290928,\n",
       "  0.11008823471382918,\n",
       "  0.109515156936601,\n",
       "  0.11649210016024131,\n",
       "  0.11424982907961752,\n",
       "  0.11646928832694255,\n",
       "  0.11415682218894409,\n",
       "  0.11408776644165483,\n",
       "  0.11564792991741103,\n",
       "  0.11358608836844537,\n",
       "  0.1152662183868436,\n",
       "  0.11315321485694138,\n",
       "  0.11554511679830853,\n",
       "  0.11526497894645729,\n",
       "  0.11649781225652665,\n",
       "  0.11787077578231697,\n",
       "  0.1155665649871,\n",
       "  0.11444079734724337,\n",
       "  0.11040192132266154,\n",
       "  0.11823321891522681,\n",
       "  0.11780082730163194,\n",
       "  0.11430029717020534,\n",
       "  0.11449086550882104,\n",
       "  0.1166635855793466,\n",
       "  0.11483619237865167,\n",
       "  0.1145671416948369,\n",
       "  0.11429286267863512,\n",
       "  0.11231307440408098,\n",
       "  0.11004817064368491,\n",
       "  0.1172602844945015,\n",
       "  0.11204943439644652,\n",
       "  0.11344044118395259,\n",
       "  0.11482003710939774,\n",
       "  0.11605713274534112,\n",
       "  0.11450079494671739,\n",
       "  0.11494598200967318,\n",
       "  0.11142239446336892,\n",
       "  0.11789731916016362,\n",
       "  0.1141084959100579,\n",
       "  0.11500162690609707,\n",
       "  0.11778131032388744,\n",
       "  0.11656177379328857,\n",
       "  0.11283300888774575,\n",
       "  0.11067015041282448,\n",
       "  0.11824348497959446,\n",
       "  0.11616520688407532,\n",
       "  0.11487676246434901,\n",
       "  0.1125657856344002,\n",
       "  0.10945199129216122,\n",
       "  0.11444631364813648,\n",
       "  0.11503755508583834,\n",
       "  0.11106033794547154,\n",
       "  0.11359635920852018,\n",
       "  0.11432725224238036,\n",
       "  0.11169117356295816,\n",
       "  0.11204153058701288,\n",
       "  0.11401473222490616,\n",
       "  0.1109210608170525,\n",
       "  0.11422302495155487,\n",
       "  0.11049416234191876,\n",
       "  0.11244789031642174,\n",
       "  0.11115642701781396,\n",
       "  0.11613561405394532,\n",
       "  0.11187804534955985,\n",
       "  0.11448383907368309,\n",
       "  0.11388855225193494,\n",
       "  0.11385506138675774,\n",
       "  0.11386142803234055,\n",
       "  0.114087263236291,\n",
       "  0.11532868489495239,\n",
       "  0.11814432042206986,\n",
       "  0.1141152056892208,\n",
       "  0.11246882172061126,\n",
       "  0.11340227110485528,\n",
       "  0.11820915281482769,\n",
       "  0.11293398091993309,\n",
       "  0.11164160437575994,\n",
       "  0.11248687208621706,\n",
       "  0.11112973072321723,\n",
       "  0.11657172520525098,\n",
       "  0.11223307794900594,\n",
       "  0.11317824973830996,\n",
       "  0.1182910860093083,\n",
       "  0.1176024438308808,\n",
       "  0.11313993175040904,\n",
       "  0.11041445105782545,\n",
       "  0.11767313567399183,\n",
       "  0.11408848938553118,\n",
       "  0.11624399558224255,\n",
       "  0.11446534809324814,\n",
       "  0.11210809351510019,\n",
       "  0.11696281858556586,\n",
       "  0.11752912171162579,\n",
       "  0.11608641110324468,\n",
       "  0.11017480283916478,\n",
       "  0.11121719538031584,\n",
       "  0.11027907325356033,\n",
       "  0.11781162147427157,\n",
       "  0.11423082125144762,\n",
       "  0.1097110585310537,\n",
       "  0.11432156147348191,\n",
       "  0.11648946393226972,\n",
       "  0.10998853991305277,\n",
       "  0.11511177840495028,\n",
       "  0.11564855772999784,\n",
       "  0.11152964360798955,\n",
       "  0.11075436790460878,\n",
       "  0.11584210514595697,\n",
       "  0.11440165818185828,\n",
       "  0.11106702512253057,\n",
       "  0.1110871874689294,\n",
       "  0.11516700961005825,\n",
       "  0.11445095611269333,\n",
       "  0.11756292317603306,\n",
       "  0.11655903941297158,\n",
       "  0.11245906620480167,\n",
       "  0.11133777186883288,\n",
       "  0.1182144754303093,\n",
       "  0.1129265189821081,\n",
       "  0.1162795457065049,\n",
       "  0.11314753657086217,\n",
       "  0.11333657414216915,\n",
       "  0.11462979654161565,\n",
       "  0.11299553232006569,\n",
       "  0.11795627625750027,\n",
       "  0.11280152396396075,\n",
       "  0.11725273127681582,\n",
       "  0.1166191334597662,\n",
       "  0.11534145888875738,\n",
       "  0.11404607509151303,\n",
       "  0.11496971851804753,\n",
       "  0.11598899836374989,\n",
       "  0.11195296802376457,\n",
       "  0.11439205764735567,\n",
       "  0.11522038625756155,\n",
       "  0.11270951767920075,\n",
       "  0.11285044590142378,\n",
       "  0.11259261986317415,\n",
       "  0.11391307539629955,\n",
       "  0.11572312081938038,\n",
       "  0.11542433030120011,\n",
       "  0.11375995891735384,\n",
       "  0.1100230643078039,\n",
       "  0.11783243435864153,\n",
       "  0.11556305376827547,\n",
       "  0.11499549770095145,\n",
       "  0.11432883935530652,\n",
       "  0.11431133332770417,\n",
       "  0.11454413462492975,\n",
       "  0.11427666870098425,\n",
       "  0.11765014205164667,\n",
       "  0.11766795435934851,\n",
       "  0.11248494372932259,\n",
       "  0.11820688358586291,\n",
       "  0.11514595064538449,\n",
       "  0.11232248354269828,\n",
       "  0.11502561959414513,\n",
       "  0.11331658613689702,\n",
       "  0.11462982428142308,\n",
       "  0.11344695719699589,\n",
       "  0.11784305242191424,\n",
       "  0.1128177027151009,\n",
       "  0.11515262794931806,\n",
       "  0.1141575336638864,\n",
       "  0.11209565629966424,\n",
       "  0.11299694471532179,\n",
       "  0.11498805220189118,\n",
       "  0.11684963656324558,\n",
       "  0.11472488322815724,\n",
       "  0.11171261312617731,\n",
       "  0.10993704227669848,\n",
       "  0.11433505823590148,\n",
       "  0.11398184508333661,\n",
       "  0.11222587696305969,\n",
       "  0.11490386257953603,\n",
       "  0.11482528026453208,\n",
       "  0.11707789277642479,\n",
       "  0.11438587699430244,\n",
       "  0.11580937950765059,\n",
       "  0.11572312124404088,\n",
       "  0.11812325248895461,\n",
       "  0.11551051680353651,\n",
       "  0.11201603869908806,\n",
       "  0.11543102912284763,\n",
       "  0.11705052844844208,\n",
       "  0.11051754474817961,\n",
       "  0.11238516474320273,\n",
       "  0.11360181933687015,\n",
       "  0.11409472312224242,\n",
       "  0.11253211331509495,\n",
       "  0.11370796955510781,\n",
       "  0.11511595304424271,\n",
       "  0.10994428388527192,\n",
       "  0.11474124731257541,\n",
       "  0.11571062815032188,\n",
       "  0.11464188596794529,\n",
       "  0.1153758474268545,\n",
       "  0.10962192026434299,\n",
       "  0.11420240161083388,\n",
       "  0.1170130939554225,\n",
       "  0.11374625427269139,\n",
       "  0.11827214385229314,\n",
       "  0.11517445010535371,\n",
       "  0.11137757468291859,\n",
       "  0.11243290119144662,\n",
       "  0.11428555652787413,\n",
       "  0.11403087422536247,\n",
       "  0.11758931414556405,\n",
       "  0.11506216569747463,\n",
       "  0.1124344603401343,\n",
       "  0.10965517635212602,\n",
       "  0.115259259610208,\n",
       "  0.11817161550526764,\n",
       "  0.11129653148195562,\n",
       "  0.11424054525360164,\n",
       "  0.1137632471394438,\n",
       "  0.11517364816308549,\n",
       "  0.1143675459579395,\n",
       "  0.11278923229854612,\n",
       "  0.1186393332168032,\n",
       "  0.11384903776579698,\n",
       "  0.11669632513668714,\n",
       "  0.11377699151683437,\n",
       "  0.1104999275849868,\n",
       "  0.11367972711375111,\n",
       "  0.11469301626364299,\n",
       "  0.11476956927038391,\n",
       "  0.11148109635152213,\n",
       "  0.11795888629630892,\n",
       "  0.11378576038655136,\n",
       "  0.11484240625946301,\n",
       "  0.11347549717169268,\n",
       "  0.11667511298718333,\n",
       "  0.11544709534322296,\n",
       "  0.11450538163180048,\n",
       "  0.1155228692860534,\n",
       "  0.11808284368506762,\n",
       "  0.1128784013681716,\n",
       "  0.11215291802936546,\n",
       "  0.1138038581579475,\n",
       "  0.11364011296852543,\n",
       "  0.11328369539016417,\n",
       "  0.11678631007285689,\n",
       "  0.11621177898557752,\n",
       "  0.11684633028204201,\n",
       "  0.11246636766570878,\n",
       "  0.11818273429422435,\n",
       "  0.11284754877579464,\n",
       "  0.10996564228353517,\n",
       "  0.11407177896179459,\n",
       "  0.1097335950347112,\n",
       "  0.1140583779426057,\n",
       "  0.11389932423078332,\n",
       "  0.11481476988928757,\n",
       "  0.11260726241405622,\n",
       "  0.11610832573757374,\n",
       "  0.11642669632946934,\n",
       "  0.1132179255558747,\n",
       "  0.11520146403238984,\n",
       "  0.10948728290708656,\n",
       "  0.11392152414714515,\n",
       "  0.11502425624599082,\n",
       "  0.11274170761874938,\n",
       "  0.11518728206698799,\n",
       "  0.11666639913528885,\n",
       "  0.11658834529813573,\n",
       "  0.11855564371092768,\n",
       "  0.11372541646997782],\n",
       " [0.15265345165887573,\n",
       "  0.15905345113081562,\n",
       "  0.1592315508294476,\n",
       "  0.15144861855867559,\n",
       "  0.15145054942493383,\n",
       "  0.15300875970789696,\n",
       "  0.15185887011592838,\n",
       "  0.15165289617690597,\n",
       "  0.1575331736356432,\n",
       "  0.15160515551597145,\n",
       "  0.1554925818525327,\n",
       "  0.15254747648844003,\n",
       "  0.15859576696158273,\n",
       "  0.15144551156543956,\n",
       "  0.1609803298412523,\n",
       "  0.15898417671202003,\n",
       "  0.15166523476353905,\n",
       "  0.16896780433510616,\n",
       "  0.15211366817548796,\n",
       "  0.15254959264469614,\n",
       "  0.15387391206736928,\n",
       "  0.1648396071901021,\n",
       "  0.1553251596582082,\n",
       "  0.15694625121297054,\n",
       "  0.15157540520647844,\n",
       "  0.15628752514281455,\n",
       "  0.15978965678098844,\n",
       "  0.1658653191551946,\n",
       "  0.16017238553141463,\n",
       "  0.15393468653305337,\n",
       "  0.1515661053691129,\n",
       "  0.15641289066156355,\n",
       "  0.16145545024143862,\n",
       "  0.15748740935688882,\n",
       "  0.15744287088239972,\n",
       "  0.15761337434851347,\n",
       "  0.15153170789834813,\n",
       "  0.16238084250259519,\n",
       "  0.15144923932041368,\n",
       "  0.15990067243527445,\n",
       "  0.15155140960474917,\n",
       "  0.1602353837197427,\n",
       "  0.156684294816552,\n",
       "  0.15149990270158223,\n",
       "  0.1516781137355388,\n",
       "  0.1548377096220211,\n",
       "  0.1556519276640004,\n",
       "  0.15593221196080326,\n",
       "  0.15257959261953022,\n",
       "  0.162640076060878,\n",
       "  0.15315772352791618,\n",
       "  0.15147402957971046,\n",
       "  0.15276402366403727,\n",
       "  0.15256858743951243,\n",
       "  0.1662992199702612,\n",
       "  0.16818201909189695,\n",
       "  0.1524818906395172,\n",
       "  0.15205077924362767,\n",
       "  0.1574721450460615,\n",
       "  0.15248626860030473,\n",
       "  0.15426011265165535,\n",
       "  0.15505060859312625,\n",
       "  0.15147275657451081,\n",
       "  0.1538156576123507,\n",
       "  0.16370113354096122,\n",
       "  0.15994282986089617,\n",
       "  0.15300349626031817,\n",
       "  0.15304773226075874,\n",
       "  0.15181197131713522,\n",
       "  0.16069162918982352,\n",
       "  0.15144666818566485,\n",
       "  0.15215082254566828,\n",
       "  0.15315052846624175,\n",
       "  0.17145453234732388,\n",
       "  0.15863307422789505,\n",
       "  0.15733483787238758,\n",
       "  0.16007260833505757,\n",
       "  0.15180438346811417,\n",
       "  0.1521833160624175,\n",
       "  0.15264682011986724,\n",
       "  0.15527218396592385,\n",
       "  0.15185605393927046,\n",
       "  0.15150121920257023,\n",
       "  0.1581541255487619,\n",
       "  0.15356598913598574,\n",
       "  0.15146788622804502,\n",
       "  0.15339928305390502,\n",
       "  0.15145102496846918,\n",
       "  0.15144603027346276,\n",
       "  0.15866048716124875,\n",
       "  0.1651751191132904,\n",
       "  0.16415933948826708,\n",
       "  0.15910683553956953,\n",
       "  0.15176305130146364,\n",
       "  0.1533968021049433,\n",
       "  0.15218262275143407,\n",
       "  0.16257087540966156,\n",
       "  0.16878672270642256,\n",
       "  0.15198981040075954,\n",
       "  0.15673693500107494,\n",
       "  0.15182075393959918,\n",
       "  0.15405878464230485,\n",
       "  0.15145619294380164,\n",
       "  0.15225166718219063,\n",
       "  0.15989901157463932,\n",
       "  0.15409347903308618,\n",
       "  0.1524875584795076,\n",
       "  0.1516075712998373,\n",
       "  0.15919672170211083,\n",
       "  0.15555270523937414,\n",
       "  0.1521411201006855,\n",
       "  0.15144865707089533,\n",
       "  0.15276217607679496,\n",
       "  0.16816012687089787,\n",
       "  0.15445542802888937,\n",
       "  0.16109759385932276,\n",
       "  0.15147126180075543,\n",
       "  0.15148085693582067,\n",
       "  0.162794999816294,\n",
       "  0.15666774973117836,\n",
       "  0.15192107255451437,\n",
       "  0.17108618632188824,\n",
       "  0.15944226403442074,\n",
       "  0.15168184701453546,\n",
       "  0.1517806251160709,\n",
       "  0.16052942056156058,\n",
       "  0.15228581872530467,\n",
       "  0.15633091541543773,\n",
       "  0.16149660363417453,\n",
       "  0.16180765357379287,\n",
       "  0.1545233351002622,\n",
       "  0.1601143971659885,\n",
       "  0.16680201413400958,\n",
       "  0.15144690715043518,\n",
       "  0.16179149839221502,\n",
       "  0.15750234015728787,\n",
       "  0.167227196519567,\n",
       "  0.1526091301814109,\n",
       "  0.15213438810609825,\n",
       "  0.15395256170212976,\n",
       "  0.15195168596434597,\n",
       "  0.15174182074681106,\n",
       "  0.15151212491825897,\n",
       "  0.16217466711852677,\n",
       "  0.15150236939257475,\n",
       "  0.170458927242455,\n",
       "  0.15405046200493783,\n",
       "  0.1521537381674758,\n",
       "  0.15298864811070234,\n",
       "  0.16662594565390312,\n",
       "  0.15160962423411767,\n",
       "  0.15670473352664469,\n",
       "  0.16151570682418778,\n",
       "  0.16524970463881447,\n",
       "  0.16687646053517777,\n",
       "  0.1520777002420717,\n",
       "  0.15830114385699387,\n",
       "  0.1520587546241396,\n",
       "  0.16317318867418532,\n",
       "  0.15146598921159168,\n",
       "  0.15145702635452105,\n",
       "  0.15158742410446527,\n",
       "  0.15168616799249804,\n",
       "  0.15461752361957723,\n",
       "  0.151693725417971,\n",
       "  0.17136101458515784,\n",
       "  0.15437314488485462,\n",
       "  0.17123224093049802,\n",
       "  0.16745458728073587,\n",
       "  0.15712967357873756,\n",
       "  0.15760472854698868,\n",
       "  0.154910460520142,\n",
       "  0.15921260079441393,\n",
       "  0.15915126381772204,\n",
       "  0.1618877496954284,\n",
       "  0.16617934877703716,\n",
       "  0.15475120173403256,\n",
       "  0.15812850949351395,\n",
       "  0.15234391720758736,\n",
       "  0.16867357041120776,\n",
       "  0.16354884359167252,\n",
       "  0.1514931076344798,\n",
       "  0.1642789170700697,\n",
       "  0.15164000313849998,\n",
       "  0.15164613451593462,\n",
       "  0.16306762257896357,\n",
       "  0.1551275425282982,\n",
       "  0.1665716890292699,\n",
       "  0.15177971111084604,\n",
       "  0.1514467943363831,\n",
       "  0.1550584271589338,\n",
       "  0.164584020993779,\n",
       "  0.15218154817841317,\n",
       "  0.1518113217409754,\n",
       "  0.151489894275609,\n",
       "  0.17163620240619892,\n",
       "  0.15243753826245288,\n",
       "  0.15406341360666628,\n",
       "  0.1549198618460624,\n",
       "  0.1551347554574195,\n",
       "  0.1514522175250811,\n",
       "  0.1537688798284122,\n",
       "  0.16826928053625298,\n",
       "  0.151496596203494,\n",
       "  0.1621742887416991,\n",
       "  0.15504964901345794,\n",
       "  0.1548844643901317,\n",
       "  0.1533649784926907,\n",
       "  0.16174976537854174,\n",
       "  0.15781654658966865,\n",
       "  0.1537750431024954,\n",
       "  0.1514927260915687,\n",
       "  0.1514476201109694,\n",
       "  0.16583750029957645,\n",
       "  0.15600894527250742,\n",
       "  0.15198256399681576,\n",
       "  0.15181844452642684,\n",
       "  0.15280346211550613,\n",
       "  0.16197174239278858,\n",
       "  0.16102849667244495,\n",
       "  0.15146056813785222,\n",
       "  0.156140992168273,\n",
       "  0.15148881144121146,\n",
       "  0.1518027273687239,\n",
       "  0.1520918638516203,\n",
       "  0.15155677051235553,\n",
       "  0.1589060349888986,\n",
       "  0.15528651783102407,\n",
       "  0.15344382026732664,\n",
       "  0.15159823464789607,\n",
       "  0.1542376960057432,\n",
       "  0.16615893620763514,\n",
       "  0.16090086423579286,\n",
       "  0.15294267519531213,\n",
       "  0.16610584178406104,\n",
       "  0.15544053320231435,\n",
       "  0.15248437719841482,\n",
       "  0.16733702458219102,\n",
       "  0.15169274906219715,\n",
       "  0.1535953245607873,\n",
       "  0.16792099552407846,\n",
       "  0.15161176054710956,\n",
       "  0.16758157077416191,\n",
       "  0.15233673474882337,\n",
       "  0.1538019034310344,\n",
       "  0.1514557950148532,\n",
       "  0.16306870732900727,\n",
       "  0.1528920000240224,\n",
       "  0.15629099957078368,\n",
       "  0.15150756671443014,\n",
       "  0.1523912307015859,\n",
       "  0.15145393239767782,\n",
       "  0.15571881773853002,\n",
       "  0.16451973012298252,\n",
       "  0.16347823966936056,\n",
       "  0.1520504195919527,\n",
       "  0.15216869408737632,\n",
       "  0.1526697226304981,\n",
       "  0.1514451978716488,\n",
       "  0.15147660943773728,\n",
       "  0.1550180176217045,\n",
       "  0.15161258401326874,\n",
       "  0.15168272415866904,\n",
       "  0.1514915680468199,\n",
       "  0.15155127443828667,\n",
       "  0.1524004214304206,\n",
       "  0.1620307068169288,\n",
       "  0.15316083410980938,\n",
       "  0.1514479628124874,\n",
       "  0.15368891126183953,\n",
       "  0.15145889764948348,\n",
       "  0.1560217532074047,\n",
       "  0.1598391259634207,\n",
       "  0.1522509928376182,\n",
       "  0.15145932280081337,\n",
       "  0.15149474246592448,\n",
       "  0.1575546337087552,\n",
       "  0.15956653454394623,\n",
       "  0.16061927950891403,\n",
       "  0.1522757660285191,\n",
       "  0.15580760695840407,\n",
       "  0.16020599068400104,\n",
       "  0.151665090131713,\n",
       "  0.15236878663099354,\n",
       "  0.15311762233205092,\n",
       "  0.15244784544373874,\n",
       "  0.15156467653824654,\n",
       "  0.1518607797143535,\n",
       "  0.15395465053775548,\n",
       "  0.151665810570084,\n",
       "  0.16098977081142085,\n",
       "  0.1630422689478308,\n",
       "  0.15960029402417894,\n",
       "  0.1522106860836511,\n",
       "  0.15189230263099196,\n",
       "  0.16156738683148178,\n",
       "  0.15189715574566343,\n",
       "  0.15147035079143567,\n",
       "  0.15144630071811913,\n",
       "  0.15147524459301667,\n",
       "  0.15593529595951064,\n",
       "  0.15740896683197858,\n",
       "  0.15367205848919213,\n",
       "  0.15897652957100708,\n",
       "  0.16103451550808034,\n",
       "  0.15297231028455727,\n",
       "  0.15770521121357636,\n",
       "  0.15209371412924108,\n",
       "  0.15418770166581827,\n",
       "  0.15536772991653544,\n",
       "  0.15246373907420194,\n",
       "  0.1675205586662885,\n",
       "  0.1519329092452999,\n",
       "  0.16516548975206616,\n",
       "  0.15194928780305528,\n",
       "  0.15144937828556304,\n",
       "  0.15541560700586285,\n",
       "  0.17040492881177544,\n",
       "  0.15647974951647792,\n",
       "  0.15145693400487695,\n",
       "  0.1715368621314749,\n",
       "  0.15144571849243443,\n",
       "  0.16071445429736478,\n",
       "  0.16435185849089232,\n",
       "  0.1514714374873023,\n",
       "  0.15325095123271448,\n",
       "  0.15151177172812466,\n",
       "  0.15419096530211834,\n",
       "  0.15231203686784017,\n",
       "  0.15791830342842247,\n",
       "  0.15144599590062358,\n",
       "  0.15181902132131722,\n",
       "  0.1517822001610265,\n",
       "  0.15530989498854814,\n",
       "  0.16067543252603037,\n",
       "  0.15414774336715942,\n",
       "  0.15225459916642173,\n",
       "  0.15476300792425557,\n",
       "  0.1532797868590514,\n",
       "  0.1546251118055687,\n",
       "  0.15840753817988767,\n",
       "  0.15421587553472468,\n",
       "  0.15148061232267687,\n",
       "  0.15144650664149972,\n",
       "  0.15177247281468328,\n",
       "  0.1542839255996565,\n",
       "  0.15535806862435478,\n",
       "  0.15649488408963702,\n",
       "  0.1514805388529244,\n",
       "  0.152009970511999,\n",
       "  0.1607441723016784,\n",
       "  0.15555050687391966,\n",
       "  0.15295978495885426,\n",
       "  0.16330041000511522,\n",
       "  0.15163095878247881,\n",
       "  0.1666219219257122,\n",
       "  0.1568034123325563,\n",
       "  0.1570619514628326,\n",
       "  0.1514498298333989,\n",
       "  0.1561210062510862,\n",
       "  0.15291187057946223,\n",
       "  0.16050223715291842,\n",
       "  0.1522016589661938,\n",
       "  0.154428959443726,\n",
       "  0.16034237715363842,\n",
       "  0.16388810025554776,\n",
       "  0.15233965709003242,\n",
       "  0.15311969670012474,\n",
       "  0.15183920186150818,\n",
       "  0.15393679797456025,\n",
       "  0.15265545564762323,\n",
       "  0.15466651822107932,\n",
       "  0.15338183453288542,\n",
       "  0.15944914820160697,\n",
       "  0.15813551548939306,\n",
       "  0.1584438342671851,\n",
       "  0.15267774000945983,\n",
       "  0.15180970342884845,\n",
       "  0.15607906469952842,\n",
       "  0.15160902143483718,\n",
       "  0.1516158933619465,\n",
       "  0.1514484890951248,\n",
       "  0.1515380830419434,\n",
       "  0.15145840846096648,\n",
       "  0.15388181171696932,\n",
       "  0.1521883377017706,\n",
       "  0.15495421869942144,\n",
       "  0.15267208091843665,\n",
       "  0.1516004145781389,\n",
       "  0.16435546371498308,\n",
       "  0.15287862534907437,\n",
       "  0.1589701892169345,\n",
       "  0.15357718651138466,\n",
       "  0.16552837085136085,\n",
       "  0.15584695452572753,\n",
       "  0.16813505914109075,\n",
       "  0.1535039273138001,\n",
       "  0.1603489111671254,\n",
       "  0.15180067941172448,\n",
       "  0.1658270639216266,\n",
       "  0.16239786089048192,\n",
       "  0.16013751674949103,\n",
       "  0.15236082157018505,\n",
       "  0.15208337253549362,\n",
       "  0.157725526609527,\n",
       "  0.15331331355756142,\n",
       "  0.15163004940894642,\n",
       "  0.1556325722595786,\n",
       "  0.16039630210211192,\n",
       "  0.15482645406436982,\n",
       "  0.1514647659781597,\n",
       "  0.1537004726104866,\n",
       "  0.15669988180545413,\n",
       "  0.16254989688111346,\n",
       "  0.15914170363356175,\n",
       "  0.15260154477155388,\n",
       "  0.15144516553325718,\n",
       "  0.15254246759238443,\n",
       "  0.15296600853889253,\n",
       "  0.15380584194359956,\n",
       "  0.15973874863169799,\n",
       "  0.1541978656411421,\n",
       "  0.15325212265192145,\n",
       "  0.1514460687798098,\n",
       "  0.15322498164384724,\n",
       "  0.15494482988856068,\n",
       "  0.1514659825808369,\n",
       "  0.15210635560303756,\n",
       "  0.15215527134895496,\n",
       "  0.15306783673005991,\n",
       "  0.15785286815401303,\n",
       "  0.15399987627460918,\n",
       "  0.15217712235129421,\n",
       "  0.15147237808220368,\n",
       "  0.15314065286593936,\n",
       "  0.15222337011165457,\n",
       "  0.1591037687780646,\n",
       "  0.16593902848869055,\n",
       "  0.15146995465081292,\n",
       "  0.15151796044835156,\n",
       "  0.15317911605660442,\n",
       "  0.16344386138002606,\n",
       "  0.15303253899958819,\n",
       "  0.1517744296154723,\n",
       "  0.15869947559636682,\n",
       "  0.15547132451521467,\n",
       "  0.16550440807137123,\n",
       "  0.1534802333104763,\n",
       "  0.15486501974603156,\n",
       "  0.15412984943975166,\n",
       "  0.16267343598456757,\n",
       "  0.1542286572842118,\n",
       "  0.1514875852676631,\n",
       "  0.15168902686685262,\n",
       "  0.1553148336569919,\n",
       "  0.15147490428012117,\n",
       "  0.15405386811449834,\n",
       "  0.15266522817373432,\n",
       "  0.151451813270999,\n",
       "  0.1516752707499856,\n",
       "  0.15870055890469614,\n",
       "  0.15804556959885568,\n",
       "  0.16790507896445908,\n",
       "  0.15476418994053176,\n",
       "  0.1677870238620369,\n",
       "  0.15144724542336335,\n",
       "  0.1517716134396982,\n",
       "  0.16051599255004767,\n",
       "  0.15197794927235878,\n",
       "  0.15270408914257197,\n",
       "  0.1516692614936293,\n",
       "  0.15172429561748602,\n",
       "  0.15146493007543668,\n",
       "  0.1557123478840267,\n",
       "  0.16452311207370032,\n",
       "  0.15346005525509782,\n",
       "  0.15984455144501505,\n",
       "  0.15407243722159264,\n",
       "  0.1537234688830121,\n",
       "  0.16260882791765374,\n",
       "  0.15391510097882044,\n",
       "  0.15159653258163247,\n",
       "  0.15290571985534127,\n",
       "  0.1544854550455234,\n",
       "  0.15548634125060543,\n",
       "  0.1544300029405448,\n",
       "  0.15144957597808295,\n",
       "  0.152849006093507,\n",
       "  0.15150248363035032,\n",
       "  0.1618485953719339,\n",
       "  0.15147241116119547,\n",
       "  0.16889877226663716,\n",
       "  0.1685976028576644,\n",
       "  0.15522993782127723,\n",
       "  0.16108420733526374,\n",
       "  0.15207812291575767,\n",
       "  0.15597638256296936,\n",
       "  0.15431545287889067,\n",
       "  0.16043167339548756,\n",
       "  0.15304028241366202,\n",
       "  0.15269661017518493,\n",
       "  0.15184298080140932,\n",
       "  0.1515931910697915,\n",
       "  0.15394121762357282,\n",
       "  0.16790984082282676,\n",
       "  0.15717749315258803,\n",
       "  0.15483628868540544,\n",
       "  0.15227876412414668,\n",
       "  0.15518605703948166,\n",
       "  0.1516324394733861,\n",
       "  0.1550331070483081,\n",
       "  0.15147560488267964,\n",
       "  0.15151120203634869,\n",
       "  0.15168532331321477,\n",
       "  0.1591854963100756,\n",
       "  0.15473223010017428,\n",
       "  0.15180481606809693,\n",
       "  0.15297854807009797,\n",
       "  0.151452513652651,\n",
       "  0.15201142162394746,\n",
       "  0.15567146941783008,\n",
       "  0.16103703600714953,\n",
       "  0.1623987331897329,\n",
       "  0.16093158065002441,\n",
       "  0.15145322172687545,\n",
       "  0.15445044936399124,\n",
       "  0.17158970348263564,\n",
       "  0.16175428160597433,\n",
       "  0.155098720376631,\n",
       "  0.16161786555784385,\n",
       "  0.15771024098981515,\n",
       "  0.1541654871911438,\n",
       "  0.15892472604742694,\n",
       "  0.15305013805912737,\n",
       "  0.15167787537535202,\n",
       "  0.15732251934215094,\n",
       "  0.15187765501010145,\n",
       "  0.15161687106112062,\n",
       "  0.1515089586888874,\n",
       "  0.16595559483916864,\n",
       "  0.1514505614264502,\n",
       "  0.16566245169250834,\n",
       "  0.15485314481212528,\n",
       "  0.1685429078876225,\n",
       "  0.15224909168710182,\n",
       "  0.16331956090692343,\n",
       "  0.15339134634827686,\n",
       "  0.15221528465302925,\n",
       "  0.15597489834203465,\n",
       "  0.15633099899030733,\n",
       "  0.15149166574288842,\n",
       "  0.15363807258791867,\n",
       "  0.15173157863629191,\n",
       "  0.15198444158016425,\n",
       "  0.15904095116104738,\n",
       "  0.1520822926043133,\n",
       "  0.1608549794517182,\n",
       "  0.15233276369604024,\n",
       "  0.152013139707113,\n",
       "  0.1515087877098805,\n",
       "  0.1663302542895951,\n",
       "  0.15159025791781225,\n",
       "  0.16710434853229617,\n",
       "  0.1594349692204152,\n",
       "  0.1515646953502729,\n",
       "  0.15473682473939462,\n",
       "  0.15186821055785102,\n",
       "  0.1517187443420318,\n",
       "  0.16499574076642945,\n",
       "  0.1659302448042934,\n",
       "  0.15175280726084778,\n",
       "  0.17047748447662328,\n",
       "  0.1515495051886475,\n",
       "  0.15171364915803606,\n",
       "  0.16266658592371092,\n",
       "  0.1543907504480559,\n",
       "  0.16469949517292615,\n",
       "  0.15228404043385596,\n",
       "  0.15603477447354563,\n",
       "  0.15145674594370745,\n",
       "  0.16213548291386656,\n",
       "  0.1546689255439067,\n",
       "  0.1515049118320811,\n",
       "  0.15216622027205493,\n",
       "  0.151647492001766,\n",
       "  0.15742554351838872,\n",
       "  0.1582501576766243,\n",
       "  0.15888188526625396,\n",
       "  0.15571213286324437,\n",
       "  0.15145174639365566,\n",
       "  0.15155798052140904,\n",
       "  0.15240396691721791,\n",
       "  0.15171129978915215,\n",
       "  0.15340435017226656,\n",
       "  0.1637038013512101,\n",
       "  0.15327657733818947,\n",
       "  0.1714678010526798,\n",
       "  0.15684420332478913,\n",
       "  0.15271324701576167,\n",
       "  0.1589298624190953,\n",
       "  0.15285057141570277,\n",
       "  0.1522985667289318,\n",
       "  0.15147914549268146,\n",
       "  0.15750364076030474,\n",
       "  0.1582928766222559,\n",
       "  0.15184308871155675,\n",
       "  0.15373034391529183,\n",
       "  0.1586399710563324,\n",
       "  0.15638853373132203,\n",
       "  0.15145031462160782,\n",
       "  0.15739762614383623,\n",
       "  0.15799401052953757,\n",
       "  0.15329615608762712,\n",
       "  0.15577402404479157,\n",
       "  0.153333330996211,\n",
       "  0.15754569349452327,\n",
       "  0.16896214991343697,\n",
       "  0.1564717754194157,\n",
       "  0.15225227287769666,\n",
       "  0.16712162394217886,\n",
       "  0.15146768504399888,\n",
       "  0.16213382927387682,\n",
       "  0.15363764370006672,\n",
       "  0.15817273045879787,\n",
       "  0.15190920892344967,\n",
       "  0.15164218583655492,\n",
       "  0.15149889101250374,\n",
       "  0.15145069964063804,\n",
       "  0.153336117918718,\n",
       "  0.15383761137665133,\n",
       "  0.1672815999105344,\n",
       "  0.1611981037032405,\n",
       "  0.15148581408265124,\n",
       "  0.15653015903029513,\n",
       "  0.15292692720045223,\n",
       "  0.16046461670909193,\n",
       "  0.1638212953927841,\n",
       "  0.16792111929394138,\n",
       "  0.152039826544789,\n",
       "  0.16333644982240952,\n",
       "  0.15145911046348332,\n",
       "  0.1556519235605422,\n",
       "  0.1549487349413355,\n",
       "  0.15279113826797835,\n",
       "  0.15245834574399744,\n",
       "  0.15656678160356027,\n",
       "  0.1521565290807966,\n",
       "  0.16098986777366225,\n",
       "  0.15230093159353197,\n",
       "  0.15952108312757723,\n",
       "  0.1524449718456476,\n",
       "  0.16141461982794353,\n",
       "  0.15235725518466223,\n",
       "  0.1538718383622043,\n",
       "  0.1658733926198356,\n",
       "  0.1541771619801621,\n",
       "  0.16168235100633466,\n",
       "  0.1687059675463453,\n",
       "  0.16244937655090133,\n",
       "  0.1515369089124533,\n",
       "  0.16856242712996086,\n",
       "  0.1515036034807596,\n",
       "  0.15210661187022617,\n",
       "  0.16793048026043375,\n",
       "  0.1598636469144413,\n",
       "  0.15904959238736444,\n",
       "  0.15144511691329995,\n",
       "  0.16637452257658816,\n",
       "  0.15610310129174396,\n",
       "  0.15176273341673677,\n",
       "  0.15875921409966556,\n",
       "  0.15167281973333102,\n",
       "  0.15226984243569985,\n",
       "  0.1519048370452113,\n",
       "  0.15399793782151114,\n",
       "  0.16072141216908759,\n",
       "  0.16071278397415684,\n",
       "  0.16567106030426246,\n",
       "  0.15222229824189376,\n",
       "  0.15171320718887454,\n",
       "  0.15617240156375783,\n",
       "  0.1517537785405529,\n",
       "  0.15159087203215807,\n",
       "  0.1569900856434707,\n",
       "  0.15148016863079206,\n",
       "  0.16848682537270443,\n",
       "  0.151599435730653,\n",
       "  0.15148775077043555,\n",
       "  0.15270595025752928,\n",
       "  0.1550485300015882,\n",
       "  0.1514476805174137,\n",
       "  0.16227922854613644,\n",
       "  0.15158651840268,\n",
       "  0.16315755781530983,\n",
       "  0.1600024442550778,\n",
       "  0.16220466314680887,\n",
       "  0.15649574185475873,\n",
       "  0.15434935898436816,\n",
       "  0.15635734055077571,\n",
       "  0.16163113142144944,\n",
       "  0.1526341723837403,\n",
       "  0.15536625002380505,\n",
       "  0.1527301022933251,\n",
       "  0.15237419313550635,\n",
       "  0.15144981099305815,\n",
       "  0.15228429860179118,\n",
       "  0.15169207597704443,\n",
       "  0.15836440199592075,\n",
       "  0.15409821764192827,\n",
       "  0.15283521172487816,\n",
       "  0.1528019143858287,\n",
       "  0.15155261989322416,\n",
       "  0.1524350556699913,\n",
       "  0.15705812851901704,\n",
       "  0.1555222662428201,\n",
       "  0.1530407727192109,\n",
       "  0.15180444865929754,\n",
       "  0.16814449261303183,\n",
       "  0.15354746974900044,\n",
       "  0.15153062661662126,\n",
       "  0.16347733550994376,\n",
       "  0.15658387655963468,\n",
       "  0.15305033791512668,\n",
       "  0.15144928899307059,\n",
       "  0.16243528727832907,\n",
       "  0.15387595781827154,\n",
       "  0.16317257553837075,\n",
       "  0.1565103420970907,\n",
       "  0.16301283244951198,\n",
       "  0.15154169456449756,\n",
       "  0.16772890306479368,\n",
       "  0.15217584154278255,\n",
       "  0.16322470118704097,\n",
       "  0.16430825715076267,\n",
       "  0.16829715262595177,\n",
       "  0.15781325544989053,\n",
       "  0.15158557635354708,\n",
       "  0.15770539502299424,\n",
       "  0.151526115774123,\n",
       "  0.15149247958119927,\n",
       "  0.1544125907448983,\n",
       "  0.15151741223434032,\n",
       "  0.15328567932654155,\n",
       "  0.15191885049776943,\n",
       "  0.15408335466292977,\n",
       "  0.15328244793062737,\n",
       "  0.15784039931773225,\n",
       "  0.16586884547673048,\n",
       "  0.15415048255537597,\n",
       "  0.15175852115801522,\n",
       "  0.1623276484307163,\n",
       "  0.16845711531574642,\n",
       "  0.16539072818701483,\n",
       "  0.15162463670194745,\n",
       "  0.15181515926275452,\n",
       "  0.1586516654456494,\n",
       "  0.1523330037628239,\n",
       "  0.15191044396926912,\n",
       "  0.15161858264023967,\n",
       "  0.1536898089363677,\n",
       "  0.1645717759691843,\n",
       "  0.16193892477812022,\n",
       "  0.15450996170592726,\n",
       "  0.15161328794095158,\n",
       "  0.15230384157925222,\n",
       "  0.15590768685466355,\n",
       "  0.1518269482650954,\n",
       "  0.15254395669611942,\n",
       "  0.15695121536375128,\n",
       "  0.1660521144296491,\n",
       "  0.15150163519743795,\n",
       "  0.15265935609416909,\n",
       "  0.16525858300602506,\n",
       "  0.15814804167398314,\n",
       "  0.15244069975886018,\n",
       "  0.16075310738644105,\n",
       "  0.16853308335763661,\n",
       "  0.15635112676312732,\n",
       "  0.15240836470107844,\n",
       "  0.15302108651881552,\n",
       "  0.16876498290277067,\n",
       "  0.15176453159008954,\n",
       "  0.1527368890860772,\n",
       "  0.15866561288470485,\n",
       "  0.15151215505156576,\n",
       "  0.1516474557951106,\n",
       "  0.1558214249823202,\n",
       "  0.1545364613530836,\n",
       "  0.1514666606034985,\n",
       "  0.15938263895056726,\n",
       "  0.15156677418839368,\n",
       "  0.16177361155169862,\n",
       "  0.15331865148040677,\n",
       "  0.15818940649360136,\n",
       "  0.15622771096075366,\n",
       "  0.15510931748198134,\n",
       "  0.15180692821121267,\n",
       "  0.15144569661279228,\n",
       "  0.15144516347303735,\n",
       "  0.15144510233672165,\n",
       "  0.15149226737281277,\n",
       "  0.15345214561814186,\n",
       "  0.16780532145445484,\n",
       "  0.15150477176239652,\n",
       "  0.15326397629866495,\n",
       "  0.15164499747689,\n",
       "  0.16827959334942988,\n",
       "  0.1522556193884286,\n",
       "  0.15602047623237947,\n",
       "  0.15321746545037707,\n",
       "  0.158320186581059,\n",
       "  0.15819651476228233,\n",
       "  0.15392553071197387,\n",
       "  0.15188608382268143,\n",
       "  0.1688872046754288,\n",
       "  0.16407337974896904,\n",
       "  0.15193671046070648,\n",
       "  0.16225162365299872,\n",
       "  0.16453619493109897,\n",
       "  0.1514927852895148,\n",
       "  0.15668700424256765,\n",
       "  0.1517857079604226,\n",
       "  0.15431675451957208,\n",
       "  0.1602294475499655,\n",
       "  0.16360115851938992,\n",
       "  0.15602583663699643,\n",
       "  0.16374695268413655,\n",
       "  0.15789610667007586,\n",
       "  0.16308568975904034,\n",
       "  0.16546404961024,\n",
       "  0.15157210394458925,\n",
       "  0.16688122476218317,\n",
       "  0.15164252479010973,\n",
       "  0.15780074639991437,\n",
       "  0.16496834885326161,\n",
       "  0.1529045579648921,\n",
       "  0.15441465894768647,\n",
       "  0.15648560598393052,\n",
       "  0.1602819389843434,\n",
       "  0.15508548227756763,\n",
       "  0.15171751076999265,\n",
       "  0.1586319812495768,\n",
       "  0.1585310227281835,\n",
       "  0.1530358625471339,\n",
       "  0.15176963400641974,\n",
       "  0.1638178594226527,\n",
       "  0.15813475122852041,\n",
       "  0.1532893598790595,\n",
       "  0.15733232801747632,\n",
       "  0.1683187869292346,\n",
       "  0.15226865173094484,\n",
       "  0.15684201252669336,\n",
       "  0.15192644506132194,\n",
       "  0.15170596892840713,\n",
       "  0.15199682899977265,\n",
       "  0.1521520550896381,\n",
       "  0.16646277750583321,\n",
       "  0.15250226209614995,\n",
       "  0.1618938138921293,\n",
       "  0.1584296814726169,\n",
       "  0.15348705696048134,\n",
       "  0.15147651218016817,\n",
       "  0.15259248614251453,\n",
       "  0.1556384672373093,\n",
       "  0.15484094347700303,\n",
       "  0.15170788906364926,\n",
       "  0.1531680445535283,\n",
       "  0.15269262301205383,\n",
       "  0.15240739212503576,\n",
       "  0.1529568948529402,\n",
       "  0.15144742560680025,\n",
       "  0.15466526087081722,\n",
       "  0.15372069978497668,\n",
       "  0.1514551561674629,\n",
       "  0.1647381117127674,\n",
       "  0.1656058993921397,\n",
       "  0.15413943702653185,\n",
       "  0.15264636597969886,\n",
       "  0.15164884184071012,\n",
       "  0.15163381479197172,\n",
       "  0.1518805598409199,\n",
       "  0.15160575435898566,\n",
       "  0.16438484935536424,\n",
       "  0.1645020233754676,\n",
       "  0.1532224060587236,\n",
       "  0.168262895482273,\n",
       "  0.15298514075730307,\n",
       "  0.15366283980901224,\n",
       "  0.15271086945683685,\n",
       "  0.15172612285948092,\n",
       "  0.1519968688651358,\n",
       "  0.15160814782105358,\n",
       "  0.16567850683812388,\n",
       "  0.1524703995214107,\n",
       "  0.1530011358303325,\n",
       "  0.15152650896554787,\n",
       "  0.15435720882706866,\n",
       "  0.15214976110178297,\n",
       "  0.1526306790111616,\n",
       "  0.15961570216891524,\n",
       "  0.1521418844560195,\n",
       "  0.15573664590655764,\n",
       "  0.16531500020691703,\n",
       "  0.15165431835826104,\n",
       "  0.1514583103208338,\n",
       "  0.15394731301586467,\n",
       "  0.15246039778653336,\n",
       "  0.1523132531836377,\n",
       "  0.16087432019623923,\n",
       "  0.15170178607741636,\n",
       "  0.15496742182802237,\n",
       "  0.15466526232609157,\n",
       "  0.16765245143882468,\n",
       "  0.15397679765521796,\n",
       "  0.15462268337874002,\n",
       "  0.15374012667727066,\n",
       "  0.16071907774756042,\n",
       "  0.16163524910012275,\n",
       "  0.15348725286726336,\n",
       "  0.15150944096611327,\n",
       "  0.15149546208890838,\n",
       "  0.15310349415338384,\n",
       "  0.15146781303181822,\n",
       "  0.15291428791146983,\n",
       "  0.1652660216234513,\n",
       "  0.1521685419267284,\n",
       "  0.15462258749399735,\n",
       "  0.1520143386249994,\n",
       "  0.15358250623644942,\n",
       "  0.16751888271972584,\n",
       "  0.15155322571057897,\n",
       "  0.16050861587385143,\n",
       "  0.1514579990450278,\n",
       "  0.1687459177068989,\n",
       "  0.15305397683529257,\n",
       "  0.15715156661760704,\n",
       "  0.15335829306883988,\n",
       "  0.1516127340756851,\n",
       "  0.15147150354462244,\n",
       "  0.16398823299380821,\n",
       "  0.15279136558743528,\n",
       "  0.15335415062459481,\n",
       "  0.16727968371907656,\n",
       "  0.15326757293452103,\n",
       "  0.16800428880236568,\n",
       "  0.1575224227152666,\n",
       "  0.1515789114261552,\n",
       "  0.15145452662569342,\n",
       "  0.1530520196099643,\n",
       "  0.15168410605775542,\n",
       "  0.15252679189809423,\n",
       "  0.171570226139588,\n",
       "  0.1514452915398529,\n",
       "  0.15881722861470915,\n",
       "  0.15145211544815976,\n",
       "  0.16173941796078975,\n",
       "  0.15147681986816663,\n",
       "  0.15209139905411645,\n",
       "  0.1522158528101884,\n",
       "  0.15669394790908964,\n",
       "  0.16648107174387586,\n",
       "  0.1514507628490273,\n",
       "  0.15234434908521735,\n",
       "  0.1515865726776831,\n",
       "  0.15870975943275517,\n",
       "  0.1537870483553983,\n",
       "  0.15183245611309049,\n",
       "  0.15401459358375486,\n",
       "  0.16736096745273224,\n",
       "  0.15235516414227668,\n",
       "  0.1541732389131645,\n",
       "  0.15144842871597464,\n",
       "  0.15149198086258117,\n",
       "  0.15176091387887647,\n",
       "  0.15928127371015935,\n",
       "  0.15654838574681937,\n",
       "  0.15959808179039747,\n",
       "  0.15327034541818485,\n",
       "  0.16808563373078636,\n",
       "  0.15241288724397575,\n",
       "  0.16512200674160032,\n",
       "  0.15148597016841575,\n",
       "  0.16672177285426268,\n",
       "  0.15148088411450464,\n",
       "  0.1514463167150575,\n",
       "  0.1522944379909613,\n",
       "  0.15292242214404478,\n",
       "  0.15611523637887867,\n",
       "  0.1575063312482974,\n",
       "  0.15183654955261458,\n",
       "  0.15312059186330912,\n",
       "  0.16850292717296086,\n",
       "  0.15144828338458838,\n",
       "  0.15270791396494582,\n",
       "  0.1526242513499282,\n",
       "  0.15308545404674676,\n",
       "  0.1586658246987993,\n",
       "  0.15827783532489328,\n",
       "  0.1709108376746431,\n",
       "  0.1514629986970463])"
      ]
     },
     "execution_count": 282,
     "metadata": {},
     "output_type": "execute_result"
    }
   ],
   "source": [
    "pfolio_returns = []\n",
    "pfolio_volatilities = []\n",
    "\n",
    "for x in range(1000):\n",
    "    weights = np.random.random(num_assets)\n",
    "    weights /= np.sum(weights)\n",
    "    pfolio_returns.append(np.sum(weights * log_returns.mean()) * 250)\n",
    "    pfolio_volatilities.append(np.sqrt(np.dot(weights.T,np.dot(log_returns.cov() * 250 , weights))))\n",
    "\n",
    "pfolio_returns,pfolio_volatilities"
   ]
  },
  {
   "cell_type": "code",
   "execution_count": 283,
   "id": "e4bc0264-ff5a-4ace-ac98-f99d9fdaec80",
   "metadata": {},
   "outputs": [
    {
     "data": {
      "text/plain": [
       "(array([0.11465686, 0.11406983, 0.11448205, 0.11483164, 0.1138288 ,\n",
       "        0.11646908, 0.11330193, 0.11583092, 0.10980921, 0.11398014,\n",
       "        0.11440505, 0.11770116, 0.11672126, 0.11520452, 0.11456488,\n",
       "        0.11252528, 0.11559697, 0.1132383 , 0.11279932, 0.11562208,\n",
       "        0.11392527, 0.11539075, 0.11325307, 0.11284304, 0.11410526,\n",
       "        0.11264806, 0.1155289 , 0.11129461, 0.11612481, 0.11577617,\n",
       "        0.11358414, 0.11521486, 0.11180023, 0.11157837, 0.1170876 ,\n",
       "        0.11354387, 0.11437847, 0.11717798, 0.11209632, 0.11530079,\n",
       "        0.11261514, 0.11425291, 0.11260119, 0.11333253, 0.11388442,\n",
       "        0.11852533, 0.1138296 , 0.11483993, 0.11641814, 0.11559128,\n",
       "        0.1151101 , 0.1136875 , 0.11755031, 0.11314164, 0.11531059,\n",
       "        0.11120134, 0.11374612, 0.11492858, 0.11829294, 0.11249277,\n",
       "        0.11518025, 0.11458838, 0.11159446, 0.10992073, 0.11542937,\n",
       "        0.11534574, 0.11635313, 0.11223961, 0.11284926, 0.11690379,\n",
       "        0.11561342, 0.11719214, 0.11612525, 0.11362759, 0.11212276,\n",
       "        0.11719592, 0.1146882 , 0.11321262, 0.11135371, 0.10994045,\n",
       "        0.11452507, 0.11362845, 0.11601317, 0.11342588, 0.11648998,\n",
       "        0.11678987, 0.11242408, 0.11036359, 0.11039873, 0.11270371,\n",
       "        0.11764529, 0.11385996, 0.11611088, 0.11347398, 0.10961313,\n",
       "        0.1142742 , 0.1113246 , 0.11208905, 0.11472974, 0.11691941,\n",
       "        0.11814038, 0.11745882, 0.11413641, 0.111179  , 0.11633985,\n",
       "        0.11693063, 0.10971888, 0.10971504, 0.11407678, 0.11785469,\n",
       "        0.11318311, 0.11099429, 0.11551114, 0.11693592, 0.11202942,\n",
       "        0.11843559, 0.11522932, 0.11843517, 0.11004297, 0.11282615,\n",
       "        0.11857778, 0.11504565, 0.1139728 , 0.10978181, 0.11111939,\n",
       "        0.11493563, 0.11592353, 0.11523428, 0.1173008 , 0.11114501,\n",
       "        0.11843957, 0.10971263, 0.11377655, 0.1144189 , 0.11201541,\n",
       "        0.11282935, 0.11681064, 0.1133324 , 0.11131395, 0.11368373,\n",
       "        0.10964589, 0.11016134, 0.11623471, 0.11074871, 0.1125348 ,\n",
       "        0.11143236, 0.11361029, 0.11682524, 0.11266877, 0.11437015,\n",
       "        0.11389594, 0.1167498 , 0.11708907, 0.11484466, 0.11733352,\n",
       "        0.11118301, 0.11671882, 0.11190206, 0.11301834, 0.11543326,\n",
       "        0.10990303, 0.11012107, 0.11643065, 0.11426735, 0.11424089,\n",
       "        0.11574503, 0.1167791 , 0.1133475 , 0.11499567, 0.11102609,\n",
       "        0.10993243, 0.1100524 , 0.11030198, 0.11489168, 0.11450732,\n",
       "        0.11303992, 0.11479723, 0.11660859, 0.11426934, 0.1156202 ,\n",
       "        0.11403862, 0.11728449, 0.11357205, 0.11693621, 0.1162297 ,\n",
       "        0.11358759, 0.11512608, 0.11253743, 0.11430234, 0.11630464,\n",
       "        0.11491148, 0.11817119, 0.11099297, 0.11369631, 0.11247792,\n",
       "        0.11495589, 0.11499217, 0.10975129, 0.11024963, 0.11370436,\n",
       "        0.11165947, 0.11524005, 0.11129579, 0.11279964, 0.11705296,\n",
       "        0.11237503, 0.11152407, 0.11445786, 0.11482488, 0.1186419 ,\n",
       "        0.11751652, 0.11797947, 0.11600617, 0.11350042, 0.11439096,\n",
       "        0.11429066, 0.11565173, 0.11387243, 0.11387117, 0.11236931,\n",
       "        0.11398014, 0.11594337, 0.11742198, 0.11269728, 0.11017769,\n",
       "        0.11833813, 0.11560248, 0.11804461, 0.11477077, 0.11401032,\n",
       "        0.11248186, 0.11538171, 0.11751509, 0.11425523, 0.11499706,\n",
       "        0.11321671, 0.11188382, 0.11399635, 0.11439483, 0.11407682,\n",
       "        0.11343764, 0.11356299, 0.11764001, 0.11289474, 0.11158816,\n",
       "        0.11298898, 0.11573605, 0.11063568, 0.11304787, 0.11673152,\n",
       "        0.11360591, 0.10953903, 0.11735797, 0.11540273, 0.11547347,\n",
       "        0.11153764, 0.11404728, 0.11014299, 0.11180383, 0.11306801,\n",
       "        0.11230816, 0.11376845, 0.11259238, 0.11285508, 0.11463951,\n",
       "        0.11684192, 0.11529671, 0.11275753, 0.11226437, 0.11017979,\n",
       "        0.11186509, 0.11396704, 0.11805433, 0.11469109, 0.11408633,\n",
       "        0.11446328, 0.11240899, 0.11352129, 0.11678518, 0.11767986,\n",
       "        0.11700169, 0.11549658, 0.11294678, 0.1097214 , 0.11597369,\n",
       "        0.11399709, 0.11519183, 0.113648  , 0.11771598, 0.11371636,\n",
       "        0.11420853, 0.11110254, 0.1118598 , 0.11544225, 0.11432055,\n",
       "        0.1166851 , 0.11406105, 0.11804922, 0.1139676 , 0.11167345,\n",
       "        0.11051397, 0.11601999, 0.1142191 , 0.11847194, 0.11392915,\n",
       "        0.11462881, 0.11813283, 0.11817239, 0.11393834, 0.1176741 ,\n",
       "        0.11608921, 0.11187186, 0.11642218, 0.11096973, 0.11625611,\n",
       "        0.11312903, 0.11393147, 0.11573356, 0.11850271, 0.11286025,\n",
       "        0.11506453, 0.11135611, 0.11497855, 0.11631152, 0.11618242,\n",
       "        0.1148331 , 0.11191652, 0.1176204 , 0.11054194, 0.11203381,\n",
       "        0.11836071, 0.1105333 , 0.11504484, 0.11840613, 0.11217161,\n",
       "        0.11593063, 0.11401916, 0.1151567 , 0.1171366 , 0.11507341,\n",
       "        0.11621974, 0.11823036, 0.11636471, 0.11364054, 0.11558885,\n",
       "        0.11217694, 0.11487696, 0.11310316, 0.11258289, 0.11479783,\n",
       "        0.11488202, 0.11369757, 0.11466817, 0.11348875, 0.11823508,\n",
       "        0.11638793, 0.11040537, 0.11035047, 0.11465455, 0.11111329,\n",
       "        0.11204922, 0.11749494, 0.11671187, 0.11123967, 0.11414792,\n",
       "        0.11424603, 0.11204799, 0.11571814, 0.11799929, 0.11617468,\n",
       "        0.115976  , 0.11787445, 0.1135967 , 0.11524842, 0.11652493,\n",
       "        0.11461957, 0.11467435, 0.11443924, 0.11407504, 0.11137407,\n",
       "        0.1135183 , 0.11401291, 0.11499823, 0.11205608, 0.11572406,\n",
       "        0.11249082, 0.11451413, 0.11451424, 0.11032016, 0.11036554,\n",
       "        0.10949523, 0.11016425, 0.11528219, 0.1155454 , 0.11084266,\n",
       "        0.11481794, 0.11522818, 0.11603329, 0.11487512, 0.11256158,\n",
       "        0.1151654 , 0.11300815, 0.11139057, 0.11149568, 0.11055922,\n",
       "        0.1167368 , 0.11645566, 0.11333074, 0.11587233, 0.11550991,\n",
       "        0.11175754, 0.11746697, 0.11053137, 0.11457902, 0.1154593 ,\n",
       "        0.11131102, 0.11534049, 0.11141193, 0.11195615, 0.1147878 ,\n",
       "        0.1136624 , 0.10947827, 0.11658544, 0.11436463, 0.11503168,\n",
       "        0.11518856, 0.11817421, 0.11257298, 0.10951497, 0.11810719,\n",
       "        0.11277382, 0.11284385, 0.117369  , 0.11248119, 0.11009728,\n",
       "        0.11044401, 0.11395058, 0.11146695, 0.11361421, 0.11451102,\n",
       "        0.11581252, 0.11694762, 0.11259728, 0.1106997 , 0.11378212,\n",
       "        0.11330015, 0.11343284, 0.11440572, 0.11246927, 0.11582839,\n",
       "        0.113931  , 0.11552258, 0.11763703, 0.11020273, 0.11095251,\n",
       "        0.11354951, 0.11366562, 0.11059225, 0.11413346, 0.11030416,\n",
       "        0.11558909, 0.11640101, 0.11353012, 0.11224782, 0.1117229 ,\n",
       "        0.11480182, 0.11709431, 0.11335396, 0.11126027, 0.11699502,\n",
       "        0.11171439, 0.11520844, 0.11208736, 0.11279007, 0.11567022,\n",
       "        0.11347958, 0.11230359, 0.1124256 , 0.11143071, 0.11508909,\n",
       "        0.11437192, 0.1144564 , 0.11771437, 0.11746337, 0.11203028,\n",
       "        0.11575156, 0.11448574, 0.11853438, 0.11587921, 0.11380119,\n",
       "        0.11165477, 0.11825465, 0.11658551, 0.11620704, 0.11513317,\n",
       "        0.11380841, 0.11537691, 0.11318336, 0.11480192, 0.10945882,\n",
       "        0.11338509, 0.1143949 , 0.11579616, 0.11092937, 0.11287939,\n",
       "        0.10964721, 0.114359  , 0.11522534, 0.11684812, 0.11598907,\n",
       "        0.10990484, 0.11152311, 0.1157982 , 0.11488788, 0.11030763,\n",
       "        0.11518854, 0.11301993, 0.10995868, 0.11828488, 0.11410687,\n",
       "        0.11444013, 0.11113127, 0.11191518, 0.11531759, 0.11668533,\n",
       "        0.11674075, 0.11812088, 0.11712056, 0.11689304, 0.10955213,\n",
       "        0.11138912, 0.11112527, 0.10947786, 0.11701495, 0.11021162,\n",
       "        0.11481689, 0.1141892 , 0.11078266, 0.11013566, 0.1169041 ,\n",
       "        0.11403509, 0.11106324, 0.11476104, 0.11801665, 0.11160698,\n",
       "        0.1155764 , 0.11361496, 0.11134456, 0.11342902, 0.11197385,\n",
       "        0.11241293, 0.11488585, 0.11571909, 0.11299923, 0.11395568,\n",
       "        0.11787204, 0.11339855, 0.11233218, 0.11676229, 0.1117748 ,\n",
       "        0.11043482, 0.1173597 , 0.11216867, 0.11279578, 0.11644129,\n",
       "        0.1183302 , 0.11107846, 0.11305397, 0.11374851, 0.11231193,\n",
       "        0.11440683, 0.11605381, 0.11495946, 0.1139554 , 0.11097079,\n",
       "        0.11840666, 0.11724878, 0.11310598, 0.11287074, 0.11236136,\n",
       "        0.11502718, 0.11486229, 0.11813034, 0.11230687, 0.11605214,\n",
       "        0.11042177, 0.11327186, 0.11638497, 0.11166106, 0.1132025 ,\n",
       "        0.11704573, 0.11267659, 0.1146265 , 0.11278168, 0.11512249,\n",
       "        0.11279228, 0.11024611, 0.11586276, 0.11511945, 0.11602364,\n",
       "        0.1180711 , 0.11095395, 0.11530979, 0.11747036, 0.11126361,\n",
       "        0.11264484, 0.11852902, 0.11543387, 0.11423434, 0.11212621,\n",
       "        0.11377881, 0.11553699, 0.11791495, 0.11229423, 0.11433106,\n",
       "        0.11129615, 0.11432328, 0.11158671, 0.11622898, 0.11354682,\n",
       "        0.11062368, 0.11753021, 0.11060009, 0.11415702, 0.11470984,\n",
       "        0.11218919, 0.11177286, 0.11251239, 0.1141755 , 0.1149544 ,\n",
       "        0.11175292, 0.1137481 , 0.11554224, 0.11000641, 0.11707629,\n",
       "        0.11513911, 0.11659463, 0.11080611, 0.11580972, 0.10969089,\n",
       "        0.11461277, 0.11030479, 0.11390276, 0.11125626, 0.11411898,\n",
       "        0.1178664 , 0.11647762, 0.11813224, 0.11792025, 0.11003197,\n",
       "        0.11212891, 0.11262602, 0.11147573, 0.11231242, 0.11422608,\n",
       "        0.11597174, 0.11205504, 0.11046896, 0.11843158, 0.11349283,\n",
       "        0.1123847 , 0.11591823, 0.11457555, 0.11428447, 0.11115508,\n",
       "        0.11421053, 0.11348825, 0.11768437, 0.1140159 , 0.11496432,\n",
       "        0.11485445, 0.11540942, 0.11412945, 0.11531886, 0.11633085,\n",
       "        0.11436659, 0.11303526, 0.11443368, 0.11507621, 0.11454157,\n",
       "        0.10957478, 0.11473495, 0.11263645, 0.11270844, 0.11083901,\n",
       "        0.1144038 , 0.11545147, 0.11454553, 0.11175338, 0.10977196,\n",
       "        0.11449025, 0.11749598, 0.11617449, 0.11582841, 0.11489846,\n",
       "        0.11781725, 0.11259808, 0.10945118, 0.11553783, 0.11251634,\n",
       "        0.11510659, 0.11395906, 0.11501548, 0.11194307, 0.11661873,\n",
       "        0.1094996 , 0.11056902, 0.11726696, 0.11836321, 0.11660417,\n",
       "        0.11345631, 0.11358491, 0.109837  , 0.11604414, 0.11470114,\n",
       "        0.11215042, 0.11042093, 0.11650099, 0.11347084, 0.11288157,\n",
       "        0.11276507, 0.11695352, 0.11272536, 0.11669616, 0.11072658,\n",
       "        0.11736037, 0.11049931, 0.112777  , 0.11522168, 0.11538384,\n",
       "        0.11052439, 0.11634779, 0.11340369, 0.1155942 , 0.11452291,\n",
       "        0.11419867, 0.11270805, 0.1141599 , 0.11714151, 0.11500975,\n",
       "        0.11176527, 0.11682183, 0.11625075, 0.11258303, 0.11488077,\n",
       "        0.11437058, 0.11184803, 0.11702004, 0.11155503, 0.111393  ,\n",
       "        0.11051609, 0.11564284, 0.11308921, 0.11141989, 0.11089105,\n",
       "        0.11202598, 0.11616526, 0.1161519 , 0.11544616, 0.11465865,\n",
       "        0.1142585 , 0.11500898, 0.11504214, 0.11435527, 0.11638282,\n",
       "        0.11741429, 0.11368768, 0.11607577, 0.11356085, 0.11410655,\n",
       "        0.11462812, 0.1118968 , 0.11368804, 0.11322341, 0.11152867,\n",
       "        0.11679281, 0.11178595, 0.11301669, 0.11027357, 0.11114839,\n",
       "        0.11844161, 0.11194121, 0.11536045, 0.11530844, 0.11443744,\n",
       "        0.11222331, 0.11363   , 0.11571187, 0.11593611, 0.11716556,\n",
       "        0.11863282, 0.11117557, 0.1099721 , 0.11201014, 0.11140868,\n",
       "        0.11232584, 0.11265529, 0.11262077, 0.11599525, 0.11600964,\n",
       "        0.11096312, 0.11356216, 0.11803199, 0.11387295, 0.11514932,\n",
       "        0.11229502, 0.11015092, 0.1168978 , 0.11289103, 0.11624873,\n",
       "        0.11699738, 0.11455209, 0.11447436, 0.11292486, 0.11658165,\n",
       "        0.10966685, 0.11531999, 0.11780164, 0.1107122 , 0.11362504,\n",
       "        0.1100505 , 0.11467295, 0.1142049 , 0.1128627 , 0.11774759,\n",
       "        0.11602016, 0.11159894, 0.11356618, 0.11727728, 0.11810105,\n",
       "        0.11312088, 0.11251334, 0.11354492, 0.11121403, 0.11353507,\n",
       "        0.11336088, 0.11204643, 0.11329849, 0.11238681, 0.11232923,\n",
       "        0.11000324, 0.11211757, 0.1168041 , 0.11812167, 0.11859531,\n",
       "        0.11558248, 0.11118598, 0.1159352 , 0.10983516, 0.11381193,\n",
       "        0.1153406 , 0.11476263, 0.11861663, 0.11282821, 0.11390887,\n",
       "        0.11609396, 0.11254978, 0.11485892, 0.11498722, 0.11263887,\n",
       "        0.11196964, 0.11245084, 0.1128333 , 0.11726782, 0.11500438,\n",
       "        0.11787978, 0.11340707, 0.1146741 , 0.1109039 , 0.11749403,\n",
       "        0.11569413, 0.11326536, 0.11409203, 0.11531508, 0.11468535,\n",
       "        0.11496398, 0.11388335, 0.1170262 , 0.11583943, 0.11662826,\n",
       "        0.11548623, 0.1116648 , 0.11000367, 0.11307839, 0.11420484,\n",
       "        0.11328837, 0.11436442, 0.116432  , 0.11821482, 0.11609149,\n",
       "        0.11253753, 0.11414123, 0.11472051, 0.11329344, 0.11528069,\n",
       "        0.11046253, 0.11047265, 0.11345051, 0.11600121, 0.11213353,\n",
       "        0.11254187, 0.11527967, 0.11307603, 0.112219  , 0.11523214,\n",
       "        0.1140887 , 0.11005356, 0.11375832, 0.11780622, 0.11191176,\n",
       "        0.11698173, 0.11635899, 0.11575512, 0.11507561, 0.11296375,\n",
       "        0.11457326, 0.11776601, 0.11657358, 0.11323261, 0.11805147,\n",
       "        0.11616524, 0.11846641, 0.11258295, 0.11393341, 0.11364928,\n",
       "        0.11528128, 0.11373904, 0.11611115, 0.11287712, 0.11236708,\n",
       "        0.11246214, 0.11462699, 0.11679561, 0.11419791, 0.10992705,\n",
       "        0.1140501 , 0.11532928, 0.11307397, 0.11778192, 0.1149281 ,\n",
       "        0.11582454, 0.11558903, 0.11541381, 0.11617303, 0.11108146,\n",
       "        0.11358816, 0.11397061, 0.11696584, 0.11128726, 0.11429137,\n",
       "        0.11151378, 0.11338961, 0.11445045, 0.10990213, 0.11178836,\n",
       "        0.11364985, 0.11651535, 0.11394897, 0.11281179, 0.11415304,\n",
       "        0.11854473, 0.11515958, 0.11830897, 0.111732  , 0.1162601 ,\n",
       "        0.11088817, 0.11608968, 0.11590048, 0.1125081 , 0.11116368,\n",
       "        0.11447942, 0.11679278, 0.11298299, 0.11402213, 0.11399349,\n",
       "        0.11337628, 0.11517469, 0.11410977, 0.11388516, 0.11400226,\n",
       "        0.1156636 , 0.11250376, 0.1134213 , 0.11053601, 0.10984901,\n",
       "        0.1140117 , 0.11300974, 0.11059714, 0.11626673, 0.11560613,\n",
       "        0.11716456, 0.11630611, 0.11364479, 0.11433265, 0.10963766,\n",
       "        0.11284521, 0.11515513, 0.11521014, 0.1185852 , 0.1147775 ]),\n",
       " array([0.1520364 , 0.15148521, 0.15180485, 0.15232473, 0.15144622,\n",
       "        0.15770441, 0.15174138, 0.1550449 , 0.166192  , 0.15145793,\n",
       "        0.15172096, 0.16472169, 0.1589445 , 0.1531282 , 0.15190747,\n",
       "        0.15312047, 0.15424705, 0.15181225, 0.15250663, 0.15432804,\n",
       "        0.15144871, 0.15362454, 0.15179512, 0.15242146, 0.15150015,\n",
       "        0.15282845, 0.15403315, 0.15753134, 0.15618305, 0.15484952,\n",
       "        0.15151843, 0.15315412, 0.15539845, 0.15628054, 0.16092965,\n",
       "        0.15154111, 0.15169456, 0.16145211, 0.15435505, 0.15337694,\n",
       "        0.15290404, 0.15158782, 0.15293666, 0.15170998, 0.15144552,\n",
       "        0.17067423, 0.15144617, 0.15233981, 0.15746669, 0.15422884,\n",
       "        0.15290066, 0.15147419, 0.1637368 , 0.1519344 , 0.15340318,\n",
       "        0.15797205, 0.15145803, 0.15250903, 0.16890109, 0.1532024 ,\n",
       "        0.15306818, 0.15193891, 0.15621371, 0.16542558, 0.15373531,\n",
       "        0.15349883, 0.15716967, 0.15390585, 0.15240965, 0.15990678,\n",
       "        0.15429997, 0.16153512, 0.15618485, 0.15149739, 0.15426941,\n",
       "        0.16155731, 0.15208393, 0.151843  , 0.15725962, 0.16529196,\n",
       "        0.15185654, 0.15149701, 0.15573307, 0.15162506, 0.15780318,\n",
       "        0.15929991, 0.1533818 , 0.1625617 , 0.16234705, 0.15270516,\n",
       "        0.16435302, 0.15144511, 0.15612569, 0.15158768, 0.1675824 ,\n",
       "        0.15160384, 0.15739274, 0.15437881, 0.15214975, 0.15999164,\n",
       "        0.1677767 , 0.16315593, 0.15151524, 0.15807974, 0.15710984,\n",
       "        0.16005284, 0.16682579, 0.16685303, 0.15148796, 0.16575824,\n",
       "        0.15187986, 0.15900172, 0.15397871, 0.16008174, 0.15457728,\n",
       "        0.16998095, 0.15319067, 0.16997779, 0.16460618, 0.15245395,\n",
       "        0.17108435, 0.15275469, 0.15145637, 0.16638302, 0.15837118,\n",
       "        0.15252312, 0.15538736, 0.15320329, 0.16218242, 0.15824518,\n",
       "        0.17001146, 0.1668701 , 0.15145219, 0.15173522, 0.15462484,\n",
       "        0.15244776, 0.15940901, 0.15171011, 0.15744177, 0.15147545,\n",
       "        0.16734629, 0.16383349, 0.15664689, 0.16031324, 0.15309684,\n",
       "        0.15690714, 0.15150534, 0.15948609, 0.1527819 , 0.15168658,\n",
       "        0.1514461 , 0.15909139, 0.16093808, 0.15234848, 0.16238083,\n",
       "        0.15806035, 0.15893201, 0.15502223, 0.15211546, 0.15374661,\n",
       "        0.16554608, 0.16409405, 0.15752468, 0.1515986 , 0.15157916,\n",
       "        0.15474076, 0.15924363, 0.15169527, 0.15264673, 0.15883903,\n",
       "        0.1653462 , 0.16454383, 0.16294259, 0.15243683, 0.1518348 ,\n",
       "        0.15208173, 0.1522635 , 0.15837753, 0.15160011, 0.15432195,\n",
       "        0.151474  , 0.1620841 , 0.15152492, 0.16008334, 0.15662527,\n",
       "        0.15151663, 0.15293803, 0.15309035, 0.15162632, 0.1569527 ,\n",
       "        0.15247528, 0.16800115, 0.15900852, 0.15147135, 0.15324046,\n",
       "        0.15256409, 0.15263935, 0.16659705, 0.16327077, 0.15146888,\n",
       "        0.15594826, 0.15321805, 0.15752585, 0.152506  , 0.16073285,\n",
       "        0.15351517, 0.15650932, 0.1517773 , 0.15231253, 0.17159057,\n",
       "        0.1635208 , 0.16662571, 0.15570556, 0.15156898, 0.1517068 ,\n",
       "        0.15161681, 0.15442514, 0.15144518, 0.15144516, 0.15353099,\n",
       "        0.15145793, 0.15546267, 0.16292555, 0.15271911, 0.16372842,\n",
       "        0.16924017, 0.15426474, 0.16708727, 0.15221789, 0.15146542,\n",
       "        0.15323031, 0.15359898, 0.16351172, 0.15158953, 0.15264967,\n",
       "        0.15183803, 0.15508828, 0.15146174, 0.15171065, 0.15148797,\n",
       "        0.15161552, 0.15152996, 0.16431838, 0.15232531, 0.15623981,\n",
       "        0.15216274, 0.1547097 , 0.16094919, 0.15206952, 0.15899718,\n",
       "        0.15150745, 0.16812178, 0.16253023, 0.1536586 , 0.15386507,\n",
       "        0.15645166, 0.15147693, 0.16395197, 0.15538484, 0.15203912,\n",
       "        0.15370395, 0.15145357, 0.15295747, 0.15239863, 0.15201088,\n",
       "        0.15957461, 0.15336606, 0.15259135, 0.15383195, 0.16371496,\n",
       "        0.15515672, 0.15145522, 0.16715666, 0.1520884 , 0.15149188,\n",
       "        0.15178337, 0.15342237, 0.15155515, 0.15927538, 0.1645806 ,\n",
       "        0.16044491, 0.15393448, 0.1522335 , 0.16680799, 0.1555791 ,\n",
       "        0.15146193, 0.15309667, 0.15148873, 0.16482028, 0.15146543,\n",
       "        0.15155717, 0.15845459, 0.15517616, 0.15377286, 0.15164166,\n",
       "        0.15876025, 0.15148187, 0.16712016, 0.15145533, 0.15589213,\n",
       "        0.16165634, 0.15575992, 0.15156413, 0.1702605 , 0.15144917,\n",
       "        0.15199542, 0.16772191, 0.16800997, 0.15145039, 0.16454255,\n",
       "        0.15603719, 0.15513191, 0.15748539, 0.15912851, 0.15673957,\n",
       "        0.15195161, 0.15144946, 0.15470113, 0.17049853, 0.15238891,\n",
       "        0.15279665, 0.1572487 , 0.15261081, 0.15698325, 0.1564236 ,\n",
       "        0.15232738, 0.15497025, 0.16419027, 0.16149177, 0.15456245,\n",
       "        0.16941073, 0.1615425 , 0.1527529 , 0.16975575, 0.15411444,\n",
       "        0.15541423, 0.15146794, 0.15301092, 0.16121135, 0.15281663,\n",
       "        0.15658249, 0.16843601, 0.15722205, 0.1514918 , 0.15422111,\n",
       "        0.1540978 , 0.15240874, 0.15198786, 0.15298001, 0.15226455,\n",
       "        0.15241835, 0.15147095, 0.15205334, 0.15157708, 0.16847086,\n",
       "        0.15732776, 0.16230671, 0.16264236, 0.15203298, 0.15840129,\n",
       "        0.15451069, 0.16338375, 0.15889644, 0.1577892 , 0.15152128,\n",
       "        0.15158283, 0.15451481, 0.1546482 , 0.16676551, 0.15639094,\n",
       "        0.15558803, 0.16589418, 0.15151198, 0.15323955, 0.15797   ,\n",
       "        0.15198223, 0.1520627 , 0.15175684, 0.15148726, 0.15716735,\n",
       "        0.15155708, 0.15146614, 0.15265214, 0.15448777, 0.15466847,\n",
       "        0.15320738, 0.15184307, 0.15184321, 0.16282963, 0.16254973,\n",
       "        0.16844417, 0.16381481, 0.15332756, 0.15408424, 0.15980007,\n",
       "        0.15230009, 0.15318778, 0.15581256, 0.15240526, 0.15303128,\n",
       "        0.15303196, 0.15213169, 0.15709311, 0.15663092, 0.16139073,\n",
       "        0.15902433, 0.15764136, 0.15171177, 0.15519618, 0.15397496,\n",
       "        0.15556158, 0.16320717, 0.16155382, 0.15192625, 0.153823  ,\n",
       "        0.1574553 , 0.15348439, 0.15699767, 0.15482975, 0.15224709,\n",
       "        0.15148309, 0.16856968, 0.15826361, 0.15168135, 0.15272405,\n",
       "        0.15308862, 0.16802329, 0.15300375, 0.16829853, 0.16753633,\n",
       "        0.15255794, 0.15241992, 0.16259792, 0.15323203, 0.16424907,\n",
       "        0.16207324, 0.15145226, 0.1567554 , 0.15150349, 0.15183928,\n",
       "        0.15497867, 0.16014585, 0.15294587, 0.16058651, 0.15145131,\n",
       "        0.15174326, 0.15161939, 0.15172164, 0.1532628 , 0.15503578,\n",
       "        0.1514494 , 0.1540137 , 0.16429889, 0.16356824, 0.15921795,\n",
       "        0.15153774, 0.15148188, 0.16119888, 0.15151374, 0.16292902,\n",
       "        0.15422188, 0.15738774, 0.15154955, 0.15388123, 0.15569626,\n",
       "        0.15227154, 0.16096802, 0.15168905, 0.15769194, 0.16040781,\n",
       "        0.15572965, 0.15313801, 0.15438436, 0.1525251 , 0.15448644,\n",
       "        0.15158361, 0.15371716, 0.15337775, 0.15691442, 0.15285223,\n",
       "        0.15168827, 0.15177567, 0.16480956, 0.16318451, 0.15457438,\n",
       "        0.15476343, 0.15180915, 0.17074477, 0.1552216 , 0.15144873,\n",
       "        0.15596719, 0.16861585, 0.15826393, 0.15652812, 0.15295476,\n",
       "        0.15144794, 0.15358548, 0.15187954, 0.15227172, 0.16871414,\n",
       "        0.15166016, 0.15171072, 0.15492025, 0.159339  , 0.15235334,\n",
       "        0.16733686, 0.15167608, 0.15318058, 0.15960761, 0.15563874,\n",
       "        0.16553372, 0.15651341, 0.15492753, 0.15242955, 0.16290747,\n",
       "        0.15308856, 0.15211295, 0.16516887, 0.16884085, 0.15150089,\n",
       "        0.1517578 , 0.15831263, 0.15497508, 0.15342206, 0.15876146,\n",
       "        0.15904467, 0.16763531, 0.16111875, 0.15984865, 0.16802585,\n",
       "        0.15709965, 0.15834215, 0.16857271, 0.16051901, 0.16351163,\n",
       "        0.15229822, 0.15154497, 0.16012618, 0.16399941, 0.15990847,\n",
       "        0.15147285, 0.15865102, 0.15220145, 0.16688838, 0.15616201,\n",
       "        0.15418154, 0.15150314, 0.15730131, 0.15162249, 0.15476791,\n",
       "        0.15341174, 0.15242566, 0.15465146, 0.15214605, 0.15145312,\n",
       "        0.16587753, 0.15164824, 0.1536352 , 0.15915611, 0.15549525,\n",
       "        0.16212853, 0.16254081, 0.15412366, 0.15251368, 0.15757419,\n",
       "        0.16918052, 0.15857462, 0.15206023, 0.15145751, 0.15369311,\n",
       "        0.15172276, 0.15589436, 0.15257138, 0.15145307, 0.15912302,\n",
       "        0.16975973, 0.16187028, 0.15198386, 0.15236933, 0.15355311,\n",
       "        0.15271426, 0.15238114, 0.16770382, 0.15370767, 0.15588769,\n",
       "        0.16220734, 0.15177392, 0.15731424, 0.15594184, 0.15185546,\n",
       "        0.160692  , 0.15276452, 0.1519921 , 0.152542  , 0.15292958,\n",
       "        0.15252068, 0.16329298, 0.15516098, 0.15292247, 0.15577433,\n",
       "        0.16727667, 0.15921049, 0.15340105, 0.16322852, 0.15767623,\n",
       "        0.15283574, 0.17070296, 0.15374839, 0.15157455, 0.15425833,\n",
       "        0.15145182, 0.15405814, 0.1661744 , 0.15374429, 0.15165079,\n",
       "        0.15752418, 0.15164401, 0.15624586, 0.15662217, 0.15153934,\n",
       "        0.1610179 , 0.16360812, 0.16115358, 0.15152623, 0.15211782,\n",
       "        0.15405974, 0.15550266, 0.15315272, 0.15153676, 0.15256105,\n",
       "        0.1555794 , 0.1514576 , 0.15407443, 0.16484894, 0.16086521,\n",
       "        0.15296883, 0.15830869, 0.15999802, 0.15496865, 0.16702455,\n",
       "        0.15197262, 0.16292508, 0.15144656, 0.15771078, 0.15150657,\n",
       "        0.16583873, 0.15774467, 0.16771759, 0.16621124, 0.16467902,\n",
       "        0.15424966, 0.15287884, 0.1567172 , 0.1536917 , 0.15156885,\n",
       "        0.15557156, 0.15449123, 0.16192372, 0.16995028, 0.15157422,\n",
       "        0.15348854, 0.15536737, 0.15192162, 0.15161187, 0.15819597,\n",
       "        0.15155847, 0.15157743, 0.16461044, 0.15146699, 0.15258137,\n",
       "        0.15236655, 0.15367774, 0.15151171, 0.15342549, 0.15706948,\n",
       "        0.15168321, 0.15208895, 0.15175085, 0.15282295, 0.15187729,\n",
       "        0.1678606 , 0.15215822, 0.15285489, 0.15269495, 0.15981976,\n",
       "        0.15171968, 0.1537999 , 0.15188235, 0.15557764, 0.166452  ,\n",
       "        0.15181443, 0.16339035, 0.15639014, 0.15503584, 0.15244992,\n",
       "        0.16550237, 0.15294399, 0.168771  , 0.15406072, 0.15314282,\n",
       "        0.15289252, 0.15145372, 0.15268897, 0.15487584, 0.15842766,\n",
       "        0.16841184, 0.16133365, 0.1619789 , 0.16942963, 0.1583557 ,\n",
       "        0.15160091, 0.15151803, 0.16599934, 0.15585571, 0.15210409,\n",
       "        0.15418113, 0.16221241, 0.15785554, 0.15158999, 0.15234934,\n",
       "        0.15257582, 0.16017825, 0.15265874, 0.1588164 , 0.16043616,\n",
       "        0.16254496, 0.1617431 , 0.15255147, 0.15317132, 0.153605  ,\n",
       "        0.1615949 , 0.15714556, 0.15164377, 0.15423818, 0.15185387,\n",
       "        0.15155086, 0.15269578, 0.15152782, 0.16123978, 0.15267668,\n",
       "        0.15553179, 0.15946804, 0.1567163 , 0.15297969, 0.15241597,\n",
       "        0.15168699, 0.15521958, 0.1605475 , 0.15637827, 0.15708224,\n",
       "        0.16164382, 0.15439585, 0.15200793, 0.15696233, 0.15954125,\n",
       "        0.15458894, 0.15635135, 0.15629544, 0.15378429, 0.15203906,\n",
       "        0.15159195, 0.15267504, 0.15274696, 0.15167262, 0.15730446,\n",
       "        0.16287775, 0.15147413, 0.15598273, 0.15153117, 0.15150074,\n",
       "        0.15199442, 0.15504123, 0.15147401, 0.15182994, 0.15648974,\n",
       "        0.15931532, 0.15545265, 0.15211808, 0.16312019, 0.15822867,\n",
       "        0.17002716, 0.15488242, 0.1535395 , 0.15339742, 0.15175489,\n",
       "        0.15395511, 0.15149632, 0.15462683, 0.15543502, 0.16137956,\n",
       "        0.17151856, 0.15809636, 0.16507859, 0.15464278, 0.15701214,\n",
       "        0.15365326, 0.15281209, 0.15289098, 0.15566283, 0.15571917,\n",
       "        0.15916276, 0.15153043, 0.16699736, 0.15144519, 0.1529932 ,\n",
       "        0.15374201, 0.16390069, 0.15987437, 0.15233204, 0.1567075 ,\n",
       "        0.16042094, 0.15189078, 0.15179597, 0.15227156, 0.158245  ,\n",
       "        0.16719609, 0.15342854, 0.16539626, 0.16051647, 0.15149852,\n",
       "        0.1645564 , 0.15206058, 0.15155482, 0.15238433, 0.16503159,\n",
       "        0.1557606 , 0.15619518, 0.15152817, 0.16204072, 0.16749201,\n",
       "        0.15196289, 0.15315034, 0.15154047, 0.15791125, 0.15154646,\n",
       "        0.15168246, 0.15452003, 0.15174502, 0.15348275, 0.15364361,\n",
       "        0.16487013, 0.15428611, 0.15937459, 0.16764097, 0.1712222 ,\n",
       "        0.15420082, 0.15804598, 0.15543158, 0.16601213, 0.15144759,\n",
       "        0.15348469, 0.15220412, 0.17139042, 0.15244997, 0.15144705,\n",
       "        0.15605655, 0.15305999, 0.15237485, 0.15262894, 0.15284935,\n",
       "        0.15478257, 0.15331091, 0.15244014, 0.16198403, 0.1526652 ,\n",
       "        0.16593092, 0.15164086, 0.15206233, 0.15947318, 0.16337802,\n",
       "        0.15456666, 0.15178119, 0.1514943 , 0.15341529, 0.15207954,\n",
       "        0.15258065, 0.15144548, 0.16058204, 0.15507576, 0.15847497,\n",
       "        0.1539033 , 0.15592679, 0.16486724, 0.15202374, 0.15155479,\n",
       "        0.15175584, 0.15168116, 0.15753096, 0.16832131, 0.15604648,\n",
       "        0.15309009, 0.15151774, 0.15213484, 0.1517504 , 0.15332361,\n",
       "        0.16196216, 0.16190166, 0.15160538, 0.15568614, 0.15423487,\n",
       "        0.15307941, 0.15332092, 0.15202722, 0.1539682 , 0.15319784,\n",
       "        0.15149287, 0.16453622, 0.15145548, 0.16542731, 0.15498733,\n",
       "        0.160334  , 0.15719615, 0.15477581, 0.15282159, 0.15220466,\n",
       "        0.15191856, 0.16515539, 0.15820554, 0.15181897, 0.16713622,\n",
       "        0.15635125, 0.17021787, 0.15297988, 0.15144972, 0.15148821,\n",
       "        0.15332517, 0.15145964, 0.15612681, 0.15235753, 0.15353719,\n",
       "        0.15328135, 0.1519928 , 0.15932998, 0.15155038, 0.16538274,\n",
       "        0.15147791, 0.15345377, 0.15203027, 0.16526273, 0.15250809,\n",
       "        0.15502189, 0.15422167, 0.15369034, 0.156384  , 0.15855962,\n",
       "        0.15151634, 0.15145592, 0.16024613, 0.15756557, 0.15161738,\n",
       "        0.15655324, 0.15165612, 0.15176908, 0.16555222, 0.15544351,\n",
       "        0.15148798, 0.15792407, 0.151452  , 0.15248199, 0.15152404,\n",
       "        0.17082551, 0.15301788, 0.16902103, 0.15566068, 0.15675698,\n",
       "        0.15955657, 0.1560391 , 0.15530074, 0.15316353, 0.15815407,\n",
       "        0.1518018 , 0.15931514, 0.15217259, 0.15146882, 0.15146103,\n",
       "        0.15166815, 0.15305455, 0.15150223, 0.15144555, 0.15146326,\n",
       "        0.15446443, 0.15317448, 0.15162885, 0.16152657, 0.16591644,\n",
       "        0.15146581, 0.15212915, 0.16117061, 0.1567859 , 0.15427645,\n",
       "        0.16137374, 0.15695924, 0.15149004, 0.15165219, 0.16740551,\n",
       "        0.15241734, 0.15300715, 0.15314226, 0.17114265, 0.15222936]))"
      ]
     },
     "execution_count": 283,
     "metadata": {},
     "output_type": "execute_result"
    }
   ],
   "source": [
    "pfolio_returns = []\n",
    "pfolio_volatilities = []\n",
    "\n",
    "for x in range (1000):\n",
    "    weights = np.random.random(num_assets)\n",
    "    weights /= np.sum(weights)\n",
    "    pfolio_returns.append(np.sum(weights * log_returns.mean()) * 250)\n",
    "    pfolio_volatilities.append(np.sqrt(np.dot(weights.T,np.dot(log_returns.cov() * 250, weights))))\n",
    "\n",
    "pfolio_returns = np.array(pfolio_returns)\n",
    "pfolio_volatilities = np.array(pfolio_volatilities)\n",
    "\n",
    "pfolio_returns, pfolio_volatilities"
   ]
  },
  {
   "cell_type": "code",
   "execution_count": 284,
   "id": "ee2d4b46-0105-4209-8e1b-390b0acf6a3c",
   "metadata": {},
   "outputs": [],
   "source": [
    "portfolios = pd.DataFrame({'Return': pfolio_returns, 'Volatility': pfolio_volatilities})"
   ]
  },
  {
   "cell_type": "code",
   "execution_count": 285,
   "id": "21eb81d5-67ec-4d54-84db-a1d9be1e9434",
   "metadata": {},
   "outputs": [
    {
     "data": {
      "text/html": [
       "<div>\n",
       "<style scoped>\n",
       "    .dataframe tbody tr th:only-of-type {\n",
       "        vertical-align: middle;\n",
       "    }\n",
       "\n",
       "    .dataframe tbody tr th {\n",
       "        vertical-align: top;\n",
       "    }\n",
       "\n",
       "    .dataframe thead th {\n",
       "        text-align: right;\n",
       "    }\n",
       "</style>\n",
       "<table border=\"1\" class=\"dataframe\">\n",
       "  <thead>\n",
       "    <tr style=\"text-align: right;\">\n",
       "      <th></th>\n",
       "      <th>Return</th>\n",
       "      <th>Volatility</th>\n",
       "    </tr>\n",
       "  </thead>\n",
       "  <tbody>\n",
       "    <tr>\n",
       "      <th>0</th>\n",
       "      <td>0.114657</td>\n",
       "      <td>0.152036</td>\n",
       "    </tr>\n",
       "    <tr>\n",
       "      <th>1</th>\n",
       "      <td>0.114070</td>\n",
       "      <td>0.151485</td>\n",
       "    </tr>\n",
       "    <tr>\n",
       "      <th>2</th>\n",
       "      <td>0.114482</td>\n",
       "      <td>0.151805</td>\n",
       "    </tr>\n",
       "    <tr>\n",
       "      <th>3</th>\n",
       "      <td>0.114832</td>\n",
       "      <td>0.152325</td>\n",
       "    </tr>\n",
       "    <tr>\n",
       "      <th>4</th>\n",
       "      <td>0.113829</td>\n",
       "      <td>0.151446</td>\n",
       "    </tr>\n",
       "  </tbody>\n",
       "</table>\n",
       "</div>"
      ],
      "text/plain": [
       "     Return  Volatility\n",
       "0  0.114657    0.152036\n",
       "1  0.114070    0.151485\n",
       "2  0.114482    0.151805\n",
       "3  0.114832    0.152325\n",
       "4  0.113829    0.151446"
      ]
     },
     "execution_count": 285,
     "metadata": {},
     "output_type": "execute_result"
    }
   ],
   "source": [
    "portfolios.head()"
   ]
  },
  {
   "cell_type": "code",
   "execution_count": 286,
   "id": "da865cb0-0b86-4c3a-858c-ae86b024aa34",
   "metadata": {},
   "outputs": [
    {
     "data": {
      "text/html": [
       "<div>\n",
       "<style scoped>\n",
       "    .dataframe tbody tr th:only-of-type {\n",
       "        vertical-align: middle;\n",
       "    }\n",
       "\n",
       "    .dataframe tbody tr th {\n",
       "        vertical-align: top;\n",
       "    }\n",
       "\n",
       "    .dataframe thead th {\n",
       "        text-align: right;\n",
       "    }\n",
       "</style>\n",
       "<table border=\"1\" class=\"dataframe\">\n",
       "  <thead>\n",
       "    <tr style=\"text-align: right;\">\n",
       "      <th></th>\n",
       "      <th>Return</th>\n",
       "      <th>Volatility</th>\n",
       "    </tr>\n",
       "  </thead>\n",
       "  <tbody>\n",
       "    <tr>\n",
       "      <th>995</th>\n",
       "      <td>0.112845</td>\n",
       "      <td>0.152417</td>\n",
       "    </tr>\n",
       "    <tr>\n",
       "      <th>996</th>\n",
       "      <td>0.115155</td>\n",
       "      <td>0.153007</td>\n",
       "    </tr>\n",
       "    <tr>\n",
       "      <th>997</th>\n",
       "      <td>0.115210</td>\n",
       "      <td>0.153142</td>\n",
       "    </tr>\n",
       "    <tr>\n",
       "      <th>998</th>\n",
       "      <td>0.118585</td>\n",
       "      <td>0.171143</td>\n",
       "    </tr>\n",
       "    <tr>\n",
       "      <th>999</th>\n",
       "      <td>0.114777</td>\n",
       "      <td>0.152229</td>\n",
       "    </tr>\n",
       "  </tbody>\n",
       "</table>\n",
       "</div>"
      ],
      "text/plain": [
       "       Return  Volatility\n",
       "995  0.112845    0.152417\n",
       "996  0.115155    0.153007\n",
       "997  0.115210    0.153142\n",
       "998  0.118585    0.171143\n",
       "999  0.114777    0.152229"
      ]
     },
     "execution_count": 286,
     "metadata": {},
     "output_type": "execute_result"
    }
   ],
   "source": [
    "portfolios.tail()"
   ]
  },
  {
   "cell_type": "code",
   "execution_count": 287,
   "id": "7332e6ad-f14a-4467-8489-215c242b3608",
   "metadata": {},
   "outputs": [
    {
     "data": {
      "text/plain": [
       "Text(0, 0.5, 'Expected Reality')"
      ]
     },
     "execution_count": 287,
     "metadata": {},
     "output_type": "execute_result"
    },
    {
     "data": {
      "image/png": "[encoded data removed]",
      "text/plain": [
       "<Figure size 720x432 with 1 Axes>"
      ]
     },
     "metadata": {
      "needs_background": "light"
     },
     "output_type": "display_data"
    }
   ],
   "source": [
    "portfolios.plot(x='Volatility',y='Return',kind='scatter',figsize=(10,6));\n",
    "plt.xlabel('Expected Volatility')\n",
    "plt.ylabel('Expected Reality')"
   ]
  },
  {
   "cell_type": "code",
   "execution_count": 289,
   "id": "deae2a4a-0827-40a3-bd11-50403bbde18d",
   "metadata": {},
   "outputs": [],
   "source": [
    "import numpy as np\n",
    "import pandas as pd\n",
    "from pandas_datareader import data as wb\n",
    "\n",
    "tickers = ['PG' , '^GSPC']\n",
    "data = pd.DataFrame()\n",
    "for t in tickers:\n",
    "    data[t] = wb.DataReader(t,data_source = 'yahoo',start = '2015-1-1',end = '2019-12-31')['Adj Close']"
   ]
  },
  {
   "cell_type": "code",
   "execution_count": 290,
   "id": "115ccbcf-cfcf-4cd5-8315-eb078e78b567",
   "metadata": {},
   "outputs": [],
   "source": [
    "sec_returns = np.log(data/data.shift(1))"
   ]
  },
  {
   "cell_type": "code",
   "execution_count": 291,
   "id": "77641f00-c699-45ee-94bc-131dbcec95ce",
   "metadata": {},
   "outputs": [
    {
     "data": {
      "text/html": [
       "<div>\n",
       "<style scoped>\n",
       "    .dataframe tbody tr th:only-of-type {\n",
       "        vertical-align: middle;\n",
       "    }\n",
       "\n",
       "    .dataframe tbody tr th {\n",
       "        vertical-align: top;\n",
       "    }\n",
       "\n",
       "    .dataframe thead th {\n",
       "        text-align: right;\n",
       "    }\n",
       "</style>\n",
       "<table border=\"1\" class=\"dataframe\">\n",
       "  <thead>\n",
       "    <tr style=\"text-align: right;\">\n",
       "      <th></th>\n",
       "      <th>PG</th>\n",
       "      <th>^GSPC</th>\n",
       "    </tr>\n",
       "  </thead>\n",
       "  <tbody>\n",
       "    <tr>\n",
       "      <th>PG</th>\n",
       "      <td>0.024197</td>\n",
       "      <td>0.010170</td>\n",
       "    </tr>\n",
       "    <tr>\n",
       "      <th>^GSPC</th>\n",
       "      <td>0.010170</td>\n",
       "      <td>0.017965</td>\n",
       "    </tr>\n",
       "  </tbody>\n",
       "</table>\n",
       "</div>"
      ],
      "text/plain": [
       "             PG     ^GSPC\n",
       "PG     0.024197  0.010170\n",
       "^GSPC  0.010170  0.017965"
      ]
     },
     "execution_count": 291,
     "metadata": {},
     "output_type": "execute_result"
    }
   ],
   "source": [
    "cov = sec_returns.cov() *250\n",
    "cov"
   ]
  },
  {
   "cell_type": "code",
   "execution_count": 292,
   "id": "4693bb09-ab06-4279-94e1-ae33d432be6a",
   "metadata": {},
   "outputs": [
    {
     "data": {
      "text/plain": [
       "0.010169998401437029"
      ]
     },
     "execution_count": 292,
     "metadata": {},
     "output_type": "execute_result"
    }
   ],
   "source": [
    "cov_with_market = cov.iloc[0,1]\n",
    "cov_with_market"
   ]
  },
  {
   "cell_type": "code",
   "execution_count": 293,
   "id": "880c070d-3cbe-4dcc-b7c4-4eaf7abad9c5",
   "metadata": {},
   "outputs": [
    {
     "data": {
      "text/plain": [
       "0.017965386180065136"
      ]
     },
     "execution_count": 293,
     "metadata": {},
     "output_type": "execute_result"
    }
   ],
   "source": [
    "market_var = sec_returns['^GSPC'].var()*250\n",
    "market_var"
   ]
  },
  {
   "cell_type": "code",
   "execution_count": 294,
   "id": "61d06747-a310-4648-b6c3-73b9413b9506",
   "metadata": {},
   "outputs": [
    {
     "data": {
      "text/plain": [
       "0.5660884937014005"
      ]
     },
     "execution_count": 294,
     "metadata": {},
     "output_type": "execute_result"
    }
   ],
   "source": [
    "PG_beta = cov_with_market / market_var\n",
    "PG_beta"
   ]
  },
  {
   "cell_type": "code",
   "execution_count": 295,
   "id": "fb24e022-f075-4b39-9c20-96d9605150a8",
   "metadata": {},
   "outputs": [],
   "source": [
    "#期待利益率の計算"
   ]
  },
  {
   "cell_type": "code",
   "execution_count": 296,
   "id": "3c1696e7-0ef8-44a5-9440-72d415a84231",
   "metadata": {},
   "outputs": [
    {
     "data": {
      "text/plain": [
       "0.03430442468507002"
      ]
     },
     "execution_count": 296,
     "metadata": {},
     "output_type": "execute_result"
    }
   ],
   "source": [
    "PG_er = 0.006 + PG_beta * 0.05\n",
    "PG_er"
   ]
  },
  {
   "cell_type": "code",
   "execution_count": 297,
   "id": "e9aea953-40ce-48ca-a74f-14ec120047f2",
   "metadata": {},
   "outputs": [],
   "source": [
    "#シャープレシオ"
   ]
  },
  {
   "cell_type": "code",
   "execution_count": 298,
   "id": "24a5e5b3-f1e4-49d7-897b-7040b173c69f",
   "metadata": {},
   "outputs": [
    {
     "data": {
      "text/plain": [
       "0.1819584769216956"
      ]
     },
     "execution_count": 298,
     "metadata": {},
     "output_type": "execute_result"
    }
   ],
   "source": [
    "Sharpe = (PG_er - 0.006) / (sec_returns['PG'].std()*250**0.5)\n",
    "Sharpe"
   ]
  },
  {
   "cell_type": "code",
   "execution_count": 299,
   "id": "80eb6737-55d5-43f8-83e3-8877b23baa12",
   "metadata": {},
   "outputs": [],
   "source": [
    "#重回帰分析"
   ]
  },
  {
   "cell_type": "code",
   "execution_count": 301,
   "id": "82383456-a06e-4c56-88f5-1eea112706f6",
   "metadata": {},
   "outputs": [],
   "source": [
    "import numpy as np\n",
    "import pandas as pd\n",
    "from scipy import stats\n",
    "import statsmodels.api as sm\n",
    "import matplotlib.pyplot as plt"
   ]
  },
  {
   "cell_type": "code",
   "execution_count": 303,
   "id": "d2fa399d-9a46-4db9-b50c-31241484a765",
   "metadata": {},
   "outputs": [],
   "source": [
    "data = pd.read_excel('Housing.xlsx')"
   ]
  },
  {
   "cell_type": "code",
   "execution_count": 304,
   "id": "e4024867-39cc-4b84-a674-1ed5e9dd63db",
   "metadata": {},
   "outputs": [
    {
     "data": {
      "text/html": [
       "<div>\n",
       "<style scoped>\n",
       "    .dataframe tbody tr th:only-of-type {\n",
       "        vertical-align: middle;\n",
       "    }\n",
       "\n",
       "    .dataframe tbody tr th {\n",
       "        vertical-align: top;\n",
       "    }\n",
       "\n",
       "    .dataframe thead th {\n",
       "        text-align: right;\n",
       "    }\n",
       "</style>\n",
       "<table border=\"1\" class=\"dataframe\">\n",
       "  <thead>\n",
       "    <tr style=\"text-align: right;\">\n",
       "      <th></th>\n",
       "      <th>House Price</th>\n",
       "      <th>House Size (sq.ft.)</th>\n",
       "      <th>State</th>\n",
       "      <th>Number of Rooms</th>\n",
       "      <th>Year of Construction</th>\n",
       "    </tr>\n",
       "  </thead>\n",
       "  <tbody>\n",
       "    <tr>\n",
       "      <th>0</th>\n",
       "      <td>1116000</td>\n",
       "      <td>1940</td>\n",
       "      <td>IN</td>\n",
       "      <td>8</td>\n",
       "      <td>2002</td>\n",
       "    </tr>\n",
       "    <tr>\n",
       "      <th>1</th>\n",
       "      <td>860000</td>\n",
       "      <td>1300</td>\n",
       "      <td>IN</td>\n",
       "      <td>5</td>\n",
       "      <td>1992</td>\n",
       "    </tr>\n",
       "    <tr>\n",
       "      <th>2</th>\n",
       "      <td>818400</td>\n",
       "      <td>1420</td>\n",
       "      <td>IN</td>\n",
       "      <td>6</td>\n",
       "      <td>1987</td>\n",
       "    </tr>\n",
       "    <tr>\n",
       "      <th>3</th>\n",
       "      <td>1000000</td>\n",
       "      <td>1680</td>\n",
       "      <td>IN</td>\n",
       "      <td>7</td>\n",
       "      <td>2000</td>\n",
       "    </tr>\n",
       "    <tr>\n",
       "      <th>4</th>\n",
       "      <td>640000</td>\n",
       "      <td>1270</td>\n",
       "      <td>IN</td>\n",
       "      <td>5</td>\n",
       "      <td>1995</td>\n",
       "    </tr>\n",
       "    <tr>\n",
       "      <th>5</th>\n",
       "      <td>1010000</td>\n",
       "      <td>1850</td>\n",
       "      <td>IN</td>\n",
       "      <td>7</td>\n",
       "      <td>1998</td>\n",
       "    </tr>\n",
       "    <tr>\n",
       "      <th>6</th>\n",
       "      <td>600000</td>\n",
       "      <td>1000</td>\n",
       "      <td>IN</td>\n",
       "      <td>4</td>\n",
       "      <td>2015</td>\n",
       "    </tr>\n",
       "    <tr>\n",
       "      <th>7</th>\n",
       "      <td>700000</td>\n",
       "      <td>1100</td>\n",
       "      <td>LA</td>\n",
       "      <td>4</td>\n",
       "      <td>2014</td>\n",
       "    </tr>\n",
       "    <tr>\n",
       "      <th>8</th>\n",
       "      <td>1100000</td>\n",
       "      <td>1600</td>\n",
       "      <td>LA</td>\n",
       "      <td>7</td>\n",
       "      <td>2017</td>\n",
       "    </tr>\n",
       "    <tr>\n",
       "      <th>9</th>\n",
       "      <td>570000</td>\n",
       "      <td>1000</td>\n",
       "      <td>NY</td>\n",
       "      <td>5</td>\n",
       "      <td>1997</td>\n",
       "    </tr>\n",
       "    <tr>\n",
       "      <th>10</th>\n",
       "      <td>860000</td>\n",
       "      <td>2150</td>\n",
       "      <td>NY</td>\n",
       "      <td>9</td>\n",
       "      <td>1997</td>\n",
       "    </tr>\n",
       "    <tr>\n",
       "      <th>11</th>\n",
       "      <td>1085000</td>\n",
       "      <td>1900</td>\n",
       "      <td>NY</td>\n",
       "      <td>9</td>\n",
       "      <td>2000</td>\n",
       "    </tr>\n",
       "    <tr>\n",
       "      <th>12</th>\n",
       "      <td>1250000</td>\n",
       "      <td>2200</td>\n",
       "      <td>NY</td>\n",
       "      <td>9</td>\n",
       "      <td>2014</td>\n",
       "    </tr>\n",
       "    <tr>\n",
       "      <th>13</th>\n",
       "      <td>850000</td>\n",
       "      <td>1100</td>\n",
       "      <td>TX</td>\n",
       "      <td>4</td>\n",
       "      <td>2017</td>\n",
       "    </tr>\n",
       "    <tr>\n",
       "      <th>14</th>\n",
       "      <td>640000</td>\n",
       "      <td>860</td>\n",
       "      <td>TX</td>\n",
       "      <td>4</td>\n",
       "      <td>1997</td>\n",
       "    </tr>\n",
       "    <tr>\n",
       "      <th>15</th>\n",
       "      <td>900000</td>\n",
       "      <td>1325</td>\n",
       "      <td>TX</td>\n",
       "      <td>6</td>\n",
       "      <td>1997</td>\n",
       "    </tr>\n",
       "    <tr>\n",
       "      <th>16</th>\n",
       "      <td>730000</td>\n",
       "      <td>1350</td>\n",
       "      <td>TX</td>\n",
       "      <td>6</td>\n",
       "      <td>2000</td>\n",
       "    </tr>\n",
       "    <tr>\n",
       "      <th>17</th>\n",
       "      <td>750000</td>\n",
       "      <td>1600</td>\n",
       "      <td>TX</td>\n",
       "      <td>6</td>\n",
       "      <td>1992</td>\n",
       "    </tr>\n",
       "    <tr>\n",
       "      <th>18</th>\n",
       "      <td>650000</td>\n",
       "      <td>950</td>\n",
       "      <td>TX</td>\n",
       "      <td>2</td>\n",
       "      <td>1987</td>\n",
       "    </tr>\n",
       "    <tr>\n",
       "      <th>19</th>\n",
       "      <td>680000</td>\n",
       "      <td>1250</td>\n",
       "      <td>TX</td>\n",
       "      <td>4</td>\n",
       "      <td>2000</td>\n",
       "    </tr>\n",
       "  </tbody>\n",
       "</table>\n",
       "</div>"
      ],
      "text/plain": [
       "    House Price  House Size (sq.ft.) State  Number of Rooms  \\\n",
       "0       1116000                 1940    IN                8   \n",
       "1        860000                 1300    IN                5   \n",
       "2        818400                 1420    IN                6   \n",
       "3       1000000                 1680    IN                7   \n",
       "4        640000                 1270    IN                5   \n",
       "5       1010000                 1850    IN                7   \n",
       "6        600000                 1000    IN                4   \n",
       "7        700000                 1100   LA                 4   \n",
       "8       1100000                 1600   LA                 7   \n",
       "9        570000                 1000    NY                5   \n",
       "10       860000                 2150    NY                9   \n",
       "11      1085000                 1900    NY                9   \n",
       "12      1250000                 2200    NY                9   \n",
       "13       850000                 1100    TX                4   \n",
       "14       640000                  860    TX                4   \n",
       "15       900000                 1325    TX                6   \n",
       "16       730000                 1350    TX                6   \n",
       "17       750000                 1600    TX                6   \n",
       "18       650000                  950    TX                2   \n",
       "19       680000                 1250    TX                4   \n",
       "\n",
       "    Year of Construction  \n",
       "0                   2002  \n",
       "1                   1992  \n",
       "2                   1987  \n",
       "3                   2000  \n",
       "4                   1995  \n",
       "5                   1998  \n",
       "6                   2015  \n",
       "7                   2014  \n",
       "8                   2017  \n",
       "9                   1997  \n",
       "10                  1997  \n",
       "11                  2000  \n",
       "12                  2014  \n",
       "13                  2017  \n",
       "14                  1997  \n",
       "15                  1997  \n",
       "16                  2000  \n",
       "17                  1992  \n",
       "18                  1987  \n",
       "19                  2000  "
      ]
     },
     "execution_count": 304,
     "metadata": {},
     "output_type": "execute_result"
    }
   ],
   "source": [
    "data"
   ]
  },
  {
   "cell_type": "code",
   "execution_count": 305,
   "id": "d0844e1b-db32-4416-bef3-1a1e57050f85",
   "metadata": {},
   "outputs": [],
   "source": [
    "X=data[['House Size (sq.ft.)','Number of Rooms','Year of Construction']]\n",
    "Y=data['House Price']"
   ]
  },
  {
   "cell_type": "code",
   "execution_count": 307,
   "id": "59c60218-dc94-40b4-802d-ed694a242f8b",
   "metadata": {},
   "outputs": [
    {
     "name": "stderr",
     "output_type": "stream",
     "text": [
      "/Users/TY/opt/anaconda3/lib/python3.9/site-packages/statsmodels/tsa/tsatools.py:142: FutureWarning: In a future version of pandas all arguments of concat except for the argument 'objs' will be keyword-only\n",
      "  x = pd.concat(x[::order], 1)\n"
     ]
    },
    {
     "data": {
      "text/html": [
       "<table class=\"simpletable\">\n",
       "<caption>OLS Regression Results</caption>\n",
       "<tr>\n",
       "  <th>Dep. Variable:</th>       <td>House Price</td>   <th>  R-squared:         </th> <td>   0.736</td>\n",
       "</tr>\n",
       "<tr>\n",
       "  <th>Model:</th>                   <td>OLS</td>       <th>  Adj. R-squared:    </th> <td>   0.687</td>\n",
       "</tr>\n",
       "<tr>\n",
       "  <th>Method:</th>             <td>Least Squares</td>  <th>  F-statistic:       </th> <td>   14.90</td>\n",
       "</tr>\n",
       "<tr>\n",
       "  <th>Date:</th>             <td>Wed, 15 Dec 2021</td> <th>  Prob (F-statistic):</th> <td>6.82e-05</td>\n",
       "</tr>\n",
       "<tr>\n",
       "  <th>Time:</th>                 <td>20:29:44</td>     <th>  Log-Likelihood:    </th> <td> -258.43</td>\n",
       "</tr>\n",
       "<tr>\n",
       "  <th>No. Observations:</th>      <td>    20</td>      <th>  AIC:               </th> <td>   524.9</td>\n",
       "</tr>\n",
       "<tr>\n",
       "  <th>Df Residuals:</th>          <td>    16</td>      <th>  BIC:               </th> <td>   528.9</td>\n",
       "</tr>\n",
       "<tr>\n",
       "  <th>Df Model:</th>              <td>     3</td>      <th>                     </th>     <td> </td>   \n",
       "</tr>\n",
       "<tr>\n",
       "  <th>Covariance Type:</th>      <td>nonrobust</td>    <th>                     </th>     <td> </td>   \n",
       "</tr>\n",
       "</table>\n",
       "<table class=\"simpletable\">\n",
       "<tr>\n",
       "            <td></td>              <th>coef</th>     <th>std err</th>      <th>t</th>      <th>P>|t|</th>  <th>[0.025</th>    <th>0.975]</th>  \n",
       "</tr>\n",
       "<tr>\n",
       "  <th>const</th>                <td>-9.452e+06</td> <td>  5.4e+06</td> <td>   -1.752</td> <td> 0.099</td> <td>-2.09e+07</td> <td> 1.99e+06</td>\n",
       "</tr>\n",
       "<tr>\n",
       "  <th>House Size (sq.ft.)</th>  <td>  341.8271</td> <td>  179.666</td> <td>    1.903</td> <td> 0.075</td> <td>  -39.049</td> <td>  722.703</td>\n",
       "</tr>\n",
       "<tr>\n",
       "  <th>Number of Rooms</th>      <td>  1.16e+04</td> <td> 3.74e+04</td> <td>    0.310</td> <td> 0.760</td> <td>-6.77e+04</td> <td> 9.08e+04</td>\n",
       "</tr>\n",
       "<tr>\n",
       "  <th>Year of Construction</th> <td> 4863.5761</td> <td> 2697.969</td> <td>    1.803</td> <td> 0.090</td> <td> -855.862</td> <td> 1.06e+04</td>\n",
       "</tr>\n",
       "</table>\n",
       "<table class=\"simpletable\">\n",
       "<tr>\n",
       "  <th>Omnibus:</th>       <td> 2.140</td> <th>  Durbin-Watson:     </th> <td>   1.938</td>\n",
       "</tr>\n",
       "<tr>\n",
       "  <th>Prob(Omnibus):</th> <td> 0.343</td> <th>  Jarque-Bera (JB):  </th> <td>   1.747</td>\n",
       "</tr>\n",
       "<tr>\n",
       "  <th>Skew:</th>          <td>-0.676</td> <th>  Prob(JB):          </th> <td>   0.418</td>\n",
       "</tr>\n",
       "<tr>\n",
       "  <th>Kurtosis:</th>      <td> 2.484</td> <th>  Cond. No.          </th> <td>5.40e+05</td>\n",
       "</tr>\n",
       "</table><br/><br/>Notes:<br/>[1] Standard Errors assume that the covariance matrix of the errors is correctly specified.<br/>[2] The condition number is large, 5.4e+05. This might indicate that there are<br/>strong multicollinearity or other numerical problems."
      ],
      "text/plain": [
       "<class 'statsmodels.iolib.summary.Summary'>\n",
       "\"\"\"\n",
       "                            OLS Regression Results                            \n",
       "==============================================================================\n",
       "Dep. Variable:            House Price   R-squared:                       0.736\n",
       "Model:                            OLS   Adj. R-squared:                  0.687\n",
       "Method:                 Least Squares   F-statistic:                     14.90\n",
       "Date:                Wed, 15 Dec 2021   Prob (F-statistic):           6.82e-05\n",
       "Time:                        20:29:44   Log-Likelihood:                -258.43\n",
       "No. Observations:                  20   AIC:                             524.9\n",
       "Df Residuals:                      16   BIC:                             528.9\n",
       "Df Model:                           3                                         \n",
       "Covariance Type:            nonrobust                                         \n",
       "========================================================================================\n",
       "                           coef    std err          t      P>|t|      [0.025      0.975]\n",
       "----------------------------------------------------------------------------------------\n",
       "const                -9.452e+06    5.4e+06     -1.752      0.099   -2.09e+07    1.99e+06\n",
       "House Size (sq.ft.)    341.8271    179.666      1.903      0.075     -39.049     722.703\n",
       "Number of Rooms        1.16e+04   3.74e+04      0.310      0.760   -6.77e+04    9.08e+04\n",
       "Year of Construction  4863.5761   2697.969      1.803      0.090    -855.862    1.06e+04\n",
       "==============================================================================\n",
       "Omnibus:                        2.140   Durbin-Watson:                   1.938\n",
       "Prob(Omnibus):                  0.343   Jarque-Bera (JB):                1.747\n",
       "Skew:                          -0.676   Prob(JB):                        0.418\n",
       "Kurtosis:                       2.484   Cond. No.                     5.40e+05\n",
       "==============================================================================\n",
       "\n",
       "Notes:\n",
       "[1] Standard Errors assume that the covariance matrix of the errors is correctly specified.\n",
       "[2] The condition number is large, 5.4e+05. This might indicate that there are\n",
       "strong multicollinearity or other numerical problems.\n",
       "\"\"\""
      ]
     },
     "execution_count": 307,
     "metadata": {},
     "output_type": "execute_result"
    }
   ],
   "source": [
    "X1 = sm.add_constant(X)\n",
    "reg = sm.OLS(Y, X1).fit()\n",
    "\n",
    "reg.summary()"
   ]
  },
  {
   "cell_type": "code",
   "execution_count": 308,
   "id": "b90c8896-1f9a-403e-8692-957a207a5fae",
   "metadata": {},
   "outputs": [],
   "source": [
    "#独立変数：床面積、部屋面積の数"
   ]
  },
  {
   "cell_type": "code",
   "execution_count": 310,
   "id": "717270fa-3d6f-4c9c-83b3-337726059b8e",
   "metadata": {},
   "outputs": [],
   "source": [
    "X=data[['House Size (sq.ft.)','Number of Rooms']]\n",
    "Y=data['House Price']"
   ]
  },
  {
   "cell_type": "code",
   "execution_count": 312,
   "id": "76925f7a-b04e-47c1-acc9-9e6510b1c67a",
   "metadata": {},
   "outputs": [
    {
     "data": {
      "text/html": [
       "<table class=\"simpletable\">\n",
       "<caption>OLS Regression Results</caption>\n",
       "<tr>\n",
       "  <th>Dep. Variable:</th>       <td>House Price</td>   <th>  R-squared:         </th> <td>   0.683</td>\n",
       "</tr>\n",
       "<tr>\n",
       "  <th>Model:</th>                   <td>OLS</td>       <th>  Adj. R-squared:    </th> <td>   0.645</td>\n",
       "</tr>\n",
       "<tr>\n",
       "  <th>Method:</th>             <td>Least Squares</td>  <th>  F-statistic:       </th> <td>   18.30</td>\n",
       "</tr>\n",
       "<tr>\n",
       "  <th>Date:</th>             <td>Wed, 15 Dec 2021</td> <th>  Prob (F-statistic):</th> <td>5.77e-05</td>\n",
       "</tr>\n",
       "<tr>\n",
       "  <th>Time:</th>                 <td>20:38:46</td>     <th>  Log-Likelihood:    </th> <td> -260.28</td>\n",
       "</tr>\n",
       "<tr>\n",
       "  <th>No. Observations:</th>      <td>    20</td>      <th>  AIC:               </th> <td>   526.6</td>\n",
       "</tr>\n",
       "<tr>\n",
       "  <th>Df Residuals:</th>          <td>    17</td>      <th>  BIC:               </th> <td>   529.6</td>\n",
       "</tr>\n",
       "<tr>\n",
       "  <th>Df Model:</th>              <td>     2</td>      <th>                     </th>     <td> </td>   \n",
       "</tr>\n",
       "<tr>\n",
       "  <th>Covariance Type:</th>      <td>nonrobust</td>    <th>                     </th>     <td> </td>   \n",
       "</tr>\n",
       "</table>\n",
       "<table class=\"simpletable\">\n",
       "<tr>\n",
       "           <td></td>              <th>coef</th>     <th>std err</th>      <th>t</th>      <th>P>|t|</th>  <th>[0.025</th>    <th>0.975]</th>  \n",
       "</tr>\n",
       "<tr>\n",
       "  <th>const</th>               <td> 2.737e+05</td> <td> 1.03e+05</td> <td>    2.655</td> <td> 0.017</td> <td> 5.62e+04</td> <td> 4.91e+05</td>\n",
       "</tr>\n",
       "<tr>\n",
       "  <th>House Size (sq.ft.)</th> <td>  314.1363</td> <td>  190.485</td> <td>    1.649</td> <td> 0.117</td> <td>  -87.752</td> <td>  716.025</td>\n",
       "</tr>\n",
       "<tr>\n",
       "  <th>Number of Rooms</th>     <td> 1.944e+04</td> <td> 3.95e+04</td> <td>    0.492</td> <td> 0.629</td> <td>-6.39e+04</td> <td> 1.03e+05</td>\n",
       "</tr>\n",
       "</table>\n",
       "<table class=\"simpletable\">\n",
       "<tr>\n",
       "  <th>Omnibus:</th>       <td> 1.326</td> <th>  Durbin-Watson:     </th> <td>   1.852</td>\n",
       "</tr>\n",
       "<tr>\n",
       "  <th>Prob(Omnibus):</th> <td> 0.515</td> <th>  Jarque-Bera (JB):  </th> <td>   0.810</td>\n",
       "</tr>\n",
       "<tr>\n",
       "  <th>Skew:</th>          <td>-0.487</td> <th>  Prob(JB):          </th> <td>   0.667</td>\n",
       "</tr>\n",
       "<tr>\n",
       "  <th>Kurtosis:</th>      <td> 2.853</td> <th>  Cond. No.          </th> <td>5.89e+03</td>\n",
       "</tr>\n",
       "</table><br/><br/>Notes:<br/>[1] Standard Errors assume that the covariance matrix of the errors is correctly specified.<br/>[2] The condition number is large, 5.89e+03. This might indicate that there are<br/>strong multicollinearity or other numerical problems."
      ],
      "text/plain": [
       "<class 'statsmodels.iolib.summary.Summary'>\n",
       "\"\"\"\n",
       "                            OLS Regression Results                            \n",
       "==============================================================================\n",
       "Dep. Variable:            House Price   R-squared:                       0.683\n",
       "Model:                            OLS   Adj. R-squared:                  0.645\n",
       "Method:                 Least Squares   F-statistic:                     18.30\n",
       "Date:                Wed, 15 Dec 2021   Prob (F-statistic):           5.77e-05\n",
       "Time:                        20:38:46   Log-Likelihood:                -260.28\n",
       "No. Observations:                  20   AIC:                             526.6\n",
       "Df Residuals:                      17   BIC:                             529.6\n",
       "Df Model:                           2                                         \n",
       "Covariance Type:            nonrobust                                         \n",
       "=======================================================================================\n",
       "                          coef    std err          t      P>|t|      [0.025      0.975]\n",
       "---------------------------------------------------------------------------------------\n",
       "const                2.737e+05   1.03e+05      2.655      0.017    5.62e+04    4.91e+05\n",
       "House Size (sq.ft.)   314.1363    190.485      1.649      0.117     -87.752     716.025\n",
       "Number of Rooms      1.944e+04   3.95e+04      0.492      0.629   -6.39e+04    1.03e+05\n",
       "==============================================================================\n",
       "Omnibus:                        1.326   Durbin-Watson:                   1.852\n",
       "Prob(Omnibus):                  0.515   Jarque-Bera (JB):                0.810\n",
       "Skew:                          -0.487   Prob(JB):                        0.667\n",
       "Kurtosis:                       2.853   Cond. No.                     5.89e+03\n",
       "==============================================================================\n",
       "\n",
       "Notes:\n",
       "[1] Standard Errors assume that the covariance matrix of the errors is correctly specified.\n",
       "[2] The condition number is large, 5.89e+03. This might indicate that there are\n",
       "strong multicollinearity or other numerical problems.\n",
       "\"\"\""
      ]
     },
     "execution_count": 312,
     "metadata": {},
     "output_type": "execute_result"
    }
   ],
   "source": [
    "X1=sm.add_constant(X)\n",
    "reg=sm.OLS(Y,X1).fit()\n",
    "\n",
    "reg.summary()"
   ]
  },
  {
   "cell_type": "code",
   "execution_count": 313,
   "id": "c9eecb40-7d64-4b21-866d-f8bbdbd9f3e8",
   "metadata": {},
   "outputs": [],
   "source": [
    "#独立変数：床面積、築年数"
   ]
  },
  {
   "cell_type": "code",
   "execution_count": 315,
   "id": "9e6cffb7-74f0-49e1-9955-49b8edc8ee4a",
   "metadata": {},
   "outputs": [],
   "source": [
    "X=data[['House Size (sq.ft.)','Year of Construction']]\n",
    "Y=data['House Price']"
   ]
  },
  {
   "cell_type": "code",
   "execution_count": 316,
   "id": "c19ad416-74c2-4bff-8e17-5e220ac69ed9",
   "metadata": {},
   "outputs": [
    {
     "name": "stderr",
     "output_type": "stream",
     "text": [
      "/Users/TY/opt/anaconda3/lib/python3.9/site-packages/statsmodels/tsa/tsatools.py:142: FutureWarning: In a future version of pandas all arguments of concat except for the argument 'objs' will be keyword-only\n",
      "  x = pd.concat(x[::order], 1)\n"
     ]
    },
    {
     "data": {
      "text/html": [
       "<table class=\"simpletable\">\n",
       "<caption>OLS Regression Results</caption>\n",
       "<tr>\n",
       "  <th>Dep. Variable:</th>       <td>House Price</td>   <th>  R-squared:         </th> <td>   0.735</td>\n",
       "</tr>\n",
       "<tr>\n",
       "  <th>Model:</th>                   <td>OLS</td>       <th>  Adj. R-squared:    </th> <td>   0.704</td>\n",
       "</tr>\n",
       "<tr>\n",
       "  <th>Method:</th>             <td>Least Squares</td>  <th>  F-statistic:       </th> <td>   23.55</td>\n",
       "</tr>\n",
       "<tr>\n",
       "  <th>Date:</th>             <td>Wed, 15 Dec 2021</td> <th>  Prob (F-statistic):</th> <td>1.26e-05</td>\n",
       "</tr>\n",
       "<tr>\n",
       "  <th>Time:</th>                 <td>20:40:41</td>     <th>  Log-Likelihood:    </th> <td> -258.49</td>\n",
       "</tr>\n",
       "<tr>\n",
       "  <th>No. Observations:</th>      <td>    20</td>      <th>  AIC:               </th> <td>   523.0</td>\n",
       "</tr>\n",
       "<tr>\n",
       "  <th>Df Residuals:</th>          <td>    17</td>      <th>  BIC:               </th> <td>   526.0</td>\n",
       "</tr>\n",
       "<tr>\n",
       "  <th>Df Model:</th>              <td>     2</td>      <th>                     </th>     <td> </td>   \n",
       "</tr>\n",
       "<tr>\n",
       "  <th>Covariance Type:</th>      <td>nonrobust</td>    <th>                     </th>     <td> </td>   \n",
       "</tr>\n",
       "</table>\n",
       "<table class=\"simpletable\">\n",
       "<tr>\n",
       "            <td></td>              <th>coef</th>     <th>std err</th>      <th>t</th>      <th>P>|t|</th>  <th>[0.025</th>    <th>0.975]</th>  \n",
       "</tr>\n",
       "<tr>\n",
       "  <th>const</th>                <td>-9.654e+06</td> <td> 5.21e+06</td> <td>   -1.852</td> <td> 0.081</td> <td>-2.07e+07</td> <td> 1.34e+06</td>\n",
       "</tr>\n",
       "<tr>\n",
       "  <th>House Size (sq.ft.)</th>  <td>  394.0417</td> <td>   61.098</td> <td>    6.449</td> <td> 0.000</td> <td>  265.137</td> <td>  522.947</td>\n",
       "</tr>\n",
       "<tr>\n",
       "  <th>Year of Construction</th> <td> 4960.9407</td> <td> 2607.443</td> <td>    1.903</td> <td> 0.074</td> <td> -540.283</td> <td> 1.05e+04</td>\n",
       "</tr>\n",
       "</table>\n",
       "<table class=\"simpletable\">\n",
       "<tr>\n",
       "  <th>Omnibus:</th>       <td> 2.064</td> <th>  Durbin-Watson:     </th> <td>   1.926</td>\n",
       "</tr>\n",
       "<tr>\n",
       "  <th>Prob(Omnibus):</th> <td> 0.356</td> <th>  Jarque-Bera (JB):  </th> <td>   1.689</td>\n",
       "</tr>\n",
       "<tr>\n",
       "  <th>Skew:</th>          <td>-0.663</td> <th>  Prob(JB):          </th> <td>   0.430</td>\n",
       "</tr>\n",
       "<tr>\n",
       "  <th>Kurtosis:</th>      <td> 2.480</td> <th>  Cond. No.          </th> <td>5.36e+05</td>\n",
       "</tr>\n",
       "</table><br/><br/>Notes:<br/>[1] Standard Errors assume that the covariance matrix of the errors is correctly specified.<br/>[2] The condition number is large, 5.36e+05. This might indicate that there are<br/>strong multicollinearity or other numerical problems."
      ],
      "text/plain": [
       "<class 'statsmodels.iolib.summary.Summary'>\n",
       "\"\"\"\n",
       "                            OLS Regression Results                            \n",
       "==============================================================================\n",
       "Dep. Variable:            House Price   R-squared:                       0.735\n",
       "Model:                            OLS   Adj. R-squared:                  0.704\n",
       "Method:                 Least Squares   F-statistic:                     23.55\n",
       "Date:                Wed, 15 Dec 2021   Prob (F-statistic):           1.26e-05\n",
       "Time:                        20:40:41   Log-Likelihood:                -258.49\n",
       "No. Observations:                  20   AIC:                             523.0\n",
       "Df Residuals:                      17   BIC:                             526.0\n",
       "Df Model:                           2                                         \n",
       "Covariance Type:            nonrobust                                         \n",
       "========================================================================================\n",
       "                           coef    std err          t      P>|t|      [0.025      0.975]\n",
       "----------------------------------------------------------------------------------------\n",
       "const                -9.654e+06   5.21e+06     -1.852      0.081   -2.07e+07    1.34e+06\n",
       "House Size (sq.ft.)    394.0417     61.098      6.449      0.000     265.137     522.947\n",
       "Year of Construction  4960.9407   2607.443      1.903      0.074    -540.283    1.05e+04\n",
       "==============================================================================\n",
       "Omnibus:                        2.064   Durbin-Watson:                   1.926\n",
       "Prob(Omnibus):                  0.356   Jarque-Bera (JB):                1.689\n",
       "Skew:                          -0.663   Prob(JB):                        0.430\n",
       "Kurtosis:                       2.480   Cond. No.                     5.36e+05\n",
       "==============================================================================\n",
       "\n",
       "Notes:\n",
       "[1] Standard Errors assume that the covariance matrix of the errors is correctly specified.\n",
       "[2] The condition number is large, 5.36e+05. This might indicate that there are\n",
       "strong multicollinearity or other numerical problems.\n",
       "\"\"\""
      ]
     },
     "execution_count": 316,
     "metadata": {},
     "output_type": "execute_result"
    }
   ],
   "source": [
    "X1=sm.add_constant(X)\n",
    "reg=sm.OLS(Y,X1).fit()\n",
    "\n",
    "reg.summary()"
   ]
  },
  {
   "cell_type": "code",
   "execution_count": 317,
   "id": "a3180519-0674-441b-9741-fa869e7f7ade",
   "metadata": {},
   "outputs": [],
   "source": [
    "#独立変数：部屋の数、築年数"
   ]
  },
  {
   "cell_type": "code",
   "execution_count": 318,
   "id": "ba6a07ec-46ee-40b5-afb9-2b8c1196a36c",
   "metadata": {},
   "outputs": [],
   "source": [
    "X=data[['Number of Rooms','Year of Construction']]\n",
    "Y=data['House Price']"
   ]
  },
  {
   "cell_type": "code",
   "execution_count": 319,
   "id": "cfc242e6-c238-406c-81c0-16a5f62ccf50",
   "metadata": {},
   "outputs": [
    {
     "name": "stderr",
     "output_type": "stream",
     "text": [
      "/Users/TY/opt/anaconda3/lib/python3.9/site-packages/statsmodels/tsa/tsatools.py:142: FutureWarning: In a future version of pandas all arguments of concat except for the argument 'objs' will be keyword-only\n",
      "  x = pd.concat(x[::order], 1)\n"
     ]
    },
    {
     "data": {
      "text/html": [
       "<table class=\"simpletable\">\n",
       "<caption>OLS Regression Results</caption>\n",
       "<tr>\n",
       "  <th>Dep. Variable:</th>       <td>House Price</td>   <th>  R-squared:         </th> <td>   0.677</td>\n",
       "</tr>\n",
       "<tr>\n",
       "  <th>Model:</th>                   <td>OLS</td>       <th>  Adj. R-squared:    </th> <td>   0.639</td>\n",
       "</tr>\n",
       "<tr>\n",
       "  <th>Method:</th>             <td>Least Squares</td>  <th>  F-statistic:       </th> <td>   17.79</td>\n",
       "</tr>\n",
       "<tr>\n",
       "  <th>Date:</th>             <td>Wed, 15 Dec 2021</td> <th>  Prob (F-statistic):</th> <td>6.79e-05</td>\n",
       "</tr>\n",
       "<tr>\n",
       "  <th>Time:</th>                 <td>20:42:07</td>     <th>  Log-Likelihood:    </th> <td> -260.47</td>\n",
       "</tr>\n",
       "<tr>\n",
       "  <th>No. Observations:</th>      <td>    20</td>      <th>  AIC:               </th> <td>   526.9</td>\n",
       "</tr>\n",
       "<tr>\n",
       "  <th>Df Residuals:</th>          <td>    17</td>      <th>  BIC:               </th> <td>   529.9</td>\n",
       "</tr>\n",
       "<tr>\n",
       "  <th>Df Model:</th>              <td>     2</td>      <th>                     </th>     <td> </td>   \n",
       "</tr>\n",
       "<tr>\n",
       "  <th>Covariance Type:</th>      <td>nonrobust</td>    <th>                     </th>     <td> </td>   \n",
       "</tr>\n",
       "</table>\n",
       "<table class=\"simpletable\">\n",
       "<tr>\n",
       "            <td></td>              <th>coef</th>     <th>std err</th>      <th>t</th>      <th>P>|t|</th>  <th>[0.025</th>    <th>0.975]</th>  \n",
       "</tr>\n",
       "<tr>\n",
       "  <th>const</th>                <td>-8.471e+06</td> <td> 5.77e+06</td> <td>   -1.468</td> <td> 0.160</td> <td>-2.06e+07</td> <td>  3.7e+06</td>\n",
       "</tr>\n",
       "<tr>\n",
       "  <th>Number of Rooms</th>      <td> 7.824e+04</td> <td>  1.4e+04</td> <td>    5.574</td> <td> 0.000</td> <td> 4.86e+04</td> <td> 1.08e+05</td>\n",
       "</tr>\n",
       "<tr>\n",
       "  <th>Year of Construction</th> <td> 4424.7160</td> <td> 2887.793</td> <td>    1.532</td> <td> 0.144</td> <td>-1667.996</td> <td> 1.05e+04</td>\n",
       "</tr>\n",
       "</table>\n",
       "<table class=\"simpletable\">\n",
       "<tr>\n",
       "  <th>Omnibus:</th>       <td> 2.115</td> <th>  Durbin-Watson:     </th> <td>   1.959</td>\n",
       "</tr>\n",
       "<tr>\n",
       "  <th>Prob(Omnibus):</th> <td> 0.347</td> <th>  Jarque-Bera (JB):  </th> <td>   1.400</td>\n",
       "</tr>\n",
       "<tr>\n",
       "  <th>Skew:</th>          <td>-0.407</td> <th>  Prob(JB):          </th> <td>   0.497</td>\n",
       "</tr>\n",
       "<tr>\n",
       "  <th>Kurtosis:</th>      <td> 1.991</td> <th>  Cond. No.          </th> <td>4.34e+05</td>\n",
       "</tr>\n",
       "</table><br/><br/>Notes:<br/>[1] Standard Errors assume that the covariance matrix of the errors is correctly specified.<br/>[2] The condition number is large, 4.34e+05. This might indicate that there are<br/>strong multicollinearity or other numerical problems."
      ],
      "text/plain": [
       "<class 'statsmodels.iolib.summary.Summary'>\n",
       "\"\"\"\n",
       "                            OLS Regression Results                            \n",
       "==============================================================================\n",
       "Dep. Variable:            House Price   R-squared:                       0.677\n",
       "Model:                            OLS   Adj. R-squared:                  0.639\n",
       "Method:                 Least Squares   F-statistic:                     17.79\n",
       "Date:                Wed, 15 Dec 2021   Prob (F-statistic):           6.79e-05\n",
       "Time:                        20:42:07   Log-Likelihood:                -260.47\n",
       "No. Observations:                  20   AIC:                             526.9\n",
       "Df Residuals:                      17   BIC:                             529.9\n",
       "Df Model:                           2                                         \n",
       "Covariance Type:            nonrobust                                         \n",
       "========================================================================================\n",
       "                           coef    std err          t      P>|t|      [0.025      0.975]\n",
       "----------------------------------------------------------------------------------------\n",
       "const                -8.471e+06   5.77e+06     -1.468      0.160   -2.06e+07     3.7e+06\n",
       "Number of Rooms       7.824e+04    1.4e+04      5.574      0.000    4.86e+04    1.08e+05\n",
       "Year of Construction  4424.7160   2887.793      1.532      0.144   -1667.996    1.05e+04\n",
       "==============================================================================\n",
       "Omnibus:                        2.115   Durbin-Watson:                   1.959\n",
       "Prob(Omnibus):                  0.347   Jarque-Bera (JB):                1.400\n",
       "Skew:                          -0.407   Prob(JB):                        0.497\n",
       "Kurtosis:                       1.991   Cond. No.                     4.34e+05\n",
       "==============================================================================\n",
       "\n",
       "Notes:\n",
       "[1] Standard Errors assume that the covariance matrix of the errors is correctly specified.\n",
       "[2] The condition number is large, 4.34e+05. This might indicate that there are\n",
       "strong multicollinearity or other numerical problems.\n",
       "\"\"\""
      ]
     },
     "execution_count": 319,
     "metadata": {},
     "output_type": "execute_result"
    }
   ],
   "source": [
    "X1=sm.add_constant(X)\n",
    "reg=sm.OLS(Y,X1).fit()\n",
    "\n",
    "reg.summary()"
   ]
  },
  {
   "cell_type": "code",
   "execution_count": 320,
   "id": "e016ee8b-4728-4a4a-aa04-eb4a9e755646",
   "metadata": {},
   "outputs": [],
   "source": [
    "#モンテカルロシミュレーション；株価予測"
   ]
  },
  {
   "cell_type": "code",
   "execution_count": 322,
   "id": "bee5e582-ea3d-46ec-9373-d63bad0b3016",
   "metadata": {},
   "outputs": [],
   "source": [
    "import numpy as np\n",
    "import pandas as pd\n",
    "from pandas_datareader import data as wb\n",
    "import matplotlib.pyplot as plt\n",
    "from scipy.stats import norm\n",
    "%matplotlib inline"
   ]
  },
  {
   "cell_type": "code",
   "execution_count": 324,
   "id": "84675fff-b689-46a5-8212-ab11a3e4d1d8",
   "metadata": {},
   "outputs": [],
   "source": [
    "ticker = 'PG'\n",
    "data = pd.DataFrame()\n",
    "data[ticker] = wb.DataReader(ticker, data_source='yahoo',start='2011-1-1')['Adj Close']"
   ]
  },
  {
   "cell_type": "code",
   "execution_count": 325,
   "id": "9935afbf-b1ea-44e2-895f-96fee2d14e67",
   "metadata": {},
   "outputs": [],
   "source": [
    "log_returns = np.log(1+data.pct_change())"
   ]
  },
  {
   "cell_type": "code",
   "execution_count": 326,
   "id": "e5a8c14f-6be8-4442-b9e3-44397971a0a5",
   "metadata": {},
   "outputs": [
    {
     "data": {
      "text/html": [
       "<div>\n",
       "<style scoped>\n",
       "    .dataframe tbody tr th:only-of-type {\n",
       "        vertical-align: middle;\n",
       "    }\n",
       "\n",
       "    .dataframe tbody tr th {\n",
       "        vertical-align: top;\n",
       "    }\n",
       "\n",
       "    .dataframe thead th {\n",
       "        text-align: right;\n",
       "    }\n",
       "</style>\n",
       "<table border=\"1\" class=\"dataframe\">\n",
       "  <thead>\n",
       "    <tr style=\"text-align: right;\">\n",
       "      <th></th>\n",
       "      <th>PG</th>\n",
       "    </tr>\n",
       "    <tr>\n",
       "      <th>Date</th>\n",
       "      <th></th>\n",
       "    </tr>\n",
       "  </thead>\n",
       "  <tbody>\n",
       "    <tr>\n",
       "      <th>2021-12-08</th>\n",
       "      <td>0.004471</td>\n",
       "    </tr>\n",
       "    <tr>\n",
       "      <th>2021-12-09</th>\n",
       "      <td>0.005822</td>\n",
       "    </tr>\n",
       "    <tr>\n",
       "      <th>2021-12-10</th>\n",
       "      <td>0.013861</td>\n",
       "    </tr>\n",
       "    <tr>\n",
       "      <th>2021-12-13</th>\n",
       "      <td>0.014116</td>\n",
       "    </tr>\n",
       "    <tr>\n",
       "      <th>2021-12-14</th>\n",
       "      <td>0.003672</td>\n",
       "    </tr>\n",
       "  </tbody>\n",
       "</table>\n",
       "</div>"
      ],
      "text/plain": [
       "                  PG\n",
       "Date                \n",
       "2021-12-08  0.004471\n",
       "2021-12-09  0.005822\n",
       "2021-12-10  0.013861\n",
       "2021-12-13  0.014116\n",
       "2021-12-14  0.003672"
      ]
     },
     "execution_count": 326,
     "metadata": {},
     "output_type": "execute_result"
    }
   ],
   "source": [
    "log_returns.tail()"
   ]
  },
  {
   "cell_type": "code",
   "execution_count": 328,
   "id": "8b8adaad-7b75-432d-a2c8-5b6e2b6fdf8e",
   "metadata": {},
   "outputs": [
    {
     "data": {
      "image/png": "[encoded data removed]",
      "text/plain": [
       "<Figure size 720x432 with 1 Axes>"
      ]
     },
     "metadata": {
      "needs_background": "light"
     },
     "output_type": "display_data"
    }
   ],
   "source": [
    "data.plot(figsize = (10,6));"
   ]
  },
  {
   "cell_type": "code",
   "execution_count": 329,
   "id": "f68cffe8-c07b-4eaa-b9f7-b70ae6ddf2fe",
   "metadata": {},
   "outputs": [
    {
     "data": {
      "text/plain": [
       "<AxesSubplot:xlabel='Date'>"
      ]
     },
     "execution_count": 329,
     "metadata": {},
     "output_type": "execute_result"
    },
    {
     "data": {
      "image/png": "[encoded data removed]",
      "text/plain": [
       "<Figure size 720x432 with 1 Axes>"
      ]
     },
     "metadata": {
      "needs_background": "light"
     },
     "output_type": "display_data"
    }
   ],
   "source": [
    "log_returns.plot(figsize = (10,6))"
   ]
  },
  {
   "cell_type": "code",
   "execution_count": 330,
   "id": "0c54c0de-4185-48d5-82d3-e4c181564470",
   "metadata": {},
   "outputs": [
    {
     "data": {
      "text/plain": [
       "PG    0.000448\n",
       "dtype: float64"
      ]
     },
     "execution_count": 330,
     "metadata": {},
     "output_type": "execute_result"
    }
   ],
   "source": [
    "u=log_returns.mean()\n",
    "u"
   ]
  },
  {
   "cell_type": "code",
   "execution_count": 333,
   "id": "a796bbf9-8bf0-4603-9eb0-f7cd98890c47",
   "metadata": {},
   "outputs": [
    {
     "data": {
      "text/plain": [
       "PG    0.000118\n",
       "dtype: float64"
      ]
     },
     "execution_count": 333,
     "metadata": {},
     "output_type": "execute_result"
    }
   ],
   "source": [
    "var = log_returns.var()\n",
    "var"
   ]
  },
  {
   "cell_type": "code",
   "execution_count": 334,
   "id": "99a59ab1-74dd-4fdb-8fca-c71ae3f7ee11",
   "metadata": {},
   "outputs": [
    {
     "data": {
      "text/plain": [
       "PG    0.000389\n",
       "dtype: float64"
      ]
     },
     "execution_count": 334,
     "metadata": {},
     "output_type": "execute_result"
    }
   ],
   "source": [
    "drift = u - (0.5 *var)\n",
    "drift"
   ]
  },
  {
   "cell_type": "code",
   "execution_count": 335,
   "id": "bbc3e1ec-4434-48b8-8bbf-d381fbee8ac9",
   "metadata": {},
   "outputs": [
    {
     "data": {
      "text/plain": [
       "PG    0.010859\n",
       "dtype: float64"
      ]
     },
     "execution_count": 335,
     "metadata": {},
     "output_type": "execute_result"
    }
   ],
   "source": [
    "stdev = log_returns.std()\n",
    "stdev"
   ]
  },
  {
   "cell_type": "code",
   "execution_count": 336,
   "id": "bb3a6a44-c146-4cfe-97d5-d942d1fc28a2",
   "metadata": {},
   "outputs": [
    {
     "data": {
      "text/plain": [
       "pandas.core.series.Series"
      ]
     },
     "execution_count": 336,
     "metadata": {},
     "output_type": "execute_result"
    }
   ],
   "source": [
    "type(drift)"
   ]
  },
  {
   "cell_type": "code",
   "execution_count": 337,
   "id": "2409e95e-1f26-4892-92ab-214fdcb34ebb",
   "metadata": {},
   "outputs": [
    {
     "data": {
      "text/plain": [
       "pandas.core.series.Series"
      ]
     },
     "execution_count": 337,
     "metadata": {},
     "output_type": "execute_result"
    }
   ],
   "source": [
    "type(stdev)"
   ]
  },
  {
   "cell_type": "code",
   "execution_count": 338,
   "id": "3a16b739-9d23-4e9b-8fbc-06c0768093fc",
   "metadata": {},
   "outputs": [
    {
     "data": {
      "text/plain": [
       "array([0.00038861])"
      ]
     },
     "execution_count": 338,
     "metadata": {},
     "output_type": "execute_result"
    }
   ],
   "source": [
    "np.array(drift)"
   ]
  },
  {
   "cell_type": "code",
   "execution_count": 339,
   "id": "ce83fc3b-e3f0-43b6-8cce-beec860c6635",
   "metadata": {},
   "outputs": [
    {
     "data": {
      "text/plain": [
       "array([0.00038861])"
      ]
     },
     "execution_count": 339,
     "metadata": {},
     "output_type": "execute_result"
    }
   ],
   "source": [
    "drift.values"
   ]
  },
  {
   "cell_type": "code",
   "execution_count": 340,
   "id": "b503bd5c-3c65-4333-ae02-2122e4503bd9",
   "metadata": {},
   "outputs": [
    {
     "data": {
      "text/plain": [
       "array([0.01085927])"
      ]
     },
     "execution_count": 340,
     "metadata": {},
     "output_type": "execute_result"
    }
   ],
   "source": [
    "stdev.values"
   ]
  },
  {
   "cell_type": "code",
   "execution_count": 341,
   "id": "70fdf5bf-17a9-4dec-ae14-7f9fdafbba64",
   "metadata": {},
   "outputs": [
    {
     "data": {
      "text/plain": [
       "1.6448536269514722"
      ]
     },
     "execution_count": 341,
     "metadata": {},
     "output_type": "execute_result"
    }
   ],
   "source": [
    "norm.ppf(0.95)"
   ]
  },
  {
   "cell_type": "code",
   "execution_count": 342,
   "id": "c53771e1-eecc-4bff-9c72-a7b2c07f198a",
   "metadata": {},
   "outputs": [
    {
     "data": {
      "text/plain": [
       "array([[0.37170107, 0.66361077],\n",
       "       [0.32648862, 0.42569716],\n",
       "       [0.04205696, 0.32725433],\n",
       "       [0.39429985, 0.65138701],\n",
       "       [0.62180303, 0.73015901],\n",
       "       [0.10758174, 0.1136975 ],\n",
       "       [0.95640624, 0.23972225],\n",
       "       [0.04997491, 0.70116117],\n",
       "       [0.52770314, 0.05152837],\n",
       "       [0.19464618, 0.93101652]])"
      ]
     },
     "execution_count": 342,
     "metadata": {},
     "output_type": "execute_result"
    }
   ],
   "source": [
    "x=np.random.rand(10,2)\n",
    "x"
   ]
  },
  {
   "cell_type": "code",
   "execution_count": 343,
   "id": "fa16c7b4-0975-46b5-ba68-2794d2fa4bad",
   "metadata": {},
   "outputs": [
    {
     "data": {
      "text/plain": [
       "array([[-0.32735138,  0.42233783],\n",
       "       [-0.44963002, -0.18733967],\n",
       "       [-1.72729931, -0.44750753],\n",
       "       [-0.26812941,  0.38906782],\n",
       "       [ 0.31021965,  0.61329397],\n",
       "       [-1.23949167, -1.20709643],\n",
       "       [ 1.71042389, -0.70719631],\n",
       "       [-1.64509697,  0.5277431 ],\n",
       "       [ 0.06949738, -1.63021183],\n",
       "       [-0.86090137,  1.48340454]])"
      ]
     },
     "execution_count": 343,
     "metadata": {},
     "output_type": "execute_result"
    }
   ],
   "source": [
    "norm.ppf(x)"
   ]
  },
  {
   "cell_type": "code",
   "execution_count": 344,
   "id": "026d59e5-d6ae-4ec0-8245-e8e8da30ecce",
   "metadata": {},
   "outputs": [
    {
     "data": {
      "text/plain": [
       "array([[-2.42259152,  0.25507414],\n",
       "       [-0.26605178,  0.44568648],\n",
       "       [ 1.35638869,  0.1724458 ],\n",
       "       [ 0.15289318, -0.84104373],\n",
       "       [ 0.19142529, -0.91151075],\n",
       "       [ 0.2688384 ,  0.89235299],\n",
       "       [-0.1558556 ,  0.11598376],\n",
       "       [ 1.29717032, -1.9800267 ],\n",
       "       [-0.13250797,  0.41415803],\n",
       "       [-1.75069641, -0.30947747]])"
      ]
     },
     "execution_count": 344,
     "metadata": {},
     "output_type": "execute_result"
    }
   ],
   "source": [
    "Z=norm.ppf(np.random.rand(10,2))\n",
    "Z"
   ]
  },
  {
   "cell_type": "code",
   "execution_count": 345,
   "id": "ec201d61-b360-4f06-acd0-a7e7192721fa",
   "metadata": {},
   "outputs": [],
   "source": [
    "t_intervals = 1000\n",
    "iterations =10"
   ]
  },
  {
   "cell_type": "code",
   "execution_count": 349,
   "id": "66877e4d-28de-471c-bc1a-f9acf1aa22ac",
   "metadata": {},
   "outputs": [],
   "source": [
    "daily_returns = np.exp(drift.values + stdev.values * norm.ppf(np.random.rand(t_intervals,iterations)))"
   ]
  },
  {
   "cell_type": "code",
   "execution_count": 350,
   "id": "14e3a5c0-ddae-4ad0-8975-a40b3a3a1856",
   "metadata": {},
   "outputs": [
    {
     "data": {
      "text/plain": [
       "array([[0.97572677, 0.97961868, 1.00903642, ..., 0.99630384, 0.99773554,\n",
       "        1.01289116],\n",
       "       [0.99424226, 1.00241839, 1.0106151 , ..., 1.00845068, 0.99923668,\n",
       "        1.00193917],\n",
       "       [0.99092683, 1.01848491, 1.00910499, ..., 1.01787796, 1.00435023,\n",
       "        1.00276695],\n",
       "       ...,\n",
       "       [1.01766259, 1.01069146, 0.99796136, ..., 0.99492446, 1.00706768,\n",
       "        0.99154302],\n",
       "       [1.0221602 , 0.99661199, 1.00227927, ..., 1.00546152, 1.00064745,\n",
       "        1.00534859],\n",
       "       [0.99211864, 1.00270856, 1.0038315 , ..., 1.02368026, 0.9998804 ,\n",
       "        0.97391762]])"
      ]
     },
     "execution_count": 350,
     "metadata": {},
     "output_type": "execute_result"
    }
   ],
   "source": [
    "daily_returns"
   ]
  },
  {
   "cell_type": "code",
   "execution_count": 351,
   "id": "cca67f81-ab87-4b84-8c35-0b68478a778e",
   "metadata": {},
   "outputs": [
    {
     "data": {
      "text/plain": [
       "PG    158.25\n",
       "Name: 2021-12-14 00:00:00, dtype: float64"
      ]
     },
     "execution_count": 351,
     "metadata": {},
     "output_type": "execute_result"
    }
   ],
   "source": [
    "S0=data.iloc[-1]\n",
    "S0"
   ]
  },
  {
   "cell_type": "code",
   "execution_count": 352,
   "id": "c4824d7e-48ce-4501-8497-633031b1393b",
   "metadata": {},
   "outputs": [],
   "source": [
    "price_list = np.zeros_like(daily_returns)"
   ]
  },
  {
   "cell_type": "code",
   "execution_count": 353,
   "id": "77fbb8b8-bded-4141-a295-beb524e320b5",
   "metadata": {},
   "outputs": [
    {
     "data": {
      "text/plain": [
       "array([[0., 0., 0., ..., 0., 0., 0.],\n",
       "       [0., 0., 0., ..., 0., 0., 0.],\n",
       "       [0., 0., 0., ..., 0., 0., 0.],\n",
       "       ...,\n",
       "       [0., 0., 0., ..., 0., 0., 0.],\n",
       "       [0., 0., 0., ..., 0., 0., 0.],\n",
       "       [0., 0., 0., ..., 0., 0., 0.]])"
      ]
     },
     "execution_count": 353,
     "metadata": {},
     "output_type": "execute_result"
    }
   ],
   "source": [
    "price_list"
   ]
  },
  {
   "cell_type": "code",
   "execution_count": 361,
   "id": "02646f03-dac0-41c3-aa20-bab5663ce168",
   "metadata": {},
   "outputs": [
    {
     "data": {
      "text/plain": [
       "array([30., 30., 30., 30., 30., 30., 30., 30., 30., 30.])"
      ]
     },
     "execution_count": 361,
     "metadata": {},
     "output_type": "execute_result"
    }
   ],
   "source": [
    "price_list[0]"
   ]
  },
  {
   "cell_type": "code",
   "execution_count": 362,
   "id": "12f1174e-01d7-4100-86b7-12f6a27eb5b9",
   "metadata": {},
   "outputs": [
    {
     "data": {
      "text/plain": [
       "array([[30.        , 30.        , 30.        , ..., 30.        ,\n",
       "        30.        , 30.        ],\n",
       "       [29.82726774, 30.07255172, 30.31845298, ..., 30.25352027,\n",
       "        29.97710028, 30.05817504],\n",
       "       [29.55663988, 30.62843999, 30.59450224, ..., 30.79439152,\n",
       "        30.10750771, 30.14134443],\n",
       "       ...,\n",
       "       [44.93139003, 37.33188365, 51.49846319, ..., 64.58998862,\n",
       "        65.22032843, 36.13450249],\n",
       "       [45.92707858, 37.20540289, 51.61584204, ..., 64.94274818,\n",
       "        65.26255514, 36.32777108],\n",
       "       [45.56511056, 37.30617612, 51.8136081 , ..., 66.4806092 ,\n",
       "        65.25474955, 35.38025635]])"
      ]
     },
     "execution_count": 362,
     "metadata": {},
     "output_type": "execute_result"
    }
   ],
   "source": [
    "price_list[0] = 30\n",
    "price_list"
   ]
  },
  {
   "cell_type": "code",
   "execution_count": 363,
   "id": "9f9f89d7-7b0c-42f6-bbe2-170f86dc86ff",
   "metadata": {},
   "outputs": [],
   "source": [
    "for t in range(1,t_intervals):\n",
    "    price_list[t] = price_list[t-1]*daily_returns[t]"
   ]
  },
  {
   "cell_type": "code",
   "execution_count": 364,
   "id": "dbafb898-7ea7-45e3-9b81-201854a47be9",
   "metadata": {},
   "outputs": [
    {
     "data": {
      "text/plain": [
       "array([[30.        , 30.        , 30.        , ..., 30.        ,\n",
       "        30.        , 30.        ],\n",
       "       [29.82726774, 30.07255172, 30.31845298, ..., 30.25352027,\n",
       "        29.97710028, 30.05817504],\n",
       "       [29.55663988, 30.62843999, 30.59450224, ..., 30.79439152,\n",
       "        30.10750771, 30.14134443],\n",
       "       ...,\n",
       "       [44.93139003, 37.33188365, 51.49846319, ..., 64.58998862,\n",
       "        65.22032843, 36.13450249],\n",
       "       [45.92707858, 37.20540289, 51.61584204, ..., 64.94274818,\n",
       "        65.26255514, 36.32777108],\n",
       "       [45.56511056, 37.30617612, 51.8136081 , ..., 66.4806092 ,\n",
       "        65.25474955, 35.38025635]])"
      ]
     },
     "execution_count": 364,
     "metadata": {},
     "output_type": "execute_result"
    }
   ],
   "source": [
    "price_list"
   ]
  },
  {
   "cell_type": "code",
   "execution_count": 365,
   "id": "07e09743-c58f-4366-9d2c-8ae91febb36a",
   "metadata": {},
   "outputs": [
    {
     "data": {
      "image/png": "[encoded data removed]",
      "text/plain": [
       "<Figure size 720x432 with 1 Axes>"
      ]
     },
     "metadata": {
      "needs_background": "light"
     },
     "output_type": "display_data"
    }
   ],
   "source": [
    "plt.figure(figsize=(10,6))\n",
    "plt.plot(price_list);"
   ]
  },
  {
   "cell_type": "code",
   "execution_count": null,
   "id": "ac2680d6-3e4f-4c7d-9b6e-fc06751f9cf5",
   "metadata": {},
   "outputs": [],
   "source": []
  }
 ],
 "metadata": {
  "kernelspec": {
   "display_name": "Python 3 (ipykernel)",
   "language": "python",
   "name": "python3"
  },
  "language_info": {
   "codemirror_mode": {
    "name": "ipython",
    "version": 3
   },
   "file_extension": ".py",
   "mimetype": "text/x-python",
   "name": "python",
   "nbconvert_exporter": "python",
   "pygments_lexer": "ipython3",
   "version": "3.9.7"
  }
 },
 "nbformat": 4,
 "nbformat_minor": 5
}
